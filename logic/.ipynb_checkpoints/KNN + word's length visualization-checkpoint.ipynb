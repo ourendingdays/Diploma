{
 "cells": [
  {
   "cell_type": "code",
   "execution_count": 11,
   "metadata": {},
   "outputs": [],
   "source": [
    "import pandas as pd\n",
    "import numpy as np\n",
    "import matplotlib.pyplot as plt\n",
    "%matplotlib inline\n",
    "\n",
    "import spacy\n",
    "nlp = spacy.load('en_core_web_lg')\n",
    "\n",
    "import re\n",
    "\n",
    "from sklearn.feature_extraction.text import CountVectorizer, TfidfVectorizer\n",
    "from sklearn.cluster import DBSCAN\n",
    "\n",
    "import warnings\n",
    "warnings.filterwarnings('ignore')"
   ]
  },
  {
   "cell_type": "code",
   "execution_count": 3,
   "metadata": {},
   "outputs": [
    {
     "data": {
      "text/html": [
       "<div>\n",
       "<style scoped>\n",
       "    .dataframe tbody tr th:only-of-type {\n",
       "        vertical-align: middle;\n",
       "    }\n",
       "\n",
       "    .dataframe tbody tr th {\n",
       "        vertical-align: top;\n",
       "    }\n",
       "\n",
       "    .dataframe thead th {\n",
       "        text-align: right;\n",
       "    }\n",
       "</style>\n",
       "<table border=\"1\" class=\"dataframe\">\n",
       "  <thead>\n",
       "    <tr style=\"text-align: right;\">\n",
       "      <th></th>\n",
       "      <th>ad</th>\n",
       "    </tr>\n",
       "  </thead>\n",
       "  <tbody>\n",
       "    <tr>\n",
       "      <td>count</td>\n",
       "      <td>10000</td>\n",
       "    </tr>\n",
       "    <tr>\n",
       "      <td>unique</td>\n",
       "      <td>9934</td>\n",
       "    </tr>\n",
       "    <tr>\n",
       "      <td>top</td>\n",
       "      <td>USB Printer with 3 Year Printer Warranty</td>\n",
       "    </tr>\n",
       "    <tr>\n",
       "      <td>freq</td>\n",
       "      <td>6</td>\n",
       "    </tr>\n",
       "  </tbody>\n",
       "</table>\n",
       "</div>"
      ],
      "text/plain": [
       "                                              ad\n",
       "count                                      10000\n",
       "unique                                      9934\n",
       "top     USB Printer with 3 Year Printer Warranty\n",
       "freq                                           6"
      ]
     },
     "execution_count": 3,
     "metadata": {},
     "output_type": "execute_result"
    }
   ],
   "source": [
    "df = pd.read_csv('amazon_ten_topic_data.csv', names=['ad'])\n",
    "df.dropna(inplace=True)\n",
    "df = df.sample(frac=1)\n",
    "df.describe()"
   ]
  },
  {
   "cell_type": "code",
   "execution_count": 4,
   "metadata": {},
   "outputs": [
    {
     "data": {
      "text/html": [
       "<div>\n",
       "<style scoped>\n",
       "    .dataframe tbody tr th:only-of-type {\n",
       "        vertical-align: middle;\n",
       "    }\n",
       "\n",
       "    .dataframe tbody tr th {\n",
       "        vertical-align: top;\n",
       "    }\n",
       "\n",
       "    .dataframe thead th {\n",
       "        text-align: right;\n",
       "    }\n",
       "</style>\n",
       "<table border=\"1\" class=\"dataframe\">\n",
       "  <thead>\n",
       "    <tr style=\"text-align: right;\">\n",
       "      <th></th>\n",
       "      <th>ad</th>\n",
       "    </tr>\n",
       "  </thead>\n",
       "  <tbody>\n",
       "    <tr>\n",
       "      <td>9929</td>\n",
       "      <td>James Jeans Women's James Twiggy Ankle 5-Pocke...</td>\n",
       "    </tr>\n",
       "    <tr>\n",
       "      <td>9930</td>\n",
       "      <td>mDesign Modern Round Metal Small Trash Can Was...</td>\n",
       "    </tr>\n",
       "    <tr>\n",
       "      <td>9931</td>\n",
       "      <td>Ted Baker London Women's Low-Top, Beige (Nude/...</td>\n",
       "    </tr>\n",
       "    <tr>\n",
       "      <td>9932</td>\n",
       "      <td>Philips 221B8LJEB 21.5\" Monitor, Full HD 1920x...</td>\n",
       "    </tr>\n",
       "    <tr>\n",
       "      <td>9933</td>\n",
       "      <td>Canon MG7720 Wireless All-In-One Printer with ...</td>\n",
       "    </tr>\n",
       "  </tbody>\n",
       "</table>\n",
       "</div>"
      ],
      "text/plain": [
       "                                                     ad\n",
       "9929  James Jeans Women's James Twiggy Ankle 5-Pocke...\n",
       "9930  mDesign Modern Round Metal Small Trash Can Was...\n",
       "9931  Ted Baker London Women's Low-Top, Beige (Nude/...\n",
       "9932  Philips 221B8LJEB 21.5\" Monitor, Full HD 1920x...\n",
       "9933  Canon MG7720 Wireless All-In-One Printer with ..."
      ]
     },
     "execution_count": 4,
     "metadata": {},
     "output_type": "execute_result"
    }
   ],
   "source": [
    "ads = pd.DataFrame(df['ad'].unique(), columns = ['ad'])\n",
    "ads.tail()"
   ]
  },
  {
   "cell_type": "code",
   "execution_count": 5,
   "metadata": {},
   "outputs": [
    {
     "name": "stdout",
     "output_type": "stream",
     "text": [
      "11.0\n"
     ]
    }
   ],
   "source": [
    "def get_num_words_per_sample(sample_texts):\n",
    "    \"\"\"Returns the median number of words per sample given corpus.\n",
    "\n",
    "    # Arguments\n",
    "        sample_texts: list, sample texts.\n",
    "\n",
    "    # Returns\n",
    "        int, median number of words per sample.\n",
    "    \"\"\"\n",
    "    num_words = [len(s.split()) for s in sample_texts]\n",
    "    return np.median(num_words)\n",
    "\n",
    "print(get_num_words_per_sample(ads['ad']))"
   ]
  },
  {
   "cell_type": "code",
   "execution_count": 6,
   "metadata": {},
   "outputs": [
    {
     "data": {
      "image/png": "[encoded data removed]",
      "text/plain": [
       "<Figure size 1440x720 with 1 Axes>"
      ]
     },
     "metadata": {
      "needs_background": "light"
     },
     "output_type": "display_data"
    }
   ],
   "source": [
    "def plot_sample_length_distribution(sample_texts):\n",
    "    \"\"\"Plots the sample length distribution.\n",
    "\n",
    "    # Arguments\n",
    "        samples_texts: list, sample texts.\n",
    "    \"\"\"\n",
    "    \n",
    "    plt.figure(figsize=(20,10))\n",
    "    plt.hist([len(s) for s in sample_texts], 100)\n",
    "    plt.xlabel('Length of a sample')\n",
    "    plt.ylabel('Number of samples')\n",
    "    plt.title('Sample length distribution')\n",
    "    plt.show()\n",
    "    \n",
    "\n",
    "plot_sample_length_distribution(ads['ad'])"
   ]
  },
  {
   "cell_type": "markdown",
   "metadata": {},
   "source": [
    "### Removing stopwords "
   ]
  },
  {
   "cell_type": "code",
   "execution_count": 7,
   "metadata": {},
   "outputs": [
    {
     "data": {
      "text/html": [
       "<div>\n",
       "<style scoped>\n",
       "    .dataframe tbody tr th:only-of-type {\n",
       "        vertical-align: middle;\n",
       "    }\n",
       "\n",
       "    .dataframe tbody tr th {\n",
       "        vertical-align: top;\n",
       "    }\n",
       "\n",
       "    .dataframe thead th {\n",
       "        text-align: right;\n",
       "    }\n",
       "</style>\n",
       "<table border=\"1\" class=\"dataframe\">\n",
       "  <thead>\n",
       "    <tr style=\"text-align: right;\">\n",
       "      <th></th>\n",
       "      <th>ad</th>\n",
       "      <th>SW</th>\n",
       "    </tr>\n",
       "  </thead>\n",
       "  <tbody>\n",
       "    <tr>\n",
       "      <td>0</td>\n",
       "      <td>Puma Women's Low-Top, Black-Teal Green 09, 8.5 us</td>\n",
       "      <td>Puma Women Low Black Teal Green</td>\n",
       "    </tr>\n",
       "    <tr>\n",
       "      <td>1</td>\n",
       "      <td>Pataugas Women's Jester/N F2e N Trainers</td>\n",
       "      <td>Pataugas Women Jester N  N Trainers</td>\n",
       "    </tr>\n",
       "    <tr>\n",
       "      <td>2</td>\n",
       "      <td>Fashion Supre.me Backpack Unisex Casual Colleg...</td>\n",
       "      <td>Fashion Supre.me Backpack Unisex Casual Colleg...</td>\n",
       "    </tr>\n",
       "    <tr>\n",
       "      <td>3</td>\n",
       "      <td>HP Officejet 6600 e-All-in-One Wireless Color ...</td>\n",
       "      <td>HP Officejet e Wireless Color Photo Printer Sc...</td>\n",
       "    </tr>\n",
       "    <tr>\n",
       "      <td>4</td>\n",
       "      <td>BRTMFCJ410W - Brother MFC-J410W Wireless Compa...</td>\n",
       "      <td>Brother MFC  Wireless Compact Inkjet Printer</td>\n",
       "    </tr>\n",
       "  </tbody>\n",
       "</table>\n",
       "</div>"
      ],
      "text/plain": [
       "                                                  ad  \\\n",
       "0  Puma Women's Low-Top, Black-Teal Green 09, 8.5 us   \n",
       "1           Pataugas Women's Jester/N F2e N Trainers   \n",
       "2  Fashion Supre.me Backpack Unisex Casual Colleg...   \n",
       "3  HP Officejet 6600 e-All-in-One Wireless Color ...   \n",
       "4  BRTMFCJ410W - Brother MFC-J410W Wireless Compa...   \n",
       "\n",
       "                                                  SW  \n",
       "0                    Puma Women Low Black Teal Green  \n",
       "1                Pataugas Women Jester N  N Trainers  \n",
       "2  Fashion Supre.me Backpack Unisex Casual Colleg...  \n",
       "3  HP Officejet e Wireless Color Photo Printer Sc...  \n",
       "4       Brother MFC  Wireless Compact Inkjet Printer  "
      ]
     },
     "execution_count": 7,
     "metadata": {},
     "output_type": "execute_result"
    }
   ],
   "source": [
    "def stopwords(text):\n",
    "    \"\"\"\n",
    "    Function for removing \n",
    "        - stopwords,\n",
    "        - punctuation,\n",
    "        - numbers / digits\n",
    "        - words containing numbers\n",
    "    \"\"\"\n",
    "    doc = nlp(text)\n",
    "    for token in doc:\n",
    "        text = [token.text for token in doc if \n",
    "                not token.is_stop \n",
    "                and not token.is_punct \n",
    "                and not token.is_digit]\n",
    "        \n",
    "        \n",
    "    # joining the list of words with space separator\n",
    "    joined_text = \" \".join(text)\n",
    "    # removing words that contain any sort of numbers, like 'G2420-BK' or 'G1W40A#BGJ '\n",
    "    re_text = re.sub(r\"\\S*\\d\\S*\", '', joined_text).strip()\n",
    "    \n",
    "    return re_text\n",
    "\n",
    "\n",
    "ads['SW'] = ads['ad'].apply(stopwords)\n",
    "ads.head()"
   ]
  },
  {
   "cell_type": "code",
   "execution_count": 8,
   "metadata": {},
   "outputs": [],
   "source": [
    "ads['SW']=ads['SW'].str.replace(\"  \",\" \")"
   ]
  },
  {
   "cell_type": "code",
   "execution_count": 9,
   "metadata": {},
   "outputs": [
    {
     "data": {
      "image/png": "[encoded data removed]",
      "text/plain": [
       "<Figure size 1440x720 with 1 Axes>"
      ]
     },
     "metadata": {
      "needs_background": "light"
     },
     "output_type": "display_data"
    }
   ],
   "source": [
    "def plot_frequency_distribution_of_ngrams(sample_texts,\n",
    "                                          ngram_range=(1, 1),\n",
    "                                          num_ngrams=20):\n",
    "    \"\"\"Plots the frequency distribution of n-grams.\n",
    "    # Arguments\n",
    "        samples_texts: list, sample texts.\n",
    "        ngram_range: tuple (min, mplt), The range of n-gram values to consider.\n",
    "            Min and mplt are the lower and upper bound values for the range.\n",
    "        num_ngrams: int, number of n-grams to plot.\n",
    "            Top `num_ngrams` frequent n-grams will be plotted.\n",
    "    \"\"\"\n",
    "    # Create args required for vectorizing.\n",
    "    kwargs = {\n",
    "            'ngram_range': (1, 1),\n",
    "            'dtype': 'int32',\n",
    "            'strip_accents': 'unicode',\n",
    "            'decode_error': 'replace',\n",
    "            'analyzer': 'word',  # Split text into word tokens.\n",
    "    }\n",
    "    vectorizer = CountVectorizer(**kwargs)\n",
    "\n",
    "    # This creates a vocabulary (dict, where keys are n-grams and values are\n",
    "    # idxices). This also converts every text to an array the length of\n",
    "    # vocabulary, where every element idxicates the count of the n-gram\n",
    "    # corresponding at that idxex in vocabulary.\n",
    "    vectorized_texts = vectorizer.fit_transform(sample_texts)\n",
    "\n",
    "    # This is the list of all n-grams in the index order from the vocabulary.\n",
    "    all_ngrams = list(vectorizer.get_feature_names())\n",
    "    num_ngrams = min(num_ngrams, len(all_ngrams))\n",
    "    # ngrams = all_ngrams[:num_ngrams]\n",
    "\n",
    "    # Add up the counts per n-gram ie. column-wise\n",
    "    all_counts = vectorized_texts.sum(axis=0).tolist()[0]\n",
    "\n",
    "    # Sort n-grams and counts by frequency and get top `num_ngrams` ngrams.\n",
    "    all_counts, all_ngrams = zip(*[(c, n) for c, n in sorted(\n",
    "        zip(all_counts, all_ngrams), reverse=True)])\n",
    "    ngrams = list(all_ngrams)[:num_ngrams]\n",
    "    counts = list(all_counts)[:num_ngrams]\n",
    "\n",
    "    idx = np.arange(num_ngrams)\n",
    "    plt.figure(figsize=(20,10))\n",
    "    plt.bar(idx, counts, width=0.8, color='b')\n",
    "    plt.xlabel('N-grams')\n",
    "    plt.ylabel('Frequencies')\n",
    "    plt.title('Frequency distribution of n-grams')\n",
    "    plt.xticks(idx, ngrams, rotation=45)\n",
    "    plt.show()\n",
    "    \n",
    "    \n",
    "plot_frequency_distribution_of_ngrams(ads['SW'])"
   ]
  },
  {
   "cell_type": "code",
   "execution_count": 79,
   "metadata": {},
   "outputs": [
    {
     "data": {
      "text/plain": [
       "(9934, 11581)"
      ]
     },
     "execution_count": 79,
     "metadata": {},
     "output_type": "execute_result"
    }
   ],
   "source": [
    "tfidf = TfidfVectorizer(max_df=0.95)\n",
    "\n",
    "dtm = tfidf.fit_transform(ads.SW.values)\n",
    "\n",
    "dtm.shape"
   ]
  },
  {
   "cell_type": "code",
   "execution_count": 82,
   "metadata": {
    "collapsed": true
   },
   "outputs": [
    {
     "name": "stdout",
     "output_type": "stream",
     "text": [
      "  (0, 4195)\t0.46320630049189715\n",
      "  (0, 10050)\t0.5708418204294092\n",
      "  (0, 1036)\t0.2423205443763445\n",
      "  (0, 5924)\t0.37861837164968376\n",
      "  (0, 11272)\t0.20037846320495828\n",
      "  (0, 8015)\t0.4662155007499875\n",
      "  (1, 10415)\t0.3801123900991622\n",
      "  (1, 5122)\t0.6419206925052615\n",
      "  (1, 7410)\t0.6419206925052615\n",
      "  (1, 11272)\t0.17717285333886024\n",
      "  (2, 7132)\t0.333188125835371\n",
      "  (2, 1102)\t0.16346986768088015\n",
      "  (2, 7618)\t0.19379630551365726\n",
      "  (2, 6282)\t0.1826315886972096\n",
      "  (2, 8786)\t0.17663134523746982\n",
      "  (2, 10440)\t0.17501689622001979\n",
      "  (2, 5756)\t0.20222823889550062\n",
      "  (2, 2055)\t0.21595981701689948\n",
      "  (2, 1671)\t0.18574414453340374\n",
      "  (2, 10698)\t0.1926335357432616\n",
      "  (2, 704)\t0.5222258455440136\n",
      "  (2, 6237)\t0.359380103223345\n",
      "  (2, 9861)\t0.359380103223345\n",
      "  (2, 3502)\t0.17416452092335227\n",
      "  (2, 11272)\t0.09496169267974168\n",
      "  :\t:\n",
      "  (9932, 2781)\t0.2747141744410618\n",
      "  (9932, 9443)\t0.2640225282938187\n",
      "  (9932, 10742)\t0.2008543945237217\n",
      "  (9932, 4675)\t0.2581025655171951\n",
      "  (9932, 120)\t0.22793033780347974\n",
      "  (9932, 3102)\t0.2922887957468277\n",
      "  (9932, 4459)\t0.26155890199686227\n",
      "  (9932, 4412)\t0.1947444020291484\n",
      "  (9932, 10892)\t0.22709644741371468\n",
      "  (9932, 4410)\t0.20567804585870222\n",
      "  (9932, 6548)\t0.15406862944640293\n",
      "  (9933, 189)\t0.3320495705352217\n",
      "  (9933, 4128)\t0.34003581475019756\n",
      "  (9933, 1990)\t0.3268291521569864\n",
      "  (9933, 9959)\t0.3037457766358576\n",
      "  (9933, 7917)\t0.25474190208333186\n",
      "  (9933, 7911)\t0.24608663695711083\n",
      "  (9933, 1563)\t0.2522532779927419\n",
      "  (9933, 4113)\t0.22289971443121548\n",
      "  (9933, 6497)\t0.2573672234114352\n",
      "  (9933, 2122)\t0.23310098369985194\n",
      "  (9933, 2224)\t0.2795289389531341\n",
      "  (9933, 8770)\t0.2795289389531341\n",
      "  (9933, 7915)\t0.16676934319133352\n",
      "  (9933, 11241)\t0.1778005675241918\n"
     ]
    }
   ],
   "source": [
    "print(dtm)"
   ]
  },
  {
   "cell_type": "markdown",
   "metadata": {},
   "source": [
    "### NEAREST NEIGNBOR SEARCH"
   ]
  },
  {
   "cell_type": "code",
   "execution_count": 85,
   "metadata": {},
   "outputs": [
    {
     "data": {
      "text/plain": [
       "(9934, 11581)"
      ]
     },
     "execution_count": 85,
     "metadata": {},
     "output_type": "execute_result"
    }
   ],
   "source": [
    "tfidf = TfidfVectorizer().fit_transform(ads['SW'])\n",
    "\n",
    "tfidf.shape"
   ]
  },
  {
   "cell_type": "code",
   "execution_count": 86,
   "metadata": {},
   "outputs": [
    {
     "data": {
      "text/plain": [
       "NearestNeighbors(algorithm='auto', leaf_size=30, metric='cosine',\n",
       "                 metric_params=None, n_jobs=None, n_neighbors=10, p=2,\n",
       "                 radius=1.0)"
      ]
     },
     "execution_count": 86,
     "metadata": {},
     "output_type": "execute_result"
    }
   ],
   "source": [
    "from sklearn.neighbors import NearestNeighbors\n",
    "knn = NearestNeighbors(n_neighbors=10, metric='cosine')\n",
    "knn.fit(tfidf)"
   ]
  },
  {
   "cell_type": "code",
   "execution_count": 87,
   "metadata": {},
   "outputs": [
    {
     "data": {
      "text/plain": [
       "array([[   0, 3801, 1084, 8259, 5864, 1936,  227, 2689, 1522, 2264]])"
      ]
     },
     "execution_count": 87,
     "metadata": {},
     "output_type": "execute_result"
    }
   ],
   "source": [
    "knn.kneighbors(features[0:1], return_distance=False)"
   ]
  },
  {
   "cell_type": "code",
   "execution_count": 88,
   "metadata": {},
   "outputs": [
    {
     "data": {
      "text/plain": [
       "(array([[0.        , 0.32207704, 0.36686471, 0.46181979, 0.48400344,\n",
       "         0.53133521, 0.5481793 , 0.55724627, 0.60624022, 0.61672622]]),\n",
       " array([[   0, 3801, 1084, 8259, 5864, 1936,  227, 2689, 1522, 2264]]))"
      ]
     },
     "execution_count": 88,
     "metadata": {},
     "output_type": "execute_result"
    }
   ],
   "source": [
    "knn.kneighbors(features[0:1], return_distance=True)"
   ]
  },
  {
   "cell_type": "code",
   "execution_count": 98,
   "metadata": {},
   "outputs": [],
   "source": [
    "input_ad = ['Canon CanoScan Lide 300 Scanner', \"Puma 19.5\"\" The Pace Backpack - Camouflage/Orange with Laptop Sleeve Back Pack\"]\n",
    "input_features = vec.transform(input_ad)"
   ]
  },
  {
   "cell_type": "code",
   "execution_count": 99,
   "metadata": {},
   "outputs": [
    {
     "name": "stdout",
     "output_type": "stream",
     "text": [
      "Input text =  Canon CanoScan Lide 300 Scanner \n",
      "\n",
      "Distance =  0.4164815441813312 Neighbor idx =  2344\n",
      "Canon PIXMA Wireless Color Printer Scanner Copier\n",
      "--------------------------------------------------------------------------------------------------------------------------------------------------------------------------------------------------------\n",
      "Distance =  0.458113431547595 Neighbor idx =  3179\n",
      "Canon imageCLASS Monochrome Laser Printer Scanner Copier\n",
      "--------------------------------------------------------------------------------------------------------------------------------------------------------------------------------------------------------\n",
      "========================================================================================================================================================================================================\n",
      "\n",
      "Input text =  Puma 19.5 The Pace Backpack - Camouflage/Orange with Laptop Sleeve Back Pack \n",
      "\n",
      "Distance =  0.734900029021486 Neighbor idx =  4589\n",
      "Puma Unisex Layered Print Backpack Adult Camouflage OS\n",
      "--------------------------------------------------------------------------------------------------------------------------------------------------------------------------------------------------------\n",
      "Distance =  0.7455747162995585 Neighbor idx =  1023\n",
      "Zenna Home The- Showerhead Shower Caddy White\n",
      "--------------------------------------------------------------------------------------------------------------------------------------------------------------------------------------------------------\n",
      "========================================================================================================================================================================================================\n",
      "\n"
     ]
    }
   ],
   "source": [
    "D, N = knn.kneighbors(input_features, n_neighbors=2, return_distance=True)\n",
    "\n",
    "for input_text, distances, neighbors in zip(input_ad, D, N):\n",
    "    print(\"Input text = \", input_text[:200], \"\\n\")\n",
    "    for dist, neighbor_idx in zip(distances, neighbors):\n",
    "        print(\"Distance = \", dist, \"Neighbor idx = \", neighbor_idx)\n",
    "        print(ads['SW'][neighbor_idx][:200])\n",
    "        print(\"-\"*200)\n",
    "    print(\"=\"*200)\n",
    "    print()"
   ]
  },
  {
   "cell_type": "code",
   "execution_count": null,
   "metadata": {},
   "outputs": [],
   "source": []
  }
 ],
 "metadata": {
  "kernelspec": {
   "display_name": "Python 3",
   "language": "python",
   "name": "python3"
  },
  "language_info": {
   "codemirror_mode": {
    "name": "ipython",
    "version": 3
   },
   "file_extension": ".py",
   "mimetype": "text/x-python",
   "name": "python",
   "nbconvert_exporter": "python",
   "pygments_lexer": "ipython3",
   "version": "3.7.4"
  }
 },
 "nbformat": 4,
 "nbformat_minor": 2
}
