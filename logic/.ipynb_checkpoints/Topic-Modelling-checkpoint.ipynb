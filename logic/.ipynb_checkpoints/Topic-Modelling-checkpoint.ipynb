{
 "cells": [
  {
   "cell_type": "code",
   "execution_count": 1,
   "metadata": {
    "collapsed": true
   },
   "outputs": [
    {
     "name": "stderr",
     "output_type": "stream",
     "text": [
      "/Library/Frameworks/Python.framework/Versions/3.7/lib/python3.7/importlib/_bootstrap.py:219: RuntimeWarning: numpy.ufunc size changed, may indicate binary incompatibility. Expected 216, got 192\n",
      "  return f(*args, **kwds)\n",
      "/Library/Frameworks/Python.framework/Versions/3.7/lib/python3.7/importlib/_bootstrap.py:219: RuntimeWarning: numpy.ufunc size changed, may indicate binary incompatibility. Expected 216, got 192\n",
      "  return f(*args, **kwds)\n"
     ]
    }
   ],
   "source": [
    "import pandas as pd\n",
    "from sklearn.feature_extraction.text import CountVectorizer, TfidfVectorizer\n",
    "from sklearn.decomposition import LatentDirichletAllocation, NMF"
   ]
  },
  {
   "cell_type": "code",
   "execution_count": 4,
   "metadata": {},
   "outputs": [
    {
     "data": {
      "text/html": [
       "<div>\n",
       "<style scoped>\n",
       "    .dataframe tbody tr th:only-of-type {\n",
       "        vertical-align: middle;\n",
       "    }\n",
       "\n",
       "    .dataframe tbody tr th {\n",
       "        vertical-align: top;\n",
       "    }\n",
       "\n",
       "    .dataframe thead th {\n",
       "        text-align: right;\n",
       "    }\n",
       "</style>\n",
       "<table border=\"1\" class=\"dataframe\">\n",
       "  <thead>\n",
       "    <tr style=\"text-align: right;\">\n",
       "      <th></th>\n",
       "      <th>ad</th>\n",
       "    </tr>\n",
       "  </thead>\n",
       "  <tbody>\n",
       "    <tr>\n",
       "      <td>0</td>\n",
       "      <td>JR2 Shining Double Row Crystal Metal License P...</td>\n",
       "    </tr>\n",
       "    <tr>\n",
       "      <td>1</td>\n",
       "      <td>[Upgraded]BOYISEN Trailer Hitch Pin Lock, 1/2\"...</td>\n",
       "    </tr>\n",
       "    <tr>\n",
       "      <td>2</td>\n",
       "      <td>SUMEX 5070138b Hubcap</td>\n",
       "    </tr>\n",
       "    <tr>\n",
       "      <td>3</td>\n",
       "      <td>Rugged Ridge 15201.16 1.25 Wheel Spacer for 20...</td>\n",
       "    </tr>\n",
       "    <tr>\n",
       "      <td>4</td>\n",
       "      <td>Bondhus 33034 Set of 8 Star T-handles, Graduat...</td>\n",
       "    </tr>\n",
       "  </tbody>\n",
       "</table>\n",
       "</div>"
      ],
      "text/plain": [
       "                                                  ad\n",
       "0  JR2 Shining Double Row Crystal Metal License P...\n",
       "1  [Upgraded]BOYISEN Trailer Hitch Pin Lock, 1/2\"...\n",
       "2                              SUMEX 5070138b Hubcap\n",
       "3  Rugged Ridge 15201.16 1.25 Wheel Spacer for 20...\n",
       "4  Bondhus 33034 Set of 8 Star T-handles, Graduat..."
      ]
     },
     "execution_count": 4,
     "metadata": {},
     "output_type": "execute_result"
    }
   ],
   "source": [
    "ads = pd.read_csv('amazon_ten_topic_data.csv', names=['ad'])\n",
    "ads.head()"
   ]
  },
  {
   "cell_type": "code",
   "execution_count": 42,
   "metadata": {},
   "outputs": [
    {
     "data": {
      "text/html": [
       "<div>\n",
       "<style scoped>\n",
       "    .dataframe tbody tr th:only-of-type {\n",
       "        vertical-align: middle;\n",
       "    }\n",
       "\n",
       "    .dataframe tbody tr th {\n",
       "        vertical-align: top;\n",
       "    }\n",
       "\n",
       "    .dataframe thead th {\n",
       "        text-align: right;\n",
       "    }\n",
       "</style>\n",
       "<table border=\"1\" class=\"dataframe\">\n",
       "  <thead>\n",
       "    <tr style=\"text-align: right;\">\n",
       "      <th></th>\n",
       "      <th>ad</th>\n",
       "    </tr>\n",
       "  </thead>\n",
       "  <tbody>\n",
       "    <tr>\n",
       "      <td>count</td>\n",
       "      <td>10000</td>\n",
       "    </tr>\n",
       "    <tr>\n",
       "      <td>unique</td>\n",
       "      <td>9934</td>\n",
       "    </tr>\n",
       "    <tr>\n",
       "      <td>top</td>\n",
       "      <td>USB Printer with 3 Year Printer Warranty</td>\n",
       "    </tr>\n",
       "    <tr>\n",
       "      <td>freq</td>\n",
       "      <td>6</td>\n",
       "    </tr>\n",
       "  </tbody>\n",
       "</table>\n",
       "</div>"
      ],
      "text/plain": [
       "                                              ad\n",
       "count                                      10000\n",
       "unique                                      9934\n",
       "top     USB Printer with 3 Year Printer Warranty\n",
       "freq                                           6"
      ]
     },
     "execution_count": 42,
     "metadata": {},
     "output_type": "execute_result"
    }
   ],
   "source": [
    "ads = ads.sample(frac=1)\n",
    "ads.dropna(inplace=True)\n",
    "ads.describe()"
   ]
  },
  {
   "cell_type": "code",
   "execution_count": 43,
   "metadata": {},
   "outputs": [
    {
     "data": {
      "text/html": [
       "<div>\n",
       "<style scoped>\n",
       "    .dataframe tbody tr th:only-of-type {\n",
       "        vertical-align: middle;\n",
       "    }\n",
       "\n",
       "    .dataframe tbody tr th {\n",
       "        vertical-align: top;\n",
       "    }\n",
       "\n",
       "    .dataframe thead th {\n",
       "        text-align: right;\n",
       "    }\n",
       "</style>\n",
       "<table border=\"1\" class=\"dataframe\">\n",
       "  <thead>\n",
       "    <tr style=\"text-align: right;\">\n",
       "      <th></th>\n",
       "      <th>ad</th>\n",
       "    </tr>\n",
       "  </thead>\n",
       "  <tbody>\n",
       "    <tr>\n",
       "      <td>7108</td>\n",
       "      <td>SIWY Women's Gaby High-Waisted Skinny Jeans in...</td>\n",
       "    </tr>\n",
       "    <tr>\n",
       "      <td>9751</td>\n",
       "      <td>Akribos Swarovski Crystal Women's Watch - Diam...</td>\n",
       "    </tr>\n",
       "    <tr>\n",
       "      <td>2269</td>\n",
       "      <td>Epson PictureMate Express Printer</td>\n",
       "    </tr>\n",
       "    <tr>\n",
       "      <td>226</td>\n",
       "      <td>Extreme Max 5001.5754 3-Position Motorcycle Wh...</td>\n",
       "    </tr>\n",
       "    <tr>\n",
       "      <td>211</td>\n",
       "      <td>OEM Suzuki JR 50 Junior Front or Rear Wheel Sp...</td>\n",
       "    </tr>\n",
       "  </tbody>\n",
       "</table>\n",
       "</div>"
      ],
      "text/plain": [
       "                                                     ad\n",
       "7108  SIWY Women's Gaby High-Waisted Skinny Jeans in...\n",
       "9751  Akribos Swarovski Crystal Women's Watch - Diam...\n",
       "2269                  Epson PictureMate Express Printer\n",
       "226   Extreme Max 5001.5754 3-Position Motorcycle Wh...\n",
       "211   OEM Suzuki JR 50 Junior Front or Rear Wheel Sp..."
      ]
     },
     "execution_count": 43,
     "metadata": {},
     "output_type": "execute_result"
    }
   ],
   "source": [
    "ads.head()"
   ]
  },
  {
   "cell_type": "code",
   "execution_count": 44,
   "metadata": {},
   "outputs": [
    {
     "data": {
      "text/html": [
       "<div>\n",
       "<style scoped>\n",
       "    .dataframe tbody tr th:only-of-type {\n",
       "        vertical-align: middle;\n",
       "    }\n",
       "\n",
       "    .dataframe tbody tr th {\n",
       "        vertical-align: top;\n",
       "    }\n",
       "\n",
       "    .dataframe thead th {\n",
       "        text-align: right;\n",
       "    }\n",
       "</style>\n",
       "<table border=\"1\" class=\"dataframe\">\n",
       "  <thead>\n",
       "    <tr style=\"text-align: right;\">\n",
       "      <th></th>\n",
       "      <th>ad</th>\n",
       "    </tr>\n",
       "  </thead>\n",
       "  <tbody>\n",
       "    <tr>\n",
       "      <td>count</td>\n",
       "      <td>9934</td>\n",
       "    </tr>\n",
       "    <tr>\n",
       "      <td>unique</td>\n",
       "      <td>9934</td>\n",
       "    </tr>\n",
       "    <tr>\n",
       "      <td>top</td>\n",
       "      <td>Moen BP6908CH Madison Paper Holder, Chrome</td>\n",
       "    </tr>\n",
       "    <tr>\n",
       "      <td>freq</td>\n",
       "      <td>1</td>\n",
       "    </tr>\n",
       "  </tbody>\n",
       "</table>\n",
       "</div>"
      ],
      "text/plain": [
       "                                                ad\n",
       "count                                         9934\n",
       "unique                                        9934\n",
       "top     Moen BP6908CH Madison Paper Holder, Chrome\n",
       "freq                                             1"
      ]
     },
     "execution_count": 44,
     "metadata": {},
     "output_type": "execute_result"
    }
   ],
   "source": [
    "ads_unique = pd.DataFrame(ads['ad'].unique(), columns = ['ad'])\n",
    "ads_unique.describe()"
   ]
  },
  {
   "cell_type": "markdown",
   "metadata": {},
   "source": [
    "### LDA"
   ]
  },
  {
   "cell_type": "code",
   "execution_count": 45,
   "metadata": {},
   "outputs": [
    {
     "data": {
      "text/plain": [
       "<9934x6579 sparse matrix of type '<class 'numpy.int64'>'\n",
       "\twith 105479 stored elements in Compressed Sparse Row format>"
      ]
     },
     "execution_count": 45,
     "metadata": {},
     "output_type": "execute_result"
    }
   ],
   "source": [
    "cv = CountVectorizer(max_df=0.9, min_df=2, stop_words='english')\n",
    "\n",
    "# document term matrix\n",
    "dtm = cv.fit_transform(ads_unique['ad'])\n",
    "\n",
    "dtm"
   ]
  },
  {
   "cell_type": "code",
   "execution_count": 46,
   "metadata": {},
   "outputs": [
    {
     "data": {
      "text/plain": [
       "LatentDirichletAllocation(batch_size=128, doc_topic_prior=None,\n",
       "                          evaluate_every=-1, learning_decay=0.7,\n",
       "                          learning_method='batch', learning_offset=10.0,\n",
       "                          max_doc_update_iter=100, max_iter=10,\n",
       "                          mean_change_tol=0.001, n_components=10, n_jobs=None,\n",
       "                          perp_tol=0.1, random_state=42, topic_word_prior=None,\n",
       "                          total_samples=1000000.0, verbose=0)"
      ]
     },
     "execution_count": 46,
     "metadata": {},
     "output_type": "execute_result"
    }
   ],
   "source": [
    "LDA = LatentDirichletAllocation(n_components=10,random_state=42)\n",
    "\n",
    "# This can take awhile, we're dealing with a large amount of documents!\n",
    "LDA.fit(dtm)"
   ]
  },
  {
   "cell_type": "code",
   "execution_count": 47,
   "metadata": {},
   "outputs": [
    {
     "data": {
      "text/html": [
       "<div>\n",
       "<style scoped>\n",
       "    .dataframe tbody tr th:only-of-type {\n",
       "        vertical-align: middle;\n",
       "    }\n",
       "\n",
       "    .dataframe tbody tr th {\n",
       "        vertical-align: top;\n",
       "    }\n",
       "\n",
       "    .dataframe thead th {\n",
       "        text-align: right;\n",
       "    }\n",
       "</style>\n",
       "<table border=\"1\" class=\"dataframe\">\n",
       "  <thead>\n",
       "    <tr style=\"text-align: right;\">\n",
       "      <th></th>\n",
       "      <th>ad</th>\n",
       "    </tr>\n",
       "  </thead>\n",
       "  <tbody>\n",
       "    <tr>\n",
       "      <td>0</td>\n",
       "      <td>SIWY Women's Gaby High-Waisted Skinny Jeans in...</td>\n",
       "    </tr>\n",
       "    <tr>\n",
       "      <td>1</td>\n",
       "      <td>Akribos Swarovski Crystal Women's Watch - Diam...</td>\n",
       "    </tr>\n",
       "    <tr>\n",
       "      <td>2</td>\n",
       "      <td>Epson PictureMate Express Printer</td>\n",
       "    </tr>\n",
       "    <tr>\n",
       "      <td>3</td>\n",
       "      <td>Extreme Max 5001.5754 3-Position Motorcycle Wh...</td>\n",
       "    </tr>\n",
       "    <tr>\n",
       "      <td>4</td>\n",
       "      <td>OEM Suzuki JR 50 Junior Front or Rear Wheel Sp...</td>\n",
       "    </tr>\n",
       "  </tbody>\n",
       "</table>\n",
       "</div>"
      ],
      "text/plain": [
       "                                                  ad\n",
       "0  SIWY Women's Gaby High-Waisted Skinny Jeans in...\n",
       "1  Akribos Swarovski Crystal Women's Watch - Diam...\n",
       "2                  Epson PictureMate Express Printer\n",
       "3  Extreme Max 5001.5754 3-Position Motorcycle Wh...\n",
       "4  OEM Suzuki JR 50 Junior Front or Rear Wheel Sp..."
      ]
     },
     "execution_count": 47,
     "metadata": {},
     "output_type": "execute_result"
    }
   ],
   "source": [
    "ads_unique.head()"
   ]
  },
  {
   "cell_type": "code",
   "execution_count": 48,
   "metadata": {
    "collapsed": true
   },
   "outputs": [
    {
     "name": "stdout",
     "output_type": "stream",
     "text": [
      "dpi\n",
      "plain\n",
      "authority\n",
      "classico\n",
      "buttons\n",
      "ipad\n",
      "trans\n",
      "traveler\n",
      "lightning\n",
      "protective\n"
     ]
    }
   ],
   "source": [
    "import random\n",
    "\n",
    "for i in range(10):\n",
    "    random_word_id = random.randint(0,6579)\n",
    "    print(cv.get_feature_names()[random_word_id])"
   ]
  },
  {
   "cell_type": "code",
   "execution_count": 49,
   "metadata": {},
   "outputs": [
    {
     "data": {
      "text/plain": [
       "10"
      ]
     },
     "execution_count": 49,
     "metadata": {},
     "output_type": "execute_result"
    }
   ],
   "source": [
    "len(LDA.components_)"
   ]
  },
  {
   "cell_type": "code",
   "execution_count": 50,
   "metadata": {},
   "outputs": [
    {
     "data": {
      "text/plain": [
       "(10, 6579)"
      ]
     },
     "execution_count": 50,
     "metadata": {},
     "output_type": "execute_result"
    }
   ],
   "source": [
    "LDA.components_.shape"
   ]
  },
  {
   "cell_type": "code",
   "execution_count": 51,
   "metadata": {
    "collapsed": true
   },
   "outputs": [
    {
     "name": "stdout",
     "output_type": "stream",
     "text": [
      "THE TOP 10 WORDS FOR TOPIC #0\n",
      "['hub', 'printer', 'center', 'cover', 'cap', 'stem', 'pack', 'thermal', 'usb', 'black', 'car', 'caps', 'valve', 'tire', 'wheel']\n",
      "\n",
      "\n",
      "THE TOP 10 WORDS FOR TOPIC #1\n",
      "['brown', 'puma', 'home', 'stool', 'shoes', 'fashion', 'storage', 'trainers', 'black', 'white', 'chair', 'sneakers', 'low', 'sneaker', 'women']\n",
      "\n",
      "\n",
      "THE TOP 10 WORDS FOR TOPIC #2\n",
      "['dell', 'ips', 'raspberry', 'touch', 'pi', 'hd', 'vga', 'black', 'hdmi', 'display', 'screen', 'led', 'lcd', 'inch', 'monitor']\n",
      "\n",
      "\n",
      "THE TOP 10 WORDS FOR TOPIC #3\n",
      "['gauge', 'portable', 'digital', 'scanner', 'head', 'canon', 'wireless', 'car', 'hp', 'color', 'air', 'pressure', 'tire', 'photo', 'printer']\n",
      "\n",
      "\n",
      "THE TOP 10 WORDS FOR TOPIC #4\n",
      "['wired', 'cancelling', 'iphone', 'microphone', 'headset', 'black', 'stereo', 'mic', 'earphones', 'noise', 'earbuds', 'wireless', 'bluetooth', 'ear', 'headphones']\n",
      "\n",
      "\n",
      "THE TOP 10 WORDS FOR TOPIC #5\n",
      "['leather', 'casual', 'new', 'fashion', 'sneaker', 'daypack', 'girls', 'men', 'black', 'laptop', 'travel', 'school', 'women', 'bag', 'backpack']\n",
      "\n",
      "\n",
      "THE TOP 10 WORDS FOR TOPIC #6\n",
      "['black', 'high', 'rise', 'jean', 'leather', 'womens', 'denim', 'stainless', 'steel', 'strap', 'skinny', 'quartz', 'jeans', 'watch', 'women']\n",
      "\n",
      "\n",
      "THE TOP 10 WORDS FOR TOPIC #7\n",
      "['chair', 'black', 'duplex', 'mobile', 'vanity', 'hp', 'lexmark', 'makeup', 'monochrome', 'color', 'wireless', 'printing', 'laser', 'mirror', 'printer']\n",
      "\n",
      "\n",
      "THE TOP 10 WORDS FOR TOPIC #8\n",
      "['fabric', '100', 'pack', 'towels', 'cotton', 'hooks', 'white', '12', '72', 'towel', 'set', 'bath', 'curtain', 'bathroom', 'shower']\n",
      "\n",
      "\n",
      "THE TOP 10 WORDS FOR TOPIC #9\n",
      "['curved', 'mount', 'kitchen', 'ips', '27', 'toilet', 'freesync', 'soap', 'inch', 'hdmi', 'wall', 'gaming', 'bathroom', 'monitor', 'holder']\n",
      "\n",
      "\n"
     ]
    }
   ],
   "source": [
    "for index,topic in enumerate(LDA.components_):\n",
    "    print(f'THE TOP 10 WORDS FOR TOPIC #{index}')\n",
    "    print([cv.get_feature_names()[i] for i in topic.argsort()[-15:]])\n",
    "    print('\\n')"
   ]
  },
  {
   "cell_type": "code",
   "execution_count": 52,
   "metadata": {},
   "outputs": [],
   "source": [
    "topic_results = LDA.transform(dtm)"
   ]
  },
  {
   "cell_type": "code",
   "execution_count": 53,
   "metadata": {},
   "outputs": [
    {
     "data": {
      "text/plain": [
       "(9934, 10)"
      ]
     },
     "execution_count": 53,
     "metadata": {},
     "output_type": "execute_result"
    }
   ],
   "source": [
    "topic_results.shape"
   ]
  },
  {
   "cell_type": "code",
   "execution_count": 56,
   "metadata": {},
   "outputs": [
    {
     "data": {
      "text/html": [
       "<div>\n",
       "<style scoped>\n",
       "    .dataframe tbody tr th:only-of-type {\n",
       "        vertical-align: middle;\n",
       "    }\n",
       "\n",
       "    .dataframe tbody tr th {\n",
       "        vertical-align: top;\n",
       "    }\n",
       "\n",
       "    .dataframe thead th {\n",
       "        text-align: right;\n",
       "    }\n",
       "</style>\n",
       "<table border=\"1\" class=\"dataframe\">\n",
       "  <thead>\n",
       "    <tr style=\"text-align: right;\">\n",
       "      <th></th>\n",
       "      <th>ad</th>\n",
       "      <th>Topic</th>\n",
       "      <th>Product Type</th>\n",
       "    </tr>\n",
       "  </thead>\n",
       "  <tbody>\n",
       "    <tr>\n",
       "      <td>0</td>\n",
       "      <td>SIWY Women's Gaby High-Waisted Skinny Jeans in...</td>\n",
       "      <td>6</td>\n",
       "      <td>Watches</td>\n",
       "    </tr>\n",
       "    <tr>\n",
       "      <td>1</td>\n",
       "      <td>Akribos Swarovski Crystal Women's Watch - Diam...</td>\n",
       "      <td>6</td>\n",
       "      <td>Watches</td>\n",
       "    </tr>\n",
       "    <tr>\n",
       "      <td>2</td>\n",
       "      <td>Epson PictureMate Express Printer</td>\n",
       "      <td>3</td>\n",
       "      <td>Printer</td>\n",
       "    </tr>\n",
       "    <tr>\n",
       "      <td>3</td>\n",
       "      <td>Extreme Max 5001.5754 3-Position Motorcycle Wh...</td>\n",
       "      <td>0</td>\n",
       "      <td>Tire &amp; Wheels</td>\n",
       "    </tr>\n",
       "    <tr>\n",
       "      <td>4</td>\n",
       "      <td>OEM Suzuki JR 50 Junior Front or Rear Wheel Sp...</td>\n",
       "      <td>0</td>\n",
       "      <td>Tire &amp; Wheels</td>\n",
       "    </tr>\n",
       "    <tr>\n",
       "      <td>...</td>\n",
       "      <td>...</td>\n",
       "      <td>...</td>\n",
       "      <td>...</td>\n",
       "    </tr>\n",
       "    <tr>\n",
       "      <td>9929</td>\n",
       "      <td>Magna Cart Ideal 150 lb Capacity Steel Folding...</td>\n",
       "      <td>3</td>\n",
       "      <td>Printer</td>\n",
       "    </tr>\n",
       "    <tr>\n",
       "      <td>9930</td>\n",
       "      <td>Dr.Scholls Women's Kinney Lace Fashion Sneaker...</td>\n",
       "      <td>1</td>\n",
       "      <td>Sneakers</td>\n",
       "    </tr>\n",
       "    <tr>\n",
       "      <td>9931</td>\n",
       "      <td>Miss Me Women's Hailey Metallic Lace Embellish...</td>\n",
       "      <td>6</td>\n",
       "      <td>Watches</td>\n",
       "    </tr>\n",
       "    <tr>\n",
       "      <td>9932</td>\n",
       "      <td>MOZIONI School Backpack, Star #1 Collection, L...</td>\n",
       "      <td>5</td>\n",
       "      <td>Backpack</td>\n",
       "    </tr>\n",
       "    <tr>\n",
       "      <td>9933</td>\n",
       "      <td>Nike Womens Air Max 97 Fashion Sneakers</td>\n",
       "      <td>1</td>\n",
       "      <td>Sneakers</td>\n",
       "    </tr>\n",
       "  </tbody>\n",
       "</table>\n",
       "<p>9934 rows × 3 columns</p>\n",
       "</div>"
      ],
      "text/plain": [
       "                                                     ad  Topic   Product Type\n",
       "0     SIWY Women's Gaby High-Waisted Skinny Jeans in...      6        Watches\n",
       "1     Akribos Swarovski Crystal Women's Watch - Diam...      6        Watches\n",
       "2                     Epson PictureMate Express Printer      3        Printer\n",
       "3     Extreme Max 5001.5754 3-Position Motorcycle Wh...      0  Tire & Wheels\n",
       "4     OEM Suzuki JR 50 Junior Front or Rear Wheel Sp...      0  Tire & Wheels\n",
       "...                                                 ...    ...            ...\n",
       "9929  Magna Cart Ideal 150 lb Capacity Steel Folding...      3        Printer\n",
       "9930  Dr.Scholls Women's Kinney Lace Fashion Sneaker...      1       Sneakers\n",
       "9931  Miss Me Women's Hailey Metallic Lace Embellish...      6        Watches\n",
       "9932  MOZIONI School Backpack, Star #1 Collection, L...      5       Backpack\n",
       "9933            Nike Womens Air Max 97 Fashion Sneakers      1       Sneakers\n",
       "\n",
       "[9934 rows x 3 columns]"
      ]
     },
     "execution_count": 56,
     "metadata": {},
     "output_type": "execute_result"
    }
   ],
   "source": [
    "ads_unique['Topic'] = topic_results.argmax(axis=1)\n",
    "\n",
    "my_topic_dictionary = {0: 'Tire & Wheels', \n",
    "                       1: 'Sneakers', \n",
    "                       2: 'Furniture', \n",
    "                       3: 'Printer', \n",
    "                       4: 'Headphones', \n",
    "                       5: 'Backpack', \n",
    "                       6: 'Watches',\n",
    "                       7: 'Jeans', \n",
    "                       8: 'bath', \n",
    "                       9: 'Monitor'}\n",
    "\n",
    "ads_unique['Product Type'] = ads_unique['Topic'].map(my_topic_dictionary)\n",
    "\n",
    "ads_unique"
   ]
  },
  {
   "cell_type": "code",
   "execution_count": 58,
   "metadata": {},
   "outputs": [
    {
     "name": "stdout",
     "output_type": "stream",
     "text": [
      "{1, 5}\n"
     ]
    },
    {
     "data": {
      "text/plain": [
       "{2, 4, 10, 16}"
      ]
     },
     "execution_count": 58,
     "metadata": {},
     "output_type": "execute_result"
    }
   ],
   "source": [
    "a = [1,2,4,5, 10, 16]\n",
    "b = [1,3,5,6]\n",
    "sim = set(a).intersection(b)\n",
    "print(sim)\n",
    "\n",
    "set(a) - sim\n",
    "\n",
    "# MAKE INTERCECTION LAATER"
   ]
  },
  {
   "cell_type": "markdown",
   "metadata": {},
   "source": [
    "### NMF"
   ]
  },
  {
   "cell_type": "code",
   "execution_count": 66,
   "metadata": {},
   "outputs": [
    {
     "data": {
      "text/plain": [
       "<9934x6579 sparse matrix of type '<class 'numpy.float64'>'\n",
       "\twith 105479 stored elements in Compressed Sparse Row format>"
      ]
     },
     "execution_count": 66,
     "metadata": {},
     "output_type": "execute_result"
    }
   ],
   "source": [
    "tfidf = TfidfVectorizer(max_df=0.95, min_df=2, stop_words='english')\n",
    "\n",
    "dtm = tfidf.fit_transform(ads_unique['ad'])\n",
    "\n",
    "dtm"
   ]
  },
  {
   "cell_type": "code",
   "execution_count": 67,
   "metadata": {},
   "outputs": [
    {
     "data": {
      "text/plain": [
       "NMF(alpha=0.0, beta_loss='frobenius', init=None, l1_ratio=0.0, max_iter=200,\n",
       "    n_components=10, random_state=42, shuffle=False, solver='cd', tol=0.0001,\n",
       "    verbose=0)"
      ]
     },
     "execution_count": 67,
     "metadata": {},
     "output_type": "execute_result"
    }
   ],
   "source": [
    "nmf_model = NMF(n_components=10,random_state=42)\n",
    "\n",
    "# This can take awhile, we're dealing with a large amount of documents!\n",
    "nmf_model.fit(dtm)"
   ]
  },
  {
   "cell_type": "code",
   "execution_count": 68,
   "metadata": {},
   "outputs": [
    {
     "data": {
      "text/plain": [
       "6579"
      ]
     },
     "execution_count": 68,
     "metadata": {},
     "output_type": "execute_result"
    }
   ],
   "source": [
    "len(tfidf.get_feature_names())"
   ]
  },
  {
   "cell_type": "code",
   "execution_count": 69,
   "metadata": {},
   "outputs": [
    {
     "name": "stdout",
     "output_type": "stream",
     "text": [
      "THE TOP 15 WORDS FOR TOPIC #0\n",
      "['silver', 'ladies', 'dial', 'womens', 'gold', 'analog', 'women', 'analogue', 'model', 'leather', 'stainless', 'steel', 'strap', 'quartz', 'watch']\n",
      "\n",
      "\n",
      "THE TOP 15 WORDS FOR TOPIC #1\n",
      "['wired', 'sports', 'black', 'microphone', 'headset', 'cancelling', 'stereo', 'mic', 'earphones', 'noise', 'earbuds', 'wireless', 'ear', 'bluetooth', 'headphones']\n",
      "\n",
      "\n",
      "THE TOP 15 WORDS FOR TOPIC #2\n",
      "['straight', 'size', 'womens', 'waist', 'mid', 'stretch', 'ankle', 'pants', 'jean', 'high', 'denim', 'rise', 'women', 'skinny', 'jeans']\n",
      "\n",
      "\n",
      "THE TOP 15 WORDS FOR TOPIC #3\n",
      "['lg', '24', 'vga', 'dell', 'display', 'lit', '27', 'hd', 'ips', 'hdmi', 'screen', 'led', 'lcd', 'inch', 'monitor']\n",
      "\n",
      "\n",
      "THE TOP 15 WORDS FOR TOPIC #4\n",
      "['laserjet', 'scanner', 'pixma', 'copier', 'printing', 'monochrome', 'lexmark', 'inkjet', 'wireless', 'laser', 'color', 'canon', 'photo', 'hp', 'printer']\n",
      "\n",
      "\n",
      "THE TOP 15 WORDS FOR TOPIC #5\n",
      "['casual', 'charging', 'business', 'bookbag', '15', 'black', 'college', 'daypack', 'girls', 'men', 'travel', 'laptop', 'school', 'bag', 'backpack']\n",
      "\n",
      "\n",
      "THE TOP 15 WORDS FOR TOPIC #6\n",
      "['roxy', 'trainers', 'ecco', 'lacoste', 'balance', 'shoes', 'lace', 'puma', 'new', 'slip', 'tretorn', 'skechers', 'fashion', 'women', 'sneaker']\n",
      "\n",
      "\n",
      "THE TOP 15 WORDS FOR TOPIC #7\n",
      "['home', 'organizer', 'wall', 'fabric', 'bath', 'storage', 'towel', 'white', 'holder', 'set', '72', 'hooks', 'curtain', 'bathroom', 'shower']\n",
      "\n",
      "\n",
      "THE TOP 15 WORDS FOR TOPIC #8\n",
      "['lace', 'slip', 'marco', 'tozzi', 'hi', 'white', 'shoes', 'geox', 'black', 'puma', 'uk', 'trainers', 'women', 'sneakers', 'low']\n",
      "\n",
      "\n",
      "THE TOP 15 WORDS FOR TOPIC #9\n",
      "['accessories', 'cap', 'gauge', 'pack', 'set', 'chrome', 'pressure', 'air', 'black', 'wheel', 'stem', 'car', 'caps', 'valve', 'tire']\n",
      "\n",
      "\n"
     ]
    }
   ],
   "source": [
    "for index,topic in enumerate(nmf_model.components_):\n",
    "    print(f'THE TOP 15 WORDS FOR TOPIC #{index}')\n",
    "    print([tfidf.get_feature_names()[i] for i in topic.argsort()[-15:]])\n",
    "    print('\\n')"
   ]
  },
  {
   "cell_type": "code",
   "execution_count": 70,
   "metadata": {},
   "outputs": [
    {
     "data": {
      "text/html": [
       "<div>\n",
       "<style scoped>\n",
       "    .dataframe tbody tr th:only-of-type {\n",
       "        vertical-align: middle;\n",
       "    }\n",
       "\n",
       "    .dataframe tbody tr th {\n",
       "        vertical-align: top;\n",
       "    }\n",
       "\n",
       "    .dataframe thead th {\n",
       "        text-align: right;\n",
       "    }\n",
       "</style>\n",
       "<table border=\"1\" class=\"dataframe\">\n",
       "  <thead>\n",
       "    <tr style=\"text-align: right;\">\n",
       "      <th></th>\n",
       "      <th>ad</th>\n",
       "      <th>Topic</th>\n",
       "      <th>Product Type</th>\n",
       "      <th>NMF Topic</th>\n",
       "      <th>NMF Topic Label</th>\n",
       "    </tr>\n",
       "  </thead>\n",
       "  <tbody>\n",
       "    <tr>\n",
       "      <td>0</td>\n",
       "      <td>SIWY Women's Gaby High-Waisted Skinny Jeans in...</td>\n",
       "      <td>6</td>\n",
       "      <td>Watches</td>\n",
       "      <td>2</td>\n",
       "      <td>Jeans</td>\n",
       "    </tr>\n",
       "    <tr>\n",
       "      <td>1</td>\n",
       "      <td>Akribos Swarovski Crystal Women's Watch - Diam...</td>\n",
       "      <td>6</td>\n",
       "      <td>Watches</td>\n",
       "      <td>0</td>\n",
       "      <td>Watches</td>\n",
       "    </tr>\n",
       "    <tr>\n",
       "      <td>2</td>\n",
       "      <td>Epson PictureMate Express Printer</td>\n",
       "      <td>3</td>\n",
       "      <td>Printer</td>\n",
       "      <td>4</td>\n",
       "      <td>Printer</td>\n",
       "    </tr>\n",
       "    <tr>\n",
       "      <td>3</td>\n",
       "      <td>Extreme Max 5001.5754 3-Position Motorcycle Wh...</td>\n",
       "      <td>0</td>\n",
       "      <td>Tire &amp; Wheels</td>\n",
       "      <td>9</td>\n",
       "      <td>Tires &amp; Wheels</td>\n",
       "    </tr>\n",
       "    <tr>\n",
       "      <td>4</td>\n",
       "      <td>OEM Suzuki JR 50 Junior Front or Rear Wheel Sp...</td>\n",
       "      <td>0</td>\n",
       "      <td>Tire &amp; Wheels</td>\n",
       "      <td>9</td>\n",
       "      <td>Tires &amp; Wheels</td>\n",
       "    </tr>\n",
       "  </tbody>\n",
       "</table>\n",
       "</div>"
      ],
      "text/plain": [
       "                                                  ad  Topic   Product Type  \\\n",
       "0  SIWY Women's Gaby High-Waisted Skinny Jeans in...      6        Watches   \n",
       "1  Akribos Swarovski Crystal Women's Watch - Diam...      6        Watches   \n",
       "2                  Epson PictureMate Express Printer      3        Printer   \n",
       "3  Extreme Max 5001.5754 3-Position Motorcycle Wh...      0  Tire & Wheels   \n",
       "4  OEM Suzuki JR 50 Junior Front or Rear Wheel Sp...      0  Tire & Wheels   \n",
       "\n",
       "   NMF Topic NMF Topic Label  \n",
       "0          2           Jeans  \n",
       "1          0         Watches  \n",
       "2          4         Printer  \n",
       "3          9  Tires & Wheels  \n",
       "4          9  Tires & Wheels  "
      ]
     },
     "execution_count": 70,
     "metadata": {},
     "output_type": "execute_result"
    }
   ],
   "source": [
    "topic_results = nmf_model.transform(dtm)\n",
    "\n",
    "ads_unique.head()"
   ]
  },
  {
   "cell_type": "code",
   "execution_count": 65,
   "metadata": {},
   "outputs": [
    {
     "data": {
      "text/html": [
       "<div>\n",
       "<style scoped>\n",
       "    .dataframe tbody tr th:only-of-type {\n",
       "        vertical-align: middle;\n",
       "    }\n",
       "\n",
       "    .dataframe tbody tr th {\n",
       "        vertical-align: top;\n",
       "    }\n",
       "\n",
       "    .dataframe thead th {\n",
       "        text-align: right;\n",
       "    }\n",
       "</style>\n",
       "<table border=\"1\" class=\"dataframe\">\n",
       "  <thead>\n",
       "    <tr style=\"text-align: right;\">\n",
       "      <th></th>\n",
       "      <th>ad</th>\n",
       "      <th>Topic</th>\n",
       "      <th>Product Type</th>\n",
       "      <th>NMF Topic</th>\n",
       "      <th>NMF Topic Label</th>\n",
       "    </tr>\n",
       "  </thead>\n",
       "  <tbody>\n",
       "    <tr>\n",
       "      <td>0</td>\n",
       "      <td>SIWY Women's Gaby High-Waisted Skinny Jeans in...</td>\n",
       "      <td>6</td>\n",
       "      <td>Watches</td>\n",
       "      <td>2</td>\n",
       "      <td>Jeans</td>\n",
       "    </tr>\n",
       "    <tr>\n",
       "      <td>1</td>\n",
       "      <td>Akribos Swarovski Crystal Women's Watch - Diam...</td>\n",
       "      <td>6</td>\n",
       "      <td>Watches</td>\n",
       "      <td>0</td>\n",
       "      <td>Watches</td>\n",
       "    </tr>\n",
       "    <tr>\n",
       "      <td>2</td>\n",
       "      <td>Epson PictureMate Express Printer</td>\n",
       "      <td>3</td>\n",
       "      <td>Printer</td>\n",
       "      <td>4</td>\n",
       "      <td>Printer</td>\n",
       "    </tr>\n",
       "    <tr>\n",
       "      <td>3</td>\n",
       "      <td>Extreme Max 5001.5754 3-Position Motorcycle Wh...</td>\n",
       "      <td>0</td>\n",
       "      <td>Tire &amp; Wheels</td>\n",
       "      <td>9</td>\n",
       "      <td>Tires &amp; Wheels</td>\n",
       "    </tr>\n",
       "    <tr>\n",
       "      <td>4</td>\n",
       "      <td>OEM Suzuki JR 50 Junior Front or Rear Wheel Sp...</td>\n",
       "      <td>0</td>\n",
       "      <td>Tire &amp; Wheels</td>\n",
       "      <td>9</td>\n",
       "      <td>Tires &amp; Wheels</td>\n",
       "    </tr>\n",
       "    <tr>\n",
       "      <td>...</td>\n",
       "      <td>...</td>\n",
       "      <td>...</td>\n",
       "      <td>...</td>\n",
       "      <td>...</td>\n",
       "      <td>...</td>\n",
       "    </tr>\n",
       "    <tr>\n",
       "      <td>9929</td>\n",
       "      <td>Magna Cart Ideal 150 lb Capacity Steel Folding...</td>\n",
       "      <td>3</td>\n",
       "      <td>Printer</td>\n",
       "      <td>7</td>\n",
       "      <td>Bath</td>\n",
       "    </tr>\n",
       "    <tr>\n",
       "      <td>9930</td>\n",
       "      <td>Dr.Scholls Women's Kinney Lace Fashion Sneaker...</td>\n",
       "      <td>1</td>\n",
       "      <td>Sneakers</td>\n",
       "      <td>6</td>\n",
       "      <td>SNEAKER</td>\n",
       "    </tr>\n",
       "    <tr>\n",
       "      <td>9931</td>\n",
       "      <td>Miss Me Women's Hailey Metallic Lace Embellish...</td>\n",
       "      <td>6</td>\n",
       "      <td>Watches</td>\n",
       "      <td>2</td>\n",
       "      <td>Jeans</td>\n",
       "    </tr>\n",
       "    <tr>\n",
       "      <td>9932</td>\n",
       "      <td>MOZIONI School Backpack, Star #1 Collection, L...</td>\n",
       "      <td>5</td>\n",
       "      <td>Backpack</td>\n",
       "      <td>5</td>\n",
       "      <td>Backpack</td>\n",
       "    </tr>\n",
       "    <tr>\n",
       "      <td>9933</td>\n",
       "      <td>Nike Womens Air Max 97 Fashion Sneakers</td>\n",
       "      <td>1</td>\n",
       "      <td>Sneakers</td>\n",
       "      <td>8</td>\n",
       "      <td>Furniture</td>\n",
       "    </tr>\n",
       "  </tbody>\n",
       "</table>\n",
       "<p>9934 rows × 5 columns</p>\n",
       "</div>"
      ],
      "text/plain": [
       "                                                     ad  Topic   Product Type  \\\n",
       "0     SIWY Women's Gaby High-Waisted Skinny Jeans in...      6        Watches   \n",
       "1     Akribos Swarovski Crystal Women's Watch - Diam...      6        Watches   \n",
       "2                     Epson PictureMate Express Printer      3        Printer   \n",
       "3     Extreme Max 5001.5754 3-Position Motorcycle Wh...      0  Tire & Wheels   \n",
       "4     OEM Suzuki JR 50 Junior Front or Rear Wheel Sp...      0  Tire & Wheels   \n",
       "...                                                 ...    ...            ...   \n",
       "9929  Magna Cart Ideal 150 lb Capacity Steel Folding...      3        Printer   \n",
       "9930  Dr.Scholls Women's Kinney Lace Fashion Sneaker...      1       Sneakers   \n",
       "9931  Miss Me Women's Hailey Metallic Lace Embellish...      6        Watches   \n",
       "9932  MOZIONI School Backpack, Star #1 Collection, L...      5       Backpack   \n",
       "9933            Nike Womens Air Max 97 Fashion Sneakers      1       Sneakers   \n",
       "\n",
       "      NMF Topic NMF Topic Label  \n",
       "0             2           Jeans  \n",
       "1             0         Watches  \n",
       "2             4         Printer  \n",
       "3             9  Tires & Wheels  \n",
       "4             9  Tires & Wheels  \n",
       "...         ...             ...  \n",
       "9929          7            Bath  \n",
       "9930          6         SNEAKER  \n",
       "9931          2           Jeans  \n",
       "9932          5        Backpack  \n",
       "9933          8       Furniture  \n",
       "\n",
       "[9934 rows x 5 columns]"
      ]
     },
     "execution_count": 65,
     "metadata": {},
     "output_type": "execute_result"
    }
   ],
   "source": [
    "ads_unique['NMF Topic'] = topic_results.argmax(axis=1)\n",
    "\n",
    "my_topic_dictionary = {0: 'Watches', \n",
    "                       1: 'Headphones', \n",
    "                       2: 'Jeans', \n",
    "                       3: 'Monitor', \n",
    "                       4: 'Printer', \n",
    "                       5: 'Backpack', \n",
    "                       6: 'SNEAKER',\n",
    "                       7: 'Bath', \n",
    "                       8: 'Furniture', \n",
    "                       9: 'Tires & Wheels'}\n",
    "\n",
    "ads_unique['NMF Topic Label'] = ads_unique['NMF Topic'].map(my_topic_dictionary)\n",
    "ads_unique"
   ]
  },
  {
   "cell_type": "code",
   "execution_count": null,
   "metadata": {},
   "outputs": [],
   "source": []
  }
 ],
 "metadata": {
  "kernelspec": {
   "display_name": "Python 3",
   "language": "python",
   "name": "python3"
  },
  "language_info": {
   "codemirror_mode": {
    "name": "ipython",
    "version": 3
   },
   "file_extension": ".py",
   "mimetype": "text/x-python",
   "name": "python",
   "nbconvert_exporter": "python",
   "pygments_lexer": "ipython3",
   "version": "3.7.4"
  }
 },
 "nbformat": 4,
 "nbformat_minor": 2
}
