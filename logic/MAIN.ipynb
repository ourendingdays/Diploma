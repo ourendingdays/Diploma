{
 "cells": [
  {
   "cell_type": "markdown",
   "metadata": {},
   "source": [
    "<h2>Classification of Advertisements by Means of Supervised Learning Methods</h2>\n",
    "<h3>Pavlo Mospan - 2020</h3>"
   ]
  },
  {
   "cell_type": "markdown",
   "metadata": {},
   "source": [
    "### Importing all used libraries, downloading spacy model and preventing warnings from popping up"
   ]
  },
  {
   "cell_type": "code",
   "execution_count": 1,
   "metadata": {},
   "outputs": [],
   "source": [
    "import pandas as pd\n",
    "pd.options.display.max_colwidth = 80\n",
    "\n",
    "import numpy as np\n",
    "\n",
    "import matplotlib.pyplot as plt\n",
    "%matplotlib inline\n",
    "\n",
    "from sklearn.feature_extraction.text import CountVectorizer, TfidfVectorizer\n",
    "from sklearn.decomposition import LatentDirichletAllocation, NMF\n",
    "from sklearn.neighbors import NearestNeighbors\n",
    "from sklearn.metrics import confusion_matrix, accuracy_score, classification_report\n",
    "from sklearn.model_selection import train_test_split\n",
    "from sklearn.ensemble import RandomForestClassifier\n",
    "\n",
    "import spacy\n",
    "nlp = spacy.load('en_core_web_lg')\n",
    "\n",
    "import re\n",
    "\n",
    "import warnings\n",
    "warnings.filterwarnings('ignore')"
   ]
  },
  {
   "cell_type": "markdown",
   "metadata": {},
   "source": [
    "### Reading a ten 10 topic dataset"
   ]
  },
  {
   "cell_type": "code",
   "execution_count": 71,
   "metadata": {},
   "outputs": [
    {
     "data": {
      "text/html": [
       "<div>\n",
       "<style scoped>\n",
       "    .dataframe tbody tr th:only-of-type {\n",
       "        vertical-align: middle;\n",
       "    }\n",
       "\n",
       "    .dataframe tbody tr th {\n",
       "        vertical-align: top;\n",
       "    }\n",
       "\n",
       "    .dataframe thead th {\n",
       "        text-align: right;\n",
       "    }\n",
       "</style>\n",
       "<table border=\"1\" class=\"dataframe\">\n",
       "  <thead>\n",
       "    <tr style=\"text-align: right;\">\n",
       "      <th></th>\n",
       "      <th>ad</th>\n",
       "      <th>label</th>\n",
       "    </tr>\n",
       "  </thead>\n",
       "  <tbody>\n",
       "    <tr>\n",
       "      <td>count</td>\n",
       "      <td>8999</td>\n",
       "      <td>8999</td>\n",
       "    </tr>\n",
       "    <tr>\n",
       "      <td>unique</td>\n",
       "      <td>8931</td>\n",
       "      <td>10</td>\n",
       "    </tr>\n",
       "    <tr>\n",
       "      <td>top</td>\n",
       "      <td>USB Printer with 3 Year Printer Warranty</td>\n",
       "      <td>0</td>\n",
       "    </tr>\n",
       "    <tr>\n",
       "      <td>freq</td>\n",
       "      <td>6</td>\n",
       "      <td>1000</td>\n",
       "    </tr>\n",
       "  </tbody>\n",
       "</table>\n",
       "</div>"
      ],
      "text/plain": [
       "                                              ad label\n",
       "count                                       8999  8999\n",
       "unique                                      8931    10\n",
       "top     USB Printer with 3 Year Printer Warranty     0\n",
       "freq                                           6  1000"
      ]
     },
     "execution_count": 71,
     "metadata": {},
     "output_type": "execute_result"
    }
   ],
   "source": [
    "ads = pd.read_csv('amazon_nine_topic_labeled.csv', names=['ad', 'label'])\n",
    "ads.describe()"
   ]
  },
  {
   "cell_type": "markdown",
   "metadata": {},
   "source": [
    "## labels correspond to the following topics\n",
    "<li>0 - monitors</li>\n",
    "<li>1 - printers</li>\n",
    "<li>2 - headphones</li>\n",
    "<li>3 - hair-care</li>\n",
    "<li>4 - rings</li>\n",
    "<li>5 - backpacks</li>\n",
    "<li>6 - jeans</li>\n",
    "<li>7 - sneakers</li>\n",
    "<li>8 - watches</li>"
   ]
  },
  {
   "cell_type": "code",
   "execution_count": 72,
   "metadata": {},
   "outputs": [
    {
     "data": {
      "text/plain": [
       "count                                         8999\n",
       "unique                                        8931\n",
       "top       USB Printer with 3 Year Printer Warranty\n",
       "freq                                             6\n",
       "Name: ad, dtype: object"
      ]
     },
     "execution_count": 72,
     "metadata": {},
     "output_type": "execute_result"
    }
   ],
   "source": [
    "# Removing NaN values\n",
    "ads.dropna(inplace=True)\n",
    "\n",
    "# Shuffling rows\n",
    "ads = ads.sample(frac=1)\n",
    "ads['ad'].describe()"
   ]
  },
  {
   "cell_type": "code",
   "execution_count": 73,
   "metadata": {},
   "outputs": [
    {
     "data": {
      "text/html": [
       "<div>\n",
       "<style scoped>\n",
       "    .dataframe tbody tr th:only-of-type {\n",
       "        vertical-align: middle;\n",
       "    }\n",
       "\n",
       "    .dataframe tbody tr th {\n",
       "        vertical-align: top;\n",
       "    }\n",
       "\n",
       "    .dataframe thead th {\n",
       "        text-align: right;\n",
       "    }\n",
       "</style>\n",
       "<table border=\"1\" class=\"dataframe\">\n",
       "  <thead>\n",
       "    <tr style=\"text-align: right;\">\n",
       "      <th></th>\n",
       "      <th>ad</th>\n",
       "      <th>label</th>\n",
       "    </tr>\n",
       "  </thead>\n",
       "  <tbody>\n",
       "    <tr>\n",
       "      <td>1988</td>\n",
       "      <td>Lexmark Printer Caster Base (40G0855)</td>\n",
       "      <td>1</td>\n",
       "    </tr>\n",
       "    <tr>\n",
       "      <td>4393</td>\n",
       "      <td>Charles Winston, S Silver, Cubic Zirconia Trinity Ring, with Charles Winston...</td>\n",
       "      <td>4</td>\n",
       "    </tr>\n",
       "    <tr>\n",
       "      <td>5800</td>\n",
       "      <td>Vera Bradley Essential Compact Backpack (Navy), Small</td>\n",
       "      <td>5</td>\n",
       "    </tr>\n",
       "    <tr>\n",
       "      <td>6489</td>\n",
       "      <td>DL1961 Womens Florence Instasculpt in Riker</td>\n",
       "      <td>6</td>\n",
       "    </tr>\n",
       "    <tr>\n",
       "      <td>2323</td>\n",
       "      <td>LG Electronics Tone Ultra (HBS-800) Bluetooth Stereo Headset - Black (Renewed)</td>\n",
       "      <td>2</td>\n",
       "    </tr>\n",
       "    <tr>\n",
       "      <td>4464</td>\n",
       "      <td>Wide Statement Ring in Sterling Silver Genuine Turquoise &amp; Gemstones (SELECT...</td>\n",
       "      <td>4</td>\n",
       "    </tr>\n",
       "    <tr>\n",
       "      <td>4059</td>\n",
       "      <td>Gem Stone King 4.12 Ct Oval Blue Created Sapphire 925 Yellow Gold Plated Sil...</td>\n",
       "      <td>4</td>\n",
       "    </tr>\n",
       "    <tr>\n",
       "      <td>1336</td>\n",
       "      <td>Epson WorkForce ET-3750 EcoTank Wireless Color All-in-One Supertank Printer ...</td>\n",
       "      <td>1</td>\n",
       "    </tr>\n",
       "    <tr>\n",
       "      <td>8688</td>\n",
       "      <td>SEKONDA Unisex-Adult Analogue Classic Quartz Watch with Stainless Steel Stra...</td>\n",
       "      <td>8</td>\n",
       "    </tr>\n",
       "    <tr>\n",
       "      <td>3345</td>\n",
       "      <td>Baistom Quiet Kids Hair Trimmer Pro - Baby Hair Clipper - Rechargeable Water...</td>\n",
       "      <td>3</td>\n",
       "    </tr>\n",
       "  </tbody>\n",
       "</table>\n",
       "</div>"
      ],
      "text/plain": [
       "                                                                                   ad  \\\n",
       "1988                                            Lexmark Printer Caster Base (40G0855)   \n",
       "4393  Charles Winston, S Silver, Cubic Zirconia Trinity Ring, with Charles Winston...   \n",
       "5800                            Vera Bradley Essential Compact Backpack (Navy), Small   \n",
       "6489                                      DL1961 Womens Florence Instasculpt in Riker   \n",
       "2323   LG Electronics Tone Ultra (HBS-800) Bluetooth Stereo Headset - Black (Renewed)   \n",
       "4464  Wide Statement Ring in Sterling Silver Genuine Turquoise & Gemstones (SELECT...   \n",
       "4059  Gem Stone King 4.12 Ct Oval Blue Created Sapphire 925 Yellow Gold Plated Sil...   \n",
       "1336  Epson WorkForce ET-3750 EcoTank Wireless Color All-in-One Supertank Printer ...   \n",
       "8688  SEKONDA Unisex-Adult Analogue Classic Quartz Watch with Stainless Steel Stra...   \n",
       "3345  Baistom Quiet Kids Hair Trimmer Pro - Baby Hair Clipper - Rechargeable Water...   \n",
       "\n",
       "     label  \n",
       "1988     1  \n",
       "4393     4  \n",
       "5800     5  \n",
       "6489     6  \n",
       "2323     2  \n",
       "4464     4  \n",
       "4059     4  \n",
       "1336     1  \n",
       "8688     8  \n",
       "3345     3  "
      ]
     },
     "execution_count": 73,
     "metadata": {},
     "output_type": "execute_result"
    }
   ],
   "source": [
    "ads.head(10)"
   ]
  },
  {
   "cell_type": "markdown",
   "metadata": {},
   "source": [
    "### Top words in dataset before feature engineering"
   ]
  },
  {
   "cell_type": "code",
   "execution_count": 74,
   "metadata": {},
   "outputs": [
    {
     "data": {
      "text/plain": [
       "<matplotlib.axes._subplots.AxesSubplot at 0x19b6de5d0>"
      ]
     },
     "execution_count": 74,
     "metadata": {},
     "output_type": "execute_result"
    },
    {
     "data": {
      "image/png": "[encoded data removed]",
      "text/plain": [
       "<Figure size 1440x1080 with 1 Axes>"
      ]
     },
     "metadata": {
      "needs_background": "light"
     },
     "output_type": "display_data"
    }
   ],
   "source": [
    "# count vetorizing object\n",
    "count_vectorizer = CountVectorizer()\n",
    "\n",
    "# fitting CV\n",
    "count_vectorizer.fit(ads['ad'])\n",
    "\n",
    "# collecting the vocabulary items used in vectorizer\n",
    "dictionary = count_vectorizer.vocabulary_.items()\n",
    "\n",
    "# Storing vocab and counts in a pandas DF\n",
    "vocab = []\n",
    "count = []\n",
    "\n",
    "# iterating through each vocab and count append the value to designated list\n",
    "for key, value in dictionary:\n",
    "    vocab.append(key)\n",
    "    count.append(value)\n",
    "    \n",
    "# storing the count in pandas DF with vocab as index\n",
    "vocab_bef_stem = pd.Series(count, index = vocab)\n",
    "\n",
    "# sorting the DF\n",
    "vocab_bef_stem = vocab_bef_stem.sort_values(ascending=False)\n",
    "\n",
    "top_vocab = vocab_bef_stem.head(10)\n",
    "top_vocab.plot(kind = 'barh', figsize=(20, 15), xlim=(14709, 14720))"
   ]
  },
  {
   "cell_type": "code",
   "execution_count": 75,
   "metadata": {},
   "outputs": [
    {
     "data": {
      "image/png": "[encoded data removed]",
      "text/plain": [
       "<Figure size 1440x720 with 1 Axes>"
      ]
     },
     "metadata": {
      "needs_background": "light"
     },
     "output_type": "display_data"
    }
   ],
   "source": [
    "def plot_frequency_distribution_of_ngrams(sample_texts,\n",
    "                                          ngram_range=(1, 1),\n",
    "                                          num_ngrams=20):\n",
    "    \"\"\"Plots the frequency distribution of n-grams.\n",
    "    # Arguments\n",
    "        samples_texts: list, sample texts.\n",
    "        ngram_range: tuple (min, mplt), The range of n-gram values to consider.\n",
    "            Min and mplt are the lower and upper bound values for the range.\n",
    "        num_ngrams: int, number of n-grams to plot.\n",
    "            Top `num_ngrams` frequent n-grams will be plotted.\n",
    "    \"\"\"\n",
    "    # Create args required for vectorizing.\n",
    "    kwargs = {\n",
    "            'ngram_range': (1, 1),\n",
    "            'dtype': 'int32',\n",
    "            'strip_accents': 'unicode',\n",
    "            'decode_error': 'replace',\n",
    "            'analyzer': 'word',  # Split text into word tokens.\n",
    "    }\n",
    "    vectorizer = CountVectorizer(**kwargs)\n",
    "\n",
    "    # This creates a vocabulary (dict, where keys are n-grams and values are\n",
    "    # idxices). This also converts every text to an array the length of\n",
    "    # vocabulary, where every element idxicates the count of the n-gram\n",
    "    # corresponding at that idxex in vocabulary.\n",
    "    vectorized_texts = vectorizer.fit_transform(sample_texts)\n",
    "\n",
    "    # This is the list of all n-grams in the index order from the vocabulary.\n",
    "    all_ngrams = list(vectorizer.get_feature_names())\n",
    "    num_ngrams = min(num_ngrams, len(all_ngrams))\n",
    "    # ngrams = all_ngrams[:num_ngrams]\n",
    "\n",
    "    # Add up the counts per n-gram ie. column-wise\n",
    "    all_counts = vectorized_texts.sum(axis=0).tolist()[0]\n",
    "\n",
    "    # Sort n-grams and counts by frequency and get top `num_ngrams` ngrams.\n",
    "    all_counts, all_ngrams = zip(*[(c, n) for c, n in sorted(\n",
    "        zip(all_counts, all_ngrams), reverse=True)])\n",
    "    ngrams = list(all_ngrams)[:num_ngrams]\n",
    "    counts = list(all_counts)[:num_ngrams]\n",
    "\n",
    "    idx = np.arange(num_ngrams)\n",
    "    plt.figure(figsize=(20,10))\n",
    "    plt.bar(idx, counts, width=0.8, color='b')\n",
    "    plt.xlabel('N-grams')\n",
    "    plt.ylabel('Frequencies')\n",
    "    plt.title('Frequency distribution of n-grams')\n",
    "    plt.xticks(idx, ngrams, rotation=45)\n",
    "    plt.show()\n",
    "    \n",
    "    \n",
    "plot_frequency_distribution_of_ngrams(ads['ad'])"
   ]
  },
  {
   "cell_type": "markdown",
   "metadata": {},
   "source": [
    "### Visualizing the length of the documents"
   ]
  },
  {
   "cell_type": "code",
   "execution_count": 76,
   "metadata": {},
   "outputs": [],
   "source": [
    "def length(text):\n",
    "    \"\"\"Function that returns the length of a text\"\"\"\n",
    "    return len(text)"
   ]
  },
  {
   "cell_type": "code",
   "execution_count": 77,
   "metadata": {
    "scrolled": true
   },
   "outputs": [
    {
     "data": {
      "text/html": [
       "<div>\n",
       "<style scoped>\n",
       "    .dataframe tbody tr th:only-of-type {\n",
       "        vertical-align: middle;\n",
       "    }\n",
       "\n",
       "    .dataframe tbody tr th {\n",
       "        vertical-align: top;\n",
       "    }\n",
       "\n",
       "    .dataframe thead th {\n",
       "        text-align: right;\n",
       "    }\n",
       "</style>\n",
       "<table border=\"1\" class=\"dataframe\">\n",
       "  <thead>\n",
       "    <tr style=\"text-align: right;\">\n",
       "      <th></th>\n",
       "      <th>length</th>\n",
       "    </tr>\n",
       "  </thead>\n",
       "  <tbody>\n",
       "    <tr>\n",
       "      <td>count</td>\n",
       "      <td>8999.000000</td>\n",
       "    </tr>\n",
       "    <tr>\n",
       "      <td>mean</td>\n",
       "      <td>83.477831</td>\n",
       "    </tr>\n",
       "    <tr>\n",
       "      <td>std</td>\n",
       "      <td>44.061432</td>\n",
       "    </tr>\n",
       "    <tr>\n",
       "      <td>min</td>\n",
       "      <td>1.000000</td>\n",
       "    </tr>\n",
       "    <tr>\n",
       "      <td>25%</td>\n",
       "      <td>51.000000</td>\n",
       "    </tr>\n",
       "    <tr>\n",
       "      <td>50%</td>\n",
       "      <td>72.000000</td>\n",
       "    </tr>\n",
       "    <tr>\n",
       "      <td>75%</td>\n",
       "      <td>104.000000</td>\n",
       "    </tr>\n",
       "    <tr>\n",
       "      <td>max</td>\n",
       "      <td>305.000000</td>\n",
       "    </tr>\n",
       "  </tbody>\n",
       "</table>\n",
       "</div>"
      ],
      "text/plain": [
       "            length\n",
       "count  8999.000000\n",
       "mean     83.477831\n",
       "std      44.061432\n",
       "min       1.000000\n",
       "25%      51.000000\n",
       "50%      72.000000\n",
       "75%     104.000000\n",
       "max     305.000000"
      ]
     },
     "execution_count": 77,
     "metadata": {},
     "output_type": "execute_result"
    }
   ],
   "source": [
    "ads['length'] = ads['ad'].apply(length)\n",
    "ads.describe()"
   ]
  },
  {
   "cell_type": "code",
   "execution_count": 78,
   "metadata": {
    "scrolled": true
   },
   "outputs": [
    {
     "data": {
      "text/html": [
       "<div>\n",
       "<style scoped>\n",
       "    .dataframe tbody tr th:only-of-type {\n",
       "        vertical-align: middle;\n",
       "    }\n",
       "\n",
       "    .dataframe tbody tr th {\n",
       "        vertical-align: top;\n",
       "    }\n",
       "\n",
       "    .dataframe thead th {\n",
       "        text-align: right;\n",
       "    }\n",
       "</style>\n",
       "<table border=\"1\" class=\"dataframe\">\n",
       "  <thead>\n",
       "    <tr style=\"text-align: right;\">\n",
       "      <th></th>\n",
       "      <th>ad</th>\n",
       "      <th>label</th>\n",
       "      <th>length</th>\n",
       "    </tr>\n",
       "  </thead>\n",
       "  <tbody>\n",
       "    <tr>\n",
       "      <td>1988</td>\n",
       "      <td>Lexmark Printer Caster Base (40G0855)</td>\n",
       "      <td>1</td>\n",
       "      <td>37</td>\n",
       "    </tr>\n",
       "    <tr>\n",
       "      <td>4393</td>\n",
       "      <td>Charles Winston, S Silver, Cubic Zirconia Trinity Ring, with Charles Winston...</td>\n",
       "      <td>4</td>\n",
       "      <td>138</td>\n",
       "    </tr>\n",
       "    <tr>\n",
       "      <td>5800</td>\n",
       "      <td>Vera Bradley Essential Compact Backpack (Navy), Small</td>\n",
       "      <td>5</td>\n",
       "      <td>53</td>\n",
       "    </tr>\n",
       "    <tr>\n",
       "      <td>6489</td>\n",
       "      <td>DL1961 Womens Florence Instasculpt in Riker</td>\n",
       "      <td>6</td>\n",
       "      <td>43</td>\n",
       "    </tr>\n",
       "    <tr>\n",
       "      <td>2323</td>\n",
       "      <td>LG Electronics Tone Ultra (HBS-800) Bluetooth Stereo Headset - Black (Renewed)</td>\n",
       "      <td>2</td>\n",
       "      <td>78</td>\n",
       "    </tr>\n",
       "  </tbody>\n",
       "</table>\n",
       "</div>"
      ],
      "text/plain": [
       "                                                                                   ad  \\\n",
       "1988                                            Lexmark Printer Caster Base (40G0855)   \n",
       "4393  Charles Winston, S Silver, Cubic Zirconia Trinity Ring, with Charles Winston...   \n",
       "5800                            Vera Bradley Essential Compact Backpack (Navy), Small   \n",
       "6489                                      DL1961 Womens Florence Instasculpt in Riker   \n",
       "2323   LG Electronics Tone Ultra (HBS-800) Bluetooth Stereo Headset - Black (Renewed)   \n",
       "\n",
       "     label  length  \n",
       "1988     1      37  \n",
       "4393     4     138  \n",
       "5800     5      53  \n",
       "6489     6      43  \n",
       "2323     2      78  "
      ]
     },
     "execution_count": 78,
     "metadata": {},
     "output_type": "execute_result"
    }
   ],
   "source": [
    "ads.head()"
   ]
  },
  {
   "cell_type": "code",
   "execution_count": 79,
   "metadata": {},
   "outputs": [
    {
     "data": {
      "image/png": "[encoded data removed]",
      "text/plain": [
       "<Figure size 1440x720 with 1 Axes>"
      ]
     },
     "metadata": {
      "needs_background": "light"
     },
     "output_type": "display_data"
    }
   ],
   "source": [
    "def plot_sample_length_distribution(sample_texts):\n",
    "    \"\"\"Plots the sample length distribution.\n",
    "\n",
    "    # Arguments\n",
    "        samples_texts: list, sample texts.\n",
    "    \"\"\"\n",
    "    \n",
    "    plt.figure(figsize=(20,10))\n",
    "    plt.hist([len(s) for s in sample_texts], 100)\n",
    "    plt.xlabel('Length of a sample')\n",
    "    plt.ylabel('Number of samples')\n",
    "    plt.title('Sample length distribution of the documents before FE')\n",
    "    plt.show()\n",
    "    \n",
    "\n",
    "plot_sample_length_distribution(ads['ad'])"
   ]
  },
  {
   "cell_type": "markdown",
   "metadata": {},
   "source": [
    "### Removing stopwords"
   ]
  },
  {
   "cell_type": "code",
   "execution_count": 80,
   "metadata": {},
   "outputs": [],
   "source": [
    "def stopwords(text):\n",
    "    \"\"\"\n",
    "    Function for removing \n",
    "        - stopwords,\n",
    "        - punctuation,\n",
    "        - numbers / digits\n",
    "        - words containing numbers\n",
    "    \"\"\"\n",
    "    doc = nlp(text)\n",
    "    for token in doc:\n",
    "        text = [token.text for token in doc if \n",
    "                not token.is_stop \n",
    "                and not token.is_punct \n",
    "                and not token.is_digit]\n",
    "        \n",
    "        \n",
    "    # joining the list of words with space separator\n",
    "    joined_text = \" \".join(text)\n",
    "    # removing words that contain any sort of numbers, like 'G2420-BK' or 'G1W40A#BGJ '\n",
    "    re_text = re.sub(r\"\\S*\\d\\S*\", '', joined_text).strip()\n",
    "    \n",
    "    return re_text"
   ]
  },
  {
   "cell_type": "code",
   "execution_count": 81,
   "metadata": {},
   "outputs": [
    {
     "data": {
      "text/html": [
       "<div>\n",
       "<style scoped>\n",
       "    .dataframe tbody tr th:only-of-type {\n",
       "        vertical-align: middle;\n",
       "    }\n",
       "\n",
       "    .dataframe tbody tr th {\n",
       "        vertical-align: top;\n",
       "    }\n",
       "\n",
       "    .dataframe thead th {\n",
       "        text-align: right;\n",
       "    }\n",
       "</style>\n",
       "<table border=\"1\" class=\"dataframe\">\n",
       "  <thead>\n",
       "    <tr style=\"text-align: right;\">\n",
       "      <th></th>\n",
       "      <th>ad</th>\n",
       "      <th>label</th>\n",
       "      <th>length</th>\n",
       "      <th>SW</th>\n",
       "    </tr>\n",
       "  </thead>\n",
       "  <tbody>\n",
       "    <tr>\n",
       "      <td>1988</td>\n",
       "      <td>Lexmark Printer Caster Base (40G0855)</td>\n",
       "      <td>1</td>\n",
       "      <td>37</td>\n",
       "      <td>Lexmark Printer Caster Base</td>\n",
       "    </tr>\n",
       "    <tr>\n",
       "      <td>4393</td>\n",
       "      <td>Charles Winston, S Silver, Cubic Zirconia Trinity Ring, with Charles Winston...</td>\n",
       "      <td>4</td>\n",
       "      <td>138</td>\n",
       "      <td>Charles Winston S Silver Cubic Zirconia Trinity Ring Charles Winston Scintil...</td>\n",
       "    </tr>\n",
       "    <tr>\n",
       "      <td>5800</td>\n",
       "      <td>Vera Bradley Essential Compact Backpack (Navy), Small</td>\n",
       "      <td>5</td>\n",
       "      <td>53</td>\n",
       "      <td>Vera Bradley Essential Compact Backpack Navy Small</td>\n",
       "    </tr>\n",
       "    <tr>\n",
       "      <td>6489</td>\n",
       "      <td>DL1961 Womens Florence Instasculpt in Riker</td>\n",
       "      <td>6</td>\n",
       "      <td>43</td>\n",
       "      <td>Womens Florence Instasculpt Riker</td>\n",
       "    </tr>\n",
       "    <tr>\n",
       "      <td>2323</td>\n",
       "      <td>LG Electronics Tone Ultra (HBS-800) Bluetooth Stereo Headset - Black (Renewed)</td>\n",
       "      <td>2</td>\n",
       "      <td>78</td>\n",
       "      <td>LG Electronics Tone Ultra  Bluetooth Stereo Headset Black Renewed</td>\n",
       "    </tr>\n",
       "  </tbody>\n",
       "</table>\n",
       "</div>"
      ],
      "text/plain": [
       "                                                                                   ad  \\\n",
       "1988                                            Lexmark Printer Caster Base (40G0855)   \n",
       "4393  Charles Winston, S Silver, Cubic Zirconia Trinity Ring, with Charles Winston...   \n",
       "5800                            Vera Bradley Essential Compact Backpack (Navy), Small   \n",
       "6489                                      DL1961 Womens Florence Instasculpt in Riker   \n",
       "2323   LG Electronics Tone Ultra (HBS-800) Bluetooth Stereo Headset - Black (Renewed)   \n",
       "\n",
       "     label  length  \\\n",
       "1988     1      37   \n",
       "4393     4     138   \n",
       "5800     5      53   \n",
       "6489     6      43   \n",
       "2323     2      78   \n",
       "\n",
       "                                                                                   SW  \n",
       "1988                                                      Lexmark Printer Caster Base  \n",
       "4393  Charles Winston S Silver Cubic Zirconia Trinity Ring Charles Winston Scintil...  \n",
       "5800                               Vera Bradley Essential Compact Backpack Navy Small  \n",
       "6489                                                Womens Florence Instasculpt Riker  \n",
       "2323                LG Electronics Tone Ultra  Bluetooth Stereo Headset Black Renewed  "
      ]
     },
     "execution_count": 81,
     "metadata": {},
     "output_type": "execute_result"
    }
   ],
   "source": [
    "ads['SW'] = ads['ad'].apply(stopwords)\n",
    "ads.head()"
   ]
  },
  {
   "cell_type": "code",
   "execution_count": 82,
   "metadata": {},
   "outputs": [
    {
     "data": {
      "text/plain": [
       "1988                                              Lexmark Printer Caster Base (40G0855)\n",
       "4393    Charles Winston, S Silver, Cubic Zirconia Trinity Ring, with Charles Winston...\n",
       "5800                              Vera Bradley Essential Compact Backpack (Navy), Small\n",
       "6489                                        DL1961 Womens Florence Instasculpt in Riker\n",
       "2323     LG Electronics Tone Ultra (HBS-800) Bluetooth Stereo Headset - Black (Renewed)\n",
       "                                             ...                                       \n",
       "3726                 Cover Your Gray Fill-in Powder Two Shades in One, Dark Brown/Black\n",
       "3328    Moroccan Argan Oil Shampoo Sulfate Free for Normal Oily Curly Dry Damaged Co...\n",
       "299                                   HP-CTO E4U30AA#ABA 18.9\" EliteDisplay E190i LEDMN\n",
       "3116    11\" Inch Styrofoam Mannequin Wig Head Foam Manikin Display Head Wig Hat Stan...\n",
       "5491      Kids Backpacks for Little Girls by Fenrici, 16 Inch Book Bags for Preschooler\n",
       "Name: ad, Length: 8999, dtype: object"
      ]
     },
     "execution_count": 82,
     "metadata": {},
     "output_type": "execute_result"
    }
   ],
   "source": [
    "ads['ad']"
   ]
  },
  {
   "cell_type": "code",
   "execution_count": 83,
   "metadata": {},
   "outputs": [
    {
     "data": {
      "text/plain": [
       "1988                                                        Lexmark Printer Caster Base\n",
       "4393    Charles Winston S Silver Cubic Zirconia Trinity Ring Charles Winston Scintil...\n",
       "5800                                 Vera Bradley Essential Compact Backpack Navy Small\n",
       "6489                                                  Womens Florence Instasculpt Riker\n",
       "2323                  LG Electronics Tone Ultra  Bluetooth Stereo Headset Black Renewed\n",
       "                                             ...                                       \n",
       "3726                                     Cover Gray Fill Powder Shades Dark Brown Black\n",
       "3328    Moroccan Argan Oil Shampoo Sulfate Free Normal Oily Curly Dry Damaged Color ...\n",
       "299                                                        HP CTO   EliteDisplay  LEDMN\n",
       "3116    Inch Styrofoam Mannequin Wig Head Foam Manikin Display Head Wig Hat Stand Wh...\n",
       "5491                     Kids Backpacks Little Girls Fenrici Inch Book Bags Preschooler\n",
       "Name: SW, Length: 8999, dtype: object"
      ]
     },
     "execution_count": 83,
     "metadata": {},
     "output_type": "execute_result"
    }
   ],
   "source": [
    "ads['SW']"
   ]
  },
  {
   "cell_type": "markdown",
   "metadata": {},
   "source": [
    "### 1. Getting rid off of two whitespaces\n",
    "### 2. Replacing rows with no entries with NaN to dropna them"
   ]
  },
  {
   "cell_type": "code",
   "execution_count": 84,
   "metadata": {},
   "outputs": [
    {
     "data": {
      "text/plain": [
       "count                   8998\n",
       "unique                  8582\n",
       "top       HP Deskjet Printer\n",
       "freq                      11\n",
       "Name: SW, dtype: object"
      ]
     },
     "execution_count": 84,
     "metadata": {},
     "output_type": "execute_result"
    }
   ],
   "source": [
    "# 1\n",
    "ads['SW']=ads['SW'].str.replace(\"  \",\" \")\n",
    "\n",
    "# 2\n",
    "ads['SW'].replace('', np.nan, inplace=True)\n",
    "ads.dropna(inplace=True)\n",
    "ads['SW'].describe()"
   ]
  },
  {
   "cell_type": "markdown",
   "metadata": {},
   "source": [
    "### Top words in dataset after FE"
   ]
  },
  {
   "cell_type": "code",
   "execution_count": 85,
   "metadata": {},
   "outputs": [
    {
     "data": {
      "text/plain": [
       "<matplotlib.axes._subplots.AxesSubplot at 0x15e78e510>"
      ]
     },
     "execution_count": 85,
     "metadata": {},
     "output_type": "execute_result"
    },
    {
     "data": {
      "image/png": "[encoded data removed]",
      "text/plain": [
       "<Figure size 1440x1080 with 1 Axes>"
      ]
     },
     "metadata": {
      "needs_background": "light"
     },
     "output_type": "display_data"
    }
   ],
   "source": [
    "# count vetorizing object\n",
    "count_vectorizer = CountVectorizer()\n",
    "\n",
    "# fitting CV\n",
    "count_vectorizer.fit(ads['SW'])\n",
    "\n",
    "# collecting the vocabulary items used in vectorizer\n",
    "dictionary = count_vectorizer.vocabulary_.items()\n",
    "\n",
    "# Storing vocab and counts in a pandas DF\n",
    "vocab = []\n",
    "count = []\n",
    "\n",
    "# iterating through each vocab and count append the value to designated list\n",
    "for key, value in dictionary:\n",
    "    vocab.append(key)\n",
    "    count.append(value)\n",
    "    \n",
    "# storing the count in pandas DF with vocab as index\n",
    "vocab_bef_stem = pd.Series(count, index = vocab)\n",
    "\n",
    "# sorting the DF\n",
    "vocab_bef_stem = vocab_bef_stem.sort_values(ascending=False)\n",
    "\n",
    "top_vocab = vocab_bef_stem.head(10)\n",
    "top_vocab.plot(kind = 'barh', figsize=(20, 15), xlim=(9881, 9892))"
   ]
  },
  {
   "cell_type": "markdown",
   "metadata": {},
   "source": [
    "### FE in action"
   ]
  },
  {
   "cell_type": "code",
   "execution_count": 86,
   "metadata": {},
   "outputs": [
    {
     "name": "stdout",
     "output_type": "stream",
     "text": [
      "Moog Paris Bohême Women's Watch with Gray Dial, Silver Strap in Stainless Steel - M46144-003  ==== Moog Paris Bohême Women Watch Gray Dial Silver Strap Stainless Steel\n"
     ]
    }
   ],
   "source": [
    "print(ads['ad'][8096], ' ====', ads['SW'][8096])"
   ]
  },
  {
   "cell_type": "markdown",
   "metadata": {},
   "source": [
    "#### I had some troubleshooting with this string when making accuracy validation"
   ]
  },
  {
   "cell_type": "code",
   "execution_count": 101,
   "metadata": {},
   "outputs": [
    {
     "data": {
      "text/html": [
       "<div>\n",
       "<style scoped>\n",
       "    .dataframe tbody tr th:only-of-type {\n",
       "        vertical-align: middle;\n",
       "    }\n",
       "\n",
       "    .dataframe tbody tr th {\n",
       "        vertical-align: top;\n",
       "    }\n",
       "\n",
       "    .dataframe thead th {\n",
       "        text-align: right;\n",
       "    }\n",
       "</style>\n",
       "<table border=\"1\" class=\"dataframe\">\n",
       "  <thead>\n",
       "    <tr style=\"text-align: right;\">\n",
       "      <th></th>\n",
       "      <th>ad</th>\n",
       "      <th>label</th>\n",
       "      <th>length</th>\n",
       "      <th>SW</th>\n",
       "      <th>Topic Label</th>\n",
       "      <th>Topic Name</th>\n",
       "      <th>Predicted Label</th>\n",
       "    </tr>\n",
       "  </thead>\n",
       "  <tbody>\n",
       "  </tbody>\n",
       "</table>\n",
       "</div>"
      ],
      "text/plain": [
       "Empty DataFrame\n",
       "Columns: [ad, label, length, SW, Topic Label, Topic Name, Predicted Label]\n",
       "Index: []"
      ]
     },
     "execution_count": 101,
     "metadata": {},
     "output_type": "execute_result"
    }
   ],
   "source": [
    "i = ads[ ads['label'] == ' Letsfit Wireless Headphones'].index\n",
    "ads.drop(i, inplace = True)\n",
    "\n",
    "ads.loc[ads['label'] == ' Letsfit Wireless Headphones']"
   ]
  },
  {
   "cell_type": "markdown",
   "metadata": {},
   "source": [
    "# NMF"
   ]
  },
  {
   "cell_type": "code",
   "execution_count": 87,
   "metadata": {},
   "outputs": [
    {
     "data": {
      "text/html": [
       "<div>\n",
       "<style scoped>\n",
       "    .dataframe tbody tr th:only-of-type {\n",
       "        vertical-align: middle;\n",
       "    }\n",
       "\n",
       "    .dataframe tbody tr th {\n",
       "        vertical-align: top;\n",
       "    }\n",
       "\n",
       "    .dataframe thead th {\n",
       "        text-align: right;\n",
       "    }\n",
       "</style>\n",
       "<table border=\"1\" class=\"dataframe\">\n",
       "  <thead>\n",
       "    <tr style=\"text-align: right;\">\n",
       "      <th></th>\n",
       "      <th>ad</th>\n",
       "      <th>label</th>\n",
       "      <th>length</th>\n",
       "      <th>SW</th>\n",
       "    </tr>\n",
       "  </thead>\n",
       "  <tbody>\n",
       "    <tr>\n",
       "      <td>1988</td>\n",
       "      <td>Lexmark Printer Caster Base (40G0855)</td>\n",
       "      <td>1</td>\n",
       "      <td>37</td>\n",
       "      <td>Lexmark Printer Caster Base</td>\n",
       "    </tr>\n",
       "    <tr>\n",
       "      <td>4393</td>\n",
       "      <td>Charles Winston, S Silver, Cubic Zirconia Trinity Ring, with Charles Winston...</td>\n",
       "      <td>4</td>\n",
       "      <td>138</td>\n",
       "      <td>Charles Winston S Silver Cubic Zirconia Trinity Ring Charles Winston Scintil...</td>\n",
       "    </tr>\n",
       "    <tr>\n",
       "      <td>5800</td>\n",
       "      <td>Vera Bradley Essential Compact Backpack (Navy), Small</td>\n",
       "      <td>5</td>\n",
       "      <td>53</td>\n",
       "      <td>Vera Bradley Essential Compact Backpack Navy Small</td>\n",
       "    </tr>\n",
       "    <tr>\n",
       "      <td>6489</td>\n",
       "      <td>DL1961 Womens Florence Instasculpt in Riker</td>\n",
       "      <td>6</td>\n",
       "      <td>43</td>\n",
       "      <td>Womens Florence Instasculpt Riker</td>\n",
       "    </tr>\n",
       "    <tr>\n",
       "      <td>2323</td>\n",
       "      <td>LG Electronics Tone Ultra (HBS-800) Bluetooth Stereo Headset - Black (Renewed)</td>\n",
       "      <td>2</td>\n",
       "      <td>78</td>\n",
       "      <td>LG Electronics Tone Ultra Bluetooth Stereo Headset Black Renewed</td>\n",
       "    </tr>\n",
       "  </tbody>\n",
       "</table>\n",
       "</div>"
      ],
      "text/plain": [
       "                                                                                   ad  \\\n",
       "1988                                            Lexmark Printer Caster Base (40G0855)   \n",
       "4393  Charles Winston, S Silver, Cubic Zirconia Trinity Ring, with Charles Winston...   \n",
       "5800                            Vera Bradley Essential Compact Backpack (Navy), Small   \n",
       "6489                                      DL1961 Womens Florence Instasculpt in Riker   \n",
       "2323   LG Electronics Tone Ultra (HBS-800) Bluetooth Stereo Headset - Black (Renewed)   \n",
       "\n",
       "     label  length  \\\n",
       "1988     1      37   \n",
       "4393     4     138   \n",
       "5800     5      53   \n",
       "6489     6      43   \n",
       "2323     2      78   \n",
       "\n",
       "                                                                                   SW  \n",
       "1988                                                      Lexmark Printer Caster Base  \n",
       "4393  Charles Winston S Silver Cubic Zirconia Trinity Ring Charles Winston Scintil...  \n",
       "5800                               Vera Bradley Essential Compact Backpack Navy Small  \n",
       "6489                                                Womens Florence Instasculpt Riker  \n",
       "2323                 LG Electronics Tone Ultra Bluetooth Stereo Headset Black Renewed  "
      ]
     },
     "execution_count": 87,
     "metadata": {},
     "output_type": "execute_result"
    }
   ],
   "source": [
    "ads.head()"
   ]
  },
  {
   "cell_type": "code",
   "execution_count": 88,
   "metadata": {},
   "outputs": [
    {
     "data": {
      "text/plain": [
       "<8998x4728 sparse matrix of type '<class 'numpy.float64'>'\n",
       "\twith 83634 stored elements in Compressed Sparse Row format>"
      ]
     },
     "execution_count": 88,
     "metadata": {},
     "output_type": "execute_result"
    }
   ],
   "source": [
    "tfidf = TfidfVectorizer(max_df=0.95, min_df=2)\n",
    "\n",
    "dtm = tfidf.fit_transform(ads['SW'])\n",
    "\n",
    "dtm"
   ]
  },
  {
   "cell_type": "code",
   "execution_count": 89,
   "metadata": {},
   "outputs": [
    {
     "data": {
      "text/plain": [
       "(8998, 4728)"
      ]
     },
     "execution_count": 89,
     "metadata": {},
     "output_type": "execute_result"
    }
   ],
   "source": [
    "dtm.shape"
   ]
  },
  {
   "cell_type": "code",
   "execution_count": 90,
   "metadata": {},
   "outputs": [
    {
     "data": {
      "text/plain": [
       "NMF(alpha=0.0, beta_loss='frobenius', init=None, l1_ratio=0.0, max_iter=200,\n",
       "    n_components=9, random_state=42, shuffle=False, solver='cd', tol=0.0001,\n",
       "    verbose=0)"
      ]
     },
     "execution_count": 90,
     "metadata": {},
     "output_type": "execute_result"
    }
   ],
   "source": [
    "nmf_model = NMF(n_components=9,random_state=42)\n",
    "\n",
    "# This can take awhile, we're dealing with a large amount of documents!\n",
    "nmf_model.fit(dtm)"
   ]
  },
  {
   "cell_type": "code",
   "execution_count": 91,
   "metadata": {},
   "outputs": [
    {
     "data": {
      "text/plain": [
       "4728"
      ]
     },
     "execution_count": 91,
     "metadata": {},
     "output_type": "execute_result"
    }
   ],
   "source": [
    "len(tfidf.get_feature_names())"
   ]
  },
  {
   "cell_type": "code",
   "execution_count": 92,
   "metadata": {},
   "outputs": [
    {
     "name": "stdout",
     "output_type": "stream",
     "text": [
      "THE TOP 5 WORDS FOR TOPIC #0\n",
      "['stainless', 'steel', 'strap', 'quartz', 'watch']\n",
      "\n",
      "\n",
      "THE TOP 5 WORDS FOR TOPIC #1\n",
      "['earbuds', 'wireless', 'ear', 'bluetooth', 'headphones']\n",
      "\n",
      "\n",
      "THE TOP 5 WORDS FOR TOPIC #2\n",
      "['hdmi', 'screen', 'lcd', 'led', 'monitor']\n",
      "\n",
      "\n",
      "THE TOP 5 WORDS FOR TOPIC #3\n",
      "['white', 'gold', 'sterling', 'silver', 'ring']\n",
      "\n",
      "\n",
      "THE TOP 5 WORDS FOR TOPIC #4\n",
      "['canon', 'color', 'photo', 'hp', 'printer']\n",
      "\n",
      "\n",
      "THE TOP 5 WORDS FOR TOPIC #5\n",
      "['denim', 'rise', 'women', 'skinny', 'jeans']\n",
      "\n",
      "\n",
      "THE TOP 5 WORDS FOR TOPIC #6\n",
      "['travel', 'school', 'laptop', 'bag', 'backpack']\n",
      "\n",
      "\n",
      "THE TOP 5 WORDS FOR TOPIC #7\n",
      "['sneakers', 'low', 'fashion', 'sneaker', 'women']\n",
      "\n",
      "\n",
      "THE TOP 5 WORDS FOR TOPIC #8\n",
      "['brush', 'accessories', 'clips', 'oz', 'hair']\n",
      "\n",
      "\n"
     ]
    }
   ],
   "source": [
    "for index,topic in enumerate(nmf_model.components_):\n",
    "    print(f'THE TOP 5 WORDS FOR TOPIC #{index}')\n",
    "    print([tfidf.get_feature_names()[i] for i in topic.argsort()[-5:]])\n",
    "    print('\\n')"
   ]
  },
  {
   "cell_type": "code",
   "execution_count": 93,
   "metadata": {},
   "outputs": [],
   "source": [
    "topic_results = nmf_model.transform(dtm)"
   ]
  },
  {
   "cell_type": "code",
   "execution_count": 94,
   "metadata": {},
   "outputs": [
    {
     "data": {
      "text/html": [
       "<div>\n",
       "<style scoped>\n",
       "    .dataframe tbody tr th:only-of-type {\n",
       "        vertical-align: middle;\n",
       "    }\n",
       "\n",
       "    .dataframe tbody tr th {\n",
       "        vertical-align: top;\n",
       "    }\n",
       "\n",
       "    .dataframe thead th {\n",
       "        text-align: right;\n",
       "    }\n",
       "</style>\n",
       "<table border=\"1\" class=\"dataframe\">\n",
       "  <thead>\n",
       "    <tr style=\"text-align: right;\">\n",
       "      <th></th>\n",
       "      <th>ad</th>\n",
       "      <th>label</th>\n",
       "      <th>length</th>\n",
       "      <th>SW</th>\n",
       "      <th>Topic Label</th>\n",
       "      <th>Topic Name</th>\n",
       "    </tr>\n",
       "  </thead>\n",
       "  <tbody>\n",
       "    <tr>\n",
       "      <td>1988</td>\n",
       "      <td>Lexmark Printer Caster Base (40G0855)</td>\n",
       "      <td>1</td>\n",
       "      <td>37</td>\n",
       "      <td>Lexmark Printer Caster Base</td>\n",
       "      <td>4</td>\n",
       "      <td>Printer</td>\n",
       "    </tr>\n",
       "    <tr>\n",
       "      <td>4393</td>\n",
       "      <td>Charles Winston, S Silver, Cubic Zirconia Trinity Ring, with Charles Winston...</td>\n",
       "      <td>4</td>\n",
       "      <td>138</td>\n",
       "      <td>Charles Winston S Silver Cubic Zirconia Trinity Ring Charles Winston Scintil...</td>\n",
       "      <td>3</td>\n",
       "      <td>Ring</td>\n",
       "    </tr>\n",
       "    <tr>\n",
       "      <td>5800</td>\n",
       "      <td>Vera Bradley Essential Compact Backpack (Navy), Small</td>\n",
       "      <td>5</td>\n",
       "      <td>53</td>\n",
       "      <td>Vera Bradley Essential Compact Backpack Navy Small</td>\n",
       "      <td>6</td>\n",
       "      <td>Backpack</td>\n",
       "    </tr>\n",
       "    <tr>\n",
       "      <td>6489</td>\n",
       "      <td>DL1961 Womens Florence Instasculpt in Riker</td>\n",
       "      <td>6</td>\n",
       "      <td>43</td>\n",
       "      <td>Womens Florence Instasculpt Riker</td>\n",
       "      <td>5</td>\n",
       "      <td>Jeans</td>\n",
       "    </tr>\n",
       "    <tr>\n",
       "      <td>2323</td>\n",
       "      <td>LG Electronics Tone Ultra (HBS-800) Bluetooth Stereo Headset - Black (Renewed)</td>\n",
       "      <td>2</td>\n",
       "      <td>78</td>\n",
       "      <td>LG Electronics Tone Ultra Bluetooth Stereo Headset Black Renewed</td>\n",
       "      <td>1</td>\n",
       "      <td>Headphones</td>\n",
       "    </tr>\n",
       "    <tr>\n",
       "      <td>...</td>\n",
       "      <td>...</td>\n",
       "      <td>...</td>\n",
       "      <td>...</td>\n",
       "      <td>...</td>\n",
       "      <td>...</td>\n",
       "      <td>...</td>\n",
       "    </tr>\n",
       "    <tr>\n",
       "      <td>3726</td>\n",
       "      <td>Cover Your Gray Fill-in Powder Two Shades in One, Dark Brown/Black</td>\n",
       "      <td>3</td>\n",
       "      <td>66</td>\n",
       "      <td>Cover Gray Fill Powder Shades Dark Brown Black</td>\n",
       "      <td>8</td>\n",
       "      <td>Hair-Care</td>\n",
       "    </tr>\n",
       "    <tr>\n",
       "      <td>3328</td>\n",
       "      <td>Moroccan Argan Oil Shampoo Sulfate Free for Normal Oily Curly Dry Damaged Co...</td>\n",
       "      <td>3</td>\n",
       "      <td>122</td>\n",
       "      <td>Moroccan Argan Oil Shampoo Sulfate Free Normal Oily Curly Dry Damaged Color ...</td>\n",
       "      <td>8</td>\n",
       "      <td>Hair-Care</td>\n",
       "    </tr>\n",
       "    <tr>\n",
       "      <td>299</td>\n",
       "      <td>HP-CTO E4U30AA#ABA 18.9\" EliteDisplay E190i LEDMN</td>\n",
       "      <td>0</td>\n",
       "      <td>49</td>\n",
       "      <td>HP CTO  EliteDisplay LEDMN</td>\n",
       "      <td>4</td>\n",
       "      <td>Printer</td>\n",
       "    </tr>\n",
       "    <tr>\n",
       "      <td>3116</td>\n",
       "      <td>11\" Inch Styrofoam Mannequin Wig Head Foam Manikin Display Head Wig Hat Stan...</td>\n",
       "      <td>3</td>\n",
       "      <td>146</td>\n",
       "      <td>Inch Styrofoam Mannequin Wig Head Foam Manikin Display Head Wig Hat Stand Wh...</td>\n",
       "      <td>8</td>\n",
       "      <td>Hair-Care</td>\n",
       "    </tr>\n",
       "    <tr>\n",
       "      <td>5491</td>\n",
       "      <td>Kids Backpacks for Little Girls by Fenrici, 16 Inch Book Bags for Preschooler</td>\n",
       "      <td>5</td>\n",
       "      <td>77</td>\n",
       "      <td>Kids Backpacks Little Girls Fenrici Inch Book Bags Preschooler</td>\n",
       "      <td>6</td>\n",
       "      <td>Backpack</td>\n",
       "    </tr>\n",
       "  </tbody>\n",
       "</table>\n",
       "<p>8998 rows × 6 columns</p>\n",
       "</div>"
      ],
      "text/plain": [
       "                                                                                   ad  \\\n",
       "1988                                            Lexmark Printer Caster Base (40G0855)   \n",
       "4393  Charles Winston, S Silver, Cubic Zirconia Trinity Ring, with Charles Winston...   \n",
       "5800                            Vera Bradley Essential Compact Backpack (Navy), Small   \n",
       "6489                                      DL1961 Womens Florence Instasculpt in Riker   \n",
       "2323   LG Electronics Tone Ultra (HBS-800) Bluetooth Stereo Headset - Black (Renewed)   \n",
       "...                                                                               ...   \n",
       "3726               Cover Your Gray Fill-in Powder Two Shades in One, Dark Brown/Black   \n",
       "3328  Moroccan Argan Oil Shampoo Sulfate Free for Normal Oily Curly Dry Damaged Co...   \n",
       "299                                 HP-CTO E4U30AA#ABA 18.9\" EliteDisplay E190i LEDMN   \n",
       "3116  11\" Inch Styrofoam Mannequin Wig Head Foam Manikin Display Head Wig Hat Stan...   \n",
       "5491    Kids Backpacks for Little Girls by Fenrici, 16 Inch Book Bags for Preschooler   \n",
       "\n",
       "     label  length  \\\n",
       "1988     1      37   \n",
       "4393     4     138   \n",
       "5800     5      53   \n",
       "6489     6      43   \n",
       "2323     2      78   \n",
       "...    ...     ...   \n",
       "3726     3      66   \n",
       "3328     3     122   \n",
       "299      0      49   \n",
       "3116     3     146   \n",
       "5491     5      77   \n",
       "\n",
       "                                                                                   SW  \\\n",
       "1988                                                      Lexmark Printer Caster Base   \n",
       "4393  Charles Winston S Silver Cubic Zirconia Trinity Ring Charles Winston Scintil...   \n",
       "5800                               Vera Bradley Essential Compact Backpack Navy Small   \n",
       "6489                                                Womens Florence Instasculpt Riker   \n",
       "2323                 LG Electronics Tone Ultra Bluetooth Stereo Headset Black Renewed   \n",
       "...                                                                               ...   \n",
       "3726                                   Cover Gray Fill Powder Shades Dark Brown Black   \n",
       "3328  Moroccan Argan Oil Shampoo Sulfate Free Normal Oily Curly Dry Damaged Color ...   \n",
       "299                                                        HP CTO  EliteDisplay LEDMN   \n",
       "3116  Inch Styrofoam Mannequin Wig Head Foam Manikin Display Head Wig Hat Stand Wh...   \n",
       "5491                   Kids Backpacks Little Girls Fenrici Inch Book Bags Preschooler   \n",
       "\n",
       "      Topic Label  Topic Name  \n",
       "1988            4     Printer  \n",
       "4393            3        Ring  \n",
       "5800            6    Backpack  \n",
       "6489            5       Jeans  \n",
       "2323            1  Headphones  \n",
       "...           ...         ...  \n",
       "3726            8   Hair-Care  \n",
       "3328            8   Hair-Care  \n",
       "299             4     Printer  \n",
       "3116            8   Hair-Care  \n",
       "5491            6    Backpack  \n",
       "\n",
       "[8998 rows x 6 columns]"
      ]
     },
     "execution_count": 94,
     "metadata": {},
     "output_type": "execute_result"
    }
   ],
   "source": [
    "ads['Topic Label'] = topic_results.argmax(axis=1)\n",
    "\n",
    "my_topic_dictionary = {0: 'Watches', \n",
    "                       1: 'Headphones', \n",
    "                       2: 'Monitors', \n",
    "                       3: 'Ring', \n",
    "                       4: 'Printer', \n",
    "                       5: 'Jeans', \n",
    "                       6: 'Backpack',\n",
    "                       7: 'Sneakers', \n",
    "                       8: 'Hair-Care'}\n",
    "\n",
    "ads['Topic Name'] = ads['Topic Label'].map(my_topic_dictionary)\n",
    "ads"
   ]
  },
  {
   "cell_type": "markdown",
   "metadata": {},
   "source": [
    "<li>0 - monitors</li>\n",
    "<li>1 - printers</li>\n",
    "<li>2 - headphones</li>\n",
    "<li>3 - hair-care</li>\n",
    "<li>4 - rings</li>\n",
    "<li>5 - backpacks</li>\n",
    "<li>6 - jeans</li>\n",
    "<li>7 - shoes</li>\n",
    "<li>8 - watches</li>\n",
    "\n",
    "\n",
    "                      {0: 'Watches', \n",
    "                       1: 'Headphones', \n",
    "                       2: 'Monitors', \n",
    "                       3: 'Ring', \n",
    "                       4: 'Printer', \n",
    "                       5: 'Jeans', \n",
    "                       6: 'Backpack',\n",
    "                       7: 'Sneakers', \n",
    "                       8: 'Hair-Care'}"
   ]
  },
  {
   "cell_type": "code",
   "execution_count": 95,
   "metadata": {},
   "outputs": [],
   "source": [
    "def reassign_2_label(topic):\n",
    "    switcher = {\n",
    "        0: 8,\n",
    "        1: 2,\n",
    "        2: 0,\n",
    "        3: 4,\n",
    "        4: 1,\n",
    "        5: 6,\n",
    "        6: 5,\n",
    "        7: 7,\n",
    "        8: 3\n",
    "    }\n",
    "    return switcher.get(topic)"
   ]
  },
  {
   "cell_type": "code",
   "execution_count": 96,
   "metadata": {},
   "outputs": [
    {
     "data": {
      "text/html": [
       "<div>\n",
       "<style scoped>\n",
       "    .dataframe tbody tr th:only-of-type {\n",
       "        vertical-align: middle;\n",
       "    }\n",
       "\n",
       "    .dataframe tbody tr th {\n",
       "        vertical-align: top;\n",
       "    }\n",
       "\n",
       "    .dataframe thead th {\n",
       "        text-align: right;\n",
       "    }\n",
       "</style>\n",
       "<table border=\"1\" class=\"dataframe\">\n",
       "  <thead>\n",
       "    <tr style=\"text-align: right;\">\n",
       "      <th></th>\n",
       "      <th>ad</th>\n",
       "      <th>label</th>\n",
       "      <th>length</th>\n",
       "      <th>SW</th>\n",
       "      <th>Topic Label</th>\n",
       "      <th>Topic Name</th>\n",
       "      <th>Predicted Label</th>\n",
       "    </tr>\n",
       "  </thead>\n",
       "  <tbody>\n",
       "    <tr>\n",
       "      <td>1988</td>\n",
       "      <td>Lexmark Printer Caster Base (40G0855)</td>\n",
       "      <td>1</td>\n",
       "      <td>37</td>\n",
       "      <td>Lexmark Printer Caster Base</td>\n",
       "      <td>4</td>\n",
       "      <td>Printer</td>\n",
       "      <td>1</td>\n",
       "    </tr>\n",
       "    <tr>\n",
       "      <td>4393</td>\n",
       "      <td>Charles Winston, S Silver, Cubic Zirconia Trinity Ring, with Charles Winston...</td>\n",
       "      <td>4</td>\n",
       "      <td>138</td>\n",
       "      <td>Charles Winston S Silver Cubic Zirconia Trinity Ring Charles Winston Scintil...</td>\n",
       "      <td>3</td>\n",
       "      <td>Ring</td>\n",
       "      <td>4</td>\n",
       "    </tr>\n",
       "    <tr>\n",
       "      <td>5800</td>\n",
       "      <td>Vera Bradley Essential Compact Backpack (Navy), Small</td>\n",
       "      <td>5</td>\n",
       "      <td>53</td>\n",
       "      <td>Vera Bradley Essential Compact Backpack Navy Small</td>\n",
       "      <td>6</td>\n",
       "      <td>Backpack</td>\n",
       "      <td>5</td>\n",
       "    </tr>\n",
       "    <tr>\n",
       "      <td>6489</td>\n",
       "      <td>DL1961 Womens Florence Instasculpt in Riker</td>\n",
       "      <td>6</td>\n",
       "      <td>43</td>\n",
       "      <td>Womens Florence Instasculpt Riker</td>\n",
       "      <td>5</td>\n",
       "      <td>Jeans</td>\n",
       "      <td>6</td>\n",
       "    </tr>\n",
       "    <tr>\n",
       "      <td>2323</td>\n",
       "      <td>LG Electronics Tone Ultra (HBS-800) Bluetooth Stereo Headset - Black (Renewed)</td>\n",
       "      <td>2</td>\n",
       "      <td>78</td>\n",
       "      <td>LG Electronics Tone Ultra Bluetooth Stereo Headset Black Renewed</td>\n",
       "      <td>1</td>\n",
       "      <td>Headphones</td>\n",
       "      <td>2</td>\n",
       "    </tr>\n",
       "  </tbody>\n",
       "</table>\n",
       "</div>"
      ],
      "text/plain": [
       "                                                                                   ad  \\\n",
       "1988                                            Lexmark Printer Caster Base (40G0855)   \n",
       "4393  Charles Winston, S Silver, Cubic Zirconia Trinity Ring, with Charles Winston...   \n",
       "5800                            Vera Bradley Essential Compact Backpack (Navy), Small   \n",
       "6489                                      DL1961 Womens Florence Instasculpt in Riker   \n",
       "2323   LG Electronics Tone Ultra (HBS-800) Bluetooth Stereo Headset - Black (Renewed)   \n",
       "\n",
       "     label  length  \\\n",
       "1988     1      37   \n",
       "4393     4     138   \n",
       "5800     5      53   \n",
       "6489     6      43   \n",
       "2323     2      78   \n",
       "\n",
       "                                                                                   SW  \\\n",
       "1988                                                      Lexmark Printer Caster Base   \n",
       "4393  Charles Winston S Silver Cubic Zirconia Trinity Ring Charles Winston Scintil...   \n",
       "5800                               Vera Bradley Essential Compact Backpack Navy Small   \n",
       "6489                                                Womens Florence Instasculpt Riker   \n",
       "2323                 LG Electronics Tone Ultra Bluetooth Stereo Headset Black Renewed   \n",
       "\n",
       "      Topic Label  Topic Name  Predicted Label  \n",
       "1988            4     Printer                1  \n",
       "4393            3        Ring                4  \n",
       "5800            6    Backpack                5  \n",
       "6489            5       Jeans                6  \n",
       "2323            1  Headphones                2  "
      ]
     },
     "execution_count": 96,
     "metadata": {},
     "output_type": "execute_result"
    }
   ],
   "source": [
    "ads['Predicted Label'] = ads['Topic Label'].apply(reassign_2_label)\n",
    "ads.head()"
   ]
  },
  {
   "cell_type": "code",
   "execution_count": 97,
   "metadata": {},
   "outputs": [],
   "source": [
    "from sklearn.metrics import confusion_matrix, accuracy_score, classification_report"
   ]
  },
  {
   "cell_type": "code",
   "execution_count": 98,
   "metadata": {},
   "outputs": [],
   "source": [
    "confusion_matrix = pd.crosstab(ads['label'], ads['Predicted Label'])"
   ]
  },
  {
   "cell_type": "code",
   "execution_count": 99,
   "metadata": {
    "scrolled": true
   },
   "outputs": [
    {
     "data": {
      "text/html": [
       "<div>\n",
       "<style scoped>\n",
       "    .dataframe tbody tr th:only-of-type {\n",
       "        vertical-align: middle;\n",
       "    }\n",
       "\n",
       "    .dataframe tbody tr th {\n",
       "        vertical-align: top;\n",
       "    }\n",
       "\n",
       "    .dataframe thead th {\n",
       "        text-align: right;\n",
       "    }\n",
       "</style>\n",
       "<table border=\"1\" class=\"dataframe\">\n",
       "  <thead>\n",
       "    <tr style=\"text-align: right;\">\n",
       "      <th>Predicted Label</th>\n",
       "      <th>0</th>\n",
       "      <th>1</th>\n",
       "      <th>2</th>\n",
       "      <th>3</th>\n",
       "      <th>4</th>\n",
       "      <th>5</th>\n",
       "      <th>6</th>\n",
       "      <th>7</th>\n",
       "      <th>8</th>\n",
       "    </tr>\n",
       "    <tr>\n",
       "      <th>label</th>\n",
       "      <th></th>\n",
       "      <th></th>\n",
       "      <th></th>\n",
       "      <th></th>\n",
       "      <th></th>\n",
       "      <th></th>\n",
       "      <th></th>\n",
       "      <th></th>\n",
       "      <th></th>\n",
       "    </tr>\n",
       "  </thead>\n",
       "  <tbody>\n",
       "    <tr>\n",
       "      <td>0</td>\n",
       "      <td>976</td>\n",
       "      <td>11</td>\n",
       "      <td>2</td>\n",
       "      <td>3</td>\n",
       "      <td>1</td>\n",
       "      <td>5</td>\n",
       "      <td>0</td>\n",
       "      <td>0</td>\n",
       "      <td>2</td>\n",
       "    </tr>\n",
       "    <tr>\n",
       "      <td>1</td>\n",
       "      <td>23</td>\n",
       "      <td>949</td>\n",
       "      <td>8</td>\n",
       "      <td>6</td>\n",
       "      <td>3</td>\n",
       "      <td>4</td>\n",
       "      <td>1</td>\n",
       "      <td>3</td>\n",
       "      <td>2</td>\n",
       "    </tr>\n",
       "    <tr>\n",
       "      <td>2</td>\n",
       "      <td>10</td>\n",
       "      <td>3</td>\n",
       "      <td>966</td>\n",
       "      <td>1</td>\n",
       "      <td>6</td>\n",
       "      <td>7</td>\n",
       "      <td>2</td>\n",
       "      <td>2</td>\n",
       "      <td>1</td>\n",
       "    </tr>\n",
       "    <tr>\n",
       "      <td>3</td>\n",
       "      <td>1</td>\n",
       "      <td>3</td>\n",
       "      <td>2</td>\n",
       "      <td>964</td>\n",
       "      <td>8</td>\n",
       "      <td>4</td>\n",
       "      <td>5</td>\n",
       "      <td>10</td>\n",
       "      <td>3</td>\n",
       "    </tr>\n",
       "    <tr>\n",
       "      <td>4</td>\n",
       "      <td>0</td>\n",
       "      <td>0</td>\n",
       "      <td>0</td>\n",
       "      <td>1</td>\n",
       "      <td>985</td>\n",
       "      <td>0</td>\n",
       "      <td>1</td>\n",
       "      <td>9</td>\n",
       "      <td>4</td>\n",
       "    </tr>\n",
       "    <tr>\n",
       "      <td>5</td>\n",
       "      <td>1</td>\n",
       "      <td>1</td>\n",
       "      <td>3</td>\n",
       "      <td>25</td>\n",
       "      <td>7</td>\n",
       "      <td>944</td>\n",
       "      <td>7</td>\n",
       "      <td>10</td>\n",
       "      <td>2</td>\n",
       "    </tr>\n",
       "    <tr>\n",
       "      <td>6</td>\n",
       "      <td>0</td>\n",
       "      <td>0</td>\n",
       "      <td>0</td>\n",
       "      <td>0</td>\n",
       "      <td>0</td>\n",
       "      <td>0</td>\n",
       "      <td>945</td>\n",
       "      <td>53</td>\n",
       "      <td>2</td>\n",
       "    </tr>\n",
       "    <tr>\n",
       "      <td>7</td>\n",
       "      <td>1</td>\n",
       "      <td>0</td>\n",
       "      <td>2</td>\n",
       "      <td>0</td>\n",
       "      <td>7</td>\n",
       "      <td>16</td>\n",
       "      <td>25</td>\n",
       "      <td>946</td>\n",
       "      <td>3</td>\n",
       "    </tr>\n",
       "    <tr>\n",
       "      <td>8</td>\n",
       "      <td>1</td>\n",
       "      <td>0</td>\n",
       "      <td>4</td>\n",
       "      <td>2</td>\n",
       "      <td>34</td>\n",
       "      <td>4</td>\n",
       "      <td>16</td>\n",
       "      <td>64</td>\n",
       "      <td>875</td>\n",
       "    </tr>\n",
       "    <tr>\n",
       "      <td>Letsfit Wireless Headphones</td>\n",
       "      <td>0</td>\n",
       "      <td>0</td>\n",
       "      <td>1</td>\n",
       "      <td>0</td>\n",
       "      <td>0</td>\n",
       "      <td>0</td>\n",
       "      <td>0</td>\n",
       "      <td>0</td>\n",
       "      <td>0</td>\n",
       "    </tr>\n",
       "  </tbody>\n",
       "</table>\n",
       "</div>"
      ],
      "text/plain": [
       "Predicted Label                 0    1    2    3    4    5    6    7    8\n",
       "label                                                                    \n",
       " 0                            976   11    2    3    1    5    0    0    2\n",
       " 1                             23  949    8    6    3    4    1    3    2\n",
       " 2                             10    3  966    1    6    7    2    2    1\n",
       " 3                              1    3    2  964    8    4    5   10    3\n",
       " 4                              0    0    0    1  985    0    1    9    4\n",
       " 5                              1    1    3   25    7  944    7   10    2\n",
       " 6                              0    0    0    0    0    0  945   53    2\n",
       " 7                              1    0    2    0    7   16   25  946    3\n",
       " 8                              1    0    4    2   34    4   16   64  875\n",
       " Letsfit Wireless Headphones    0    0    1    0    0    0    0    0    0"
      ]
     },
     "execution_count": 99,
     "metadata": {},
     "output_type": "execute_result"
    }
   ],
   "source": [
    "confusion_matrix"
   ]
  },
  {
   "cell_type": "code",
   "execution_count": 102,
   "metadata": {},
   "outputs": [
    {
     "data": {
      "text/html": [
       "<div>\n",
       "<style scoped>\n",
       "    .dataframe tbody tr th:only-of-type {\n",
       "        vertical-align: middle;\n",
       "    }\n",
       "\n",
       "    .dataframe tbody tr th {\n",
       "        vertical-align: top;\n",
       "    }\n",
       "\n",
       "    .dataframe thead th {\n",
       "        text-align: right;\n",
       "    }\n",
       "</style>\n",
       "<table border=\"1\" class=\"dataframe\">\n",
       "  <thead>\n",
       "    <tr style=\"text-align: right;\">\n",
       "      <th></th>\n",
       "      <th>length</th>\n",
       "      <th>Topic Label</th>\n",
       "      <th>Predicted Label</th>\n",
       "    </tr>\n",
       "  </thead>\n",
       "  <tbody>\n",
       "    <tr>\n",
       "      <td>count</td>\n",
       "      <td>8997.000000</td>\n",
       "      <td>8997.000000</td>\n",
       "      <td>8997.000000</td>\n",
       "    </tr>\n",
       "    <tr>\n",
       "      <td>mean</td>\n",
       "      <td>83.488274</td>\n",
       "      <td>4.072802</td>\n",
       "      <td>3.991775</td>\n",
       "    </tr>\n",
       "    <tr>\n",
       "      <td>std</td>\n",
       "      <td>44.057581</td>\n",
       "      <td>2.562802</td>\n",
       "      <td>2.561589</td>\n",
       "    </tr>\n",
       "    <tr>\n",
       "      <td>min</td>\n",
       "      <td>2.000000</td>\n",
       "      <td>0.000000</td>\n",
       "      <td>0.000000</td>\n",
       "    </tr>\n",
       "    <tr>\n",
       "      <td>25%</td>\n",
       "      <td>51.000000</td>\n",
       "      <td>2.000000</td>\n",
       "      <td>2.000000</td>\n",
       "    </tr>\n",
       "    <tr>\n",
       "      <td>50%</td>\n",
       "      <td>72.000000</td>\n",
       "      <td>4.000000</td>\n",
       "      <td>4.000000</td>\n",
       "    </tr>\n",
       "    <tr>\n",
       "      <td>75%</td>\n",
       "      <td>104.000000</td>\n",
       "      <td>6.000000</td>\n",
       "      <td>6.000000</td>\n",
       "    </tr>\n",
       "    <tr>\n",
       "      <td>max</td>\n",
       "      <td>305.000000</td>\n",
       "      <td>8.000000</td>\n",
       "      <td>8.000000</td>\n",
       "    </tr>\n",
       "  </tbody>\n",
       "</table>\n",
       "</div>"
      ],
      "text/plain": [
       "            length  Topic Label  Predicted Label\n",
       "count  8997.000000  8997.000000      8997.000000\n",
       "mean     83.488274     4.072802         3.991775\n",
       "std      44.057581     2.562802         2.561589\n",
       "min       2.000000     0.000000         0.000000\n",
       "25%      51.000000     2.000000         2.000000\n",
       "50%      72.000000     4.000000         4.000000\n",
       "75%     104.000000     6.000000         6.000000\n",
       "max     305.000000     8.000000         8.000000"
      ]
     },
     "execution_count": 102,
     "metadata": {},
     "output_type": "execute_result"
    }
   ],
   "source": [
    "ads.describe()"
   ]
  },
  {
   "cell_type": "code",
   "execution_count": 103,
   "metadata": {},
   "outputs": [
    {
     "data": {
      "text/html": [
       "<div>\n",
       "<style scoped>\n",
       "    .dataframe tbody tr th:only-of-type {\n",
       "        vertical-align: middle;\n",
       "    }\n",
       "\n",
       "    .dataframe tbody tr th {\n",
       "        vertical-align: top;\n",
       "    }\n",
       "\n",
       "    .dataframe thead th {\n",
       "        text-align: right;\n",
       "    }\n",
       "</style>\n",
       "<table border=\"1\" class=\"dataframe\">\n",
       "  <thead>\n",
       "    <tr style=\"text-align: right;\">\n",
       "      <th>Predicted Label</th>\n",
       "      <th>0</th>\n",
       "      <th>1</th>\n",
       "      <th>2</th>\n",
       "      <th>3</th>\n",
       "      <th>4</th>\n",
       "      <th>5</th>\n",
       "      <th>6</th>\n",
       "      <th>7</th>\n",
       "      <th>8</th>\n",
       "    </tr>\n",
       "    <tr>\n",
       "      <th>label</th>\n",
       "      <th></th>\n",
       "      <th></th>\n",
       "      <th></th>\n",
       "      <th></th>\n",
       "      <th></th>\n",
       "      <th></th>\n",
       "      <th></th>\n",
       "      <th></th>\n",
       "      <th></th>\n",
       "    </tr>\n",
       "  </thead>\n",
       "  <tbody>\n",
       "    <tr>\n",
       "      <td>0</td>\n",
       "      <td>976</td>\n",
       "      <td>11</td>\n",
       "      <td>2</td>\n",
       "      <td>3</td>\n",
       "      <td>1</td>\n",
       "      <td>5</td>\n",
       "      <td>0</td>\n",
       "      <td>0</td>\n",
       "      <td>2</td>\n",
       "    </tr>\n",
       "    <tr>\n",
       "      <td>1</td>\n",
       "      <td>23</td>\n",
       "      <td>949</td>\n",
       "      <td>8</td>\n",
       "      <td>6</td>\n",
       "      <td>3</td>\n",
       "      <td>4</td>\n",
       "      <td>1</td>\n",
       "      <td>3</td>\n",
       "      <td>2</td>\n",
       "    </tr>\n",
       "    <tr>\n",
       "      <td>2</td>\n",
       "      <td>10</td>\n",
       "      <td>3</td>\n",
       "      <td>966</td>\n",
       "      <td>1</td>\n",
       "      <td>6</td>\n",
       "      <td>7</td>\n",
       "      <td>2</td>\n",
       "      <td>2</td>\n",
       "      <td>1</td>\n",
       "    </tr>\n",
       "    <tr>\n",
       "      <td>3</td>\n",
       "      <td>1</td>\n",
       "      <td>3</td>\n",
       "      <td>2</td>\n",
       "      <td>964</td>\n",
       "      <td>8</td>\n",
       "      <td>4</td>\n",
       "      <td>5</td>\n",
       "      <td>10</td>\n",
       "      <td>3</td>\n",
       "    </tr>\n",
       "    <tr>\n",
       "      <td>4</td>\n",
       "      <td>0</td>\n",
       "      <td>0</td>\n",
       "      <td>0</td>\n",
       "      <td>1</td>\n",
       "      <td>985</td>\n",
       "      <td>0</td>\n",
       "      <td>1</td>\n",
       "      <td>9</td>\n",
       "      <td>4</td>\n",
       "    </tr>\n",
       "    <tr>\n",
       "      <td>5</td>\n",
       "      <td>1</td>\n",
       "      <td>1</td>\n",
       "      <td>3</td>\n",
       "      <td>25</td>\n",
       "      <td>7</td>\n",
       "      <td>944</td>\n",
       "      <td>7</td>\n",
       "      <td>10</td>\n",
       "      <td>2</td>\n",
       "    </tr>\n",
       "    <tr>\n",
       "      <td>6</td>\n",
       "      <td>0</td>\n",
       "      <td>0</td>\n",
       "      <td>0</td>\n",
       "      <td>0</td>\n",
       "      <td>0</td>\n",
       "      <td>0</td>\n",
       "      <td>945</td>\n",
       "      <td>53</td>\n",
       "      <td>2</td>\n",
       "    </tr>\n",
       "    <tr>\n",
       "      <td>7</td>\n",
       "      <td>1</td>\n",
       "      <td>0</td>\n",
       "      <td>2</td>\n",
       "      <td>0</td>\n",
       "      <td>7</td>\n",
       "      <td>16</td>\n",
       "      <td>25</td>\n",
       "      <td>946</td>\n",
       "      <td>3</td>\n",
       "    </tr>\n",
       "    <tr>\n",
       "      <td>8</td>\n",
       "      <td>1</td>\n",
       "      <td>0</td>\n",
       "      <td>4</td>\n",
       "      <td>2</td>\n",
       "      <td>34</td>\n",
       "      <td>4</td>\n",
       "      <td>16</td>\n",
       "      <td>64</td>\n",
       "      <td>875</td>\n",
       "    </tr>\n",
       "  </tbody>\n",
       "</table>\n",
       "</div>"
      ],
      "text/plain": [
       "Predicted Label    0    1    2    3    4    5    6    7    8\n",
       "label                                                       \n",
       " 0               976   11    2    3    1    5    0    0    2\n",
       " 1                23  949    8    6    3    4    1    3    2\n",
       " 2                10    3  966    1    6    7    2    2    1\n",
       " 3                 1    3    2  964    8    4    5   10    3\n",
       " 4                 0    0    0    1  985    0    1    9    4\n",
       " 5                 1    1    3   25    7  944    7   10    2\n",
       " 6                 0    0    0    0    0    0  945   53    2\n",
       " 7                 1    0    2    0    7   16   25  946    3\n",
       " 8                 1    0    4    2   34    4   16   64  875"
      ]
     },
     "execution_count": 103,
     "metadata": {},
     "output_type": "execute_result"
    }
   ],
   "source": [
    "confusion_matrix = pd.crosstab(ads['label'], ads['Predicted Label'])\n",
    "confusion_matrix"
   ]
  },
  {
   "cell_type": "code",
   "execution_count": 105,
   "metadata": {},
   "outputs": [
    {
     "data": {
      "text/plain": [
       "count     8997\n",
       "unique       9\n",
       "top          0\n",
       "freq      1000\n",
       "Name: label, dtype: object"
      ]
     },
     "execution_count": 105,
     "metadata": {},
     "output_type": "execute_result"
    }
   ],
   "source": [
    "ads['label'].describe()"
   ]
  },
  {
   "cell_type": "code",
   "execution_count": 106,
   "metadata": {},
   "outputs": [
    {
     "data": {
      "text/plain": [
       "count    8997.000000\n",
       "mean        3.991775\n",
       "std         2.561589\n",
       "min         0.000000\n",
       "25%         2.000000\n",
       "50%         4.000000\n",
       "75%         6.000000\n",
       "max         8.000000\n",
       "Name: Predicted Label, dtype: float64"
      ]
     },
     "execution_count": 106,
     "metadata": {},
     "output_type": "execute_result"
    }
   ],
   "source": [
    "ads['Predicted Label'].describe()"
   ]
  },
  {
   "cell_type": "code",
   "execution_count": 108,
   "metadata": {},
   "outputs": [
    {
     "data": {
      "text/plain": [
       "ad                 object\n",
       "label              object\n",
       "length              int64\n",
       "SW                 object\n",
       "Topic Label         int64\n",
       "Topic Name         object\n",
       "Predicted Label     int64\n",
       "dtype: object"
      ]
     },
     "execution_count": 108,
     "metadata": {},
     "output_type": "execute_result"
    }
   ],
   "source": [
    "ads.dtypes"
   ]
  },
  {
   "cell_type": "markdown",
   "metadata": {},
   "source": [
    "### ads['label'] is an object, which in pandas language means string\n",
    "#### to provide accuracy validation we got to make it INT"
   ]
  },
  {
   "cell_type": "code",
   "execution_count": 111,
   "metadata": {},
   "outputs": [],
   "source": [
    "label = pd.DataFrame(ads['label'].astype(str).astype(int))"
   ]
  },
  {
   "cell_type": "code",
   "execution_count": 113,
   "metadata": {},
   "outputs": [
    {
     "data": {
      "text/html": [
       "<div>\n",
       "<style scoped>\n",
       "    .dataframe tbody tr th:only-of-type {\n",
       "        vertical-align: middle;\n",
       "    }\n",
       "\n",
       "    .dataframe tbody tr th {\n",
       "        vertical-align: top;\n",
       "    }\n",
       "\n",
       "    .dataframe thead th {\n",
       "        text-align: right;\n",
       "    }\n",
       "</style>\n",
       "<table border=\"1\" class=\"dataframe\">\n",
       "  <thead>\n",
       "    <tr style=\"text-align: right;\">\n",
       "      <th></th>\n",
       "      <th>label</th>\n",
       "    </tr>\n",
       "  </thead>\n",
       "  <tbody>\n",
       "    <tr>\n",
       "      <td>1988</td>\n",
       "      <td>1</td>\n",
       "    </tr>\n",
       "    <tr>\n",
       "      <td>4393</td>\n",
       "      <td>4</td>\n",
       "    </tr>\n",
       "    <tr>\n",
       "      <td>5800</td>\n",
       "      <td>5</td>\n",
       "    </tr>\n",
       "    <tr>\n",
       "      <td>6489</td>\n",
       "      <td>6</td>\n",
       "    </tr>\n",
       "    <tr>\n",
       "      <td>2323</td>\n",
       "      <td>2</td>\n",
       "    </tr>\n",
       "  </tbody>\n",
       "</table>\n",
       "</div>"
      ],
      "text/plain": [
       "      label\n",
       "1988      1\n",
       "4393      4\n",
       "5800      5\n",
       "6489      6\n",
       "2323      2"
      ]
     },
     "execution_count": 113,
     "metadata": {},
     "output_type": "execute_result"
    }
   ],
   "source": [
    "label.head()"
   ]
  },
  {
   "cell_type": "code",
   "execution_count": 114,
   "metadata": {},
   "outputs": [
    {
     "data": {
      "text/plain": [
       "0.9503167722574192"
      ]
     },
     "execution_count": 114,
     "metadata": {},
     "output_type": "execute_result"
    }
   ],
   "source": [
    "accuracy_score(label['label'], ads['Predicted Label'])"
   ]
  },
  {
   "cell_type": "code",
   "execution_count": 117,
   "metadata": {},
   "outputs": [
    {
     "name": "stdout",
     "output_type": "stream",
     "text": [
      "              precision    recall  f1-score   support\n",
      "\n",
      "           0       0.96      0.98      0.97      1000\n",
      "           1       0.98      0.95      0.97       999\n",
      "           2       0.98      0.97      0.97       998\n",
      "           3       0.96      0.96      0.96      1000\n",
      "           4       0.94      0.98      0.96      1000\n",
      "           5       0.96      0.94      0.95      1000\n",
      "           6       0.94      0.94      0.94      1000\n",
      "           7       0.86      0.95      0.90      1000\n",
      "           8       0.98      0.88      0.92      1000\n",
      "\n",
      "    accuracy                           0.95      8997\n",
      "   macro avg       0.95      0.95      0.95      8997\n",
      "weighted avg       0.95      0.95      0.95      8997\n",
      "\n"
     ]
    }
   ],
   "source": [
    "print(classification_report(label['label'], ads['Predicted Label']))"
   ]
  },
  {
   "cell_type": "markdown",
   "metadata": {},
   "source": [
    "# Nearest Neighbors Search"
   ]
  },
  {
   "cell_type": "code",
   "execution_count": 118,
   "metadata": {},
   "outputs": [
    {
     "data": {
      "text/plain": [
       "NearestNeighbors(algorithm='auto', leaf_size=30, metric='cosine',\n",
       "                 metric_params=None, n_jobs=None, n_neighbors=9, p=2,\n",
       "                 radius=1.0)"
      ]
     },
     "execution_count": 118,
     "metadata": {},
     "output_type": "execute_result"
    }
   ],
   "source": [
    "knn = NearestNeighbors(n_neighbors=9, metric='cosine')\n",
    "knn.fit(dtm)"
   ]
  },
  {
   "cell_type": "code",
   "execution_count": 119,
   "metadata": {},
   "outputs": [
    {
     "data": {
      "text/plain": [
       "array([[   0, 6892, 6337, 5702, 3586, 4441, 2714, 7349, 1280]])"
      ]
     },
     "execution_count": 119,
     "metadata": {},
     "output_type": "execute_result"
    }
   ],
   "source": [
    "knn.kneighbors(dtm[0:1], return_distance=False)"
   ]
  },
  {
   "cell_type": "code",
   "execution_count": 120,
   "metadata": {},
   "outputs": [
    {
     "data": {
      "text/plain": [
       "(array([[0.        , 0.34985285, 0.34985285, 0.34985285, 0.34985285,\n",
       "         0.45031152, 0.45031152, 0.45031152, 0.45031152]]),\n",
       " array([[   0, 6892, 6337, 5702, 3586, 4441, 2714, 7349, 1280]]))"
      ]
     },
     "execution_count": 120,
     "metadata": {},
     "output_type": "execute_result"
    }
   ],
   "source": [
    "knn.kneighbors(dtm[0:1], return_distance=True)"
   ]
  },
  {
   "cell_type": "code",
   "execution_count": 136,
   "metadata": {},
   "outputs": [],
   "source": [
    "input_ad = ['New and Grade A LCD Panel SP24V001 with 90 Days Warranty',\n",
    "            'Kodak 3D Printer Portrait',\n",
    "            'Beats by Dr. Dre - Beats Solo3 Wireless On-Ear Headphones - Beats Pop Collection- POP Indigo(Renewed)',\n",
    "            'Revlon One-Step Hair Dryer & Styler, Black',\n",
    "            \"Leo's Creations Libra Zodiac Ring\",\n",
    "            \"Puma 19.5\"\" The Pace Backpack - Camouflage/Orange with Laptop Sleeve Back Pack\",\n",
    "            \"Lucky Brand Girls' Fashion Denim Jean\",\n",
    "            \"Frozen Sneakers Shoes for Girls with Elsa and Anna\",\n",
    "            \"Dakota Leather Casual Women's Watch\"]\n",
    "input_features = tfidf.transform(input_ad)"
   ]
  },
  {
   "cell_type": "code",
   "execution_count": 137,
   "metadata": {},
   "outputs": [
    {
     "name": "stdout",
     "output_type": "stream",
     "text": [
      "INPUT TEXT =  New and Grade A LCD Panel SP24V001 with 90 Days Warranty \n",
      "\n",
      "\n",
      "Distance =  0.16051742632335853 Neighbor idx =  1015\n",
      "TOPIC :  Printer\n",
      "----------------------------------------------------------------------------------------------------\n",
      "Distance =  0.16051742632335853 Neighbor idx =  1061\n",
      "TOPIC :  Printer\n",
      "----------------------------------------------------------------------------------------------------\n",
      "====================================================================================================\n",
      "\n",
      "INPUT TEXT =  Kodak 3D Printer Portrait \n",
      "\n",
      "\n",
      "Distance =  0.0 Neighbor idx =  1397\n",
      "TOPIC :  Printer\n",
      "----------------------------------------------------------------------------------------------------\n",
      "Distance =  0.5508541966796804 Neighbor idx =  6450\n",
      "TOPIC :  Jeans\n",
      "----------------------------------------------------------------------------------------------------\n",
      "====================================================================================================\n",
      "\n",
      "INPUT TEXT =  Beats by Dr. Dre - Beats Solo3 Wireless On-Ear Headphones - Beats Pop Collection- POP Indigo(Renewed) \n",
      "\n",
      "\n",
      "Distance =  0.31741390133499436 Neighbor idx =  2952\n",
      "TOPIC :  Headphones\n",
      "----------------------------------------------------------------------------------------------------\n",
      "Distance =  0.4576340067873538 Neighbor idx =  8341\n",
      "TOPIC :  Watches\n",
      "----------------------------------------------------------------------------------------------------\n",
      "====================================================================================================\n",
      "\n",
      "INPUT TEXT =  Revlon One-Step Hair Dryer & Styler, Black \n",
      "\n",
      "\n",
      "Distance =  0.5003444403197408 Neighbor idx =  974\n",
      "TOPIC :  Monitors\n",
      "----------------------------------------------------------------------------------------------------\n",
      "Distance =  0.5066304106659186 Neighbor idx =  590\n",
      "TOPIC :  Monitors\n",
      "----------------------------------------------------------------------------------------------------\n",
      "====================================================================================================\n",
      "\n",
      "INPUT TEXT =  Leo's Creations Libra Zodiac Ring \n",
      "\n",
      "\n",
      "Distance =  0.0 Neighbor idx =  8542\n",
      "TOPIC :  Sneakers\n",
      "----------------------------------------------------------------------------------------------------\n",
      "Distance =  0.6067868924888309 Neighbor idx =  1548\n",
      "TOPIC :  Printer\n",
      "----------------------------------------------------------------------------------------------------\n",
      "====================================================================================================\n",
      "\n",
      "INPUT TEXT =  Puma 19.5 The Pace Backpack - Camouflage/Orange with Laptop Sleeve Back Pack \n",
      "\n",
      "\n",
      "Distance =  0.6488126920495314 Neighbor idx =  8726\n",
      "TOPIC :  Watches\n",
      "----------------------------------------------------------------------------------------------------\n",
      "Distance =  0.6507411644560306 Neighbor idx =  2113\n",
      "TOPIC :  Headphones\n",
      "----------------------------------------------------------------------------------------------------\n",
      "====================================================================================================\n",
      "\n",
      "INPUT TEXT =  Lucky Brand Girls' Fashion Denim Jean \n",
      "\n",
      "\n",
      "Distance =  0.423964269892977 Neighbor idx =  690\n",
      "TOPIC :  Monitors\n",
      "----------------------------------------------------------------------------------------------------\n",
      "Distance =  0.4299155376707079 Neighbor idx =  5386\n",
      "TOPIC :  Backpack\n",
      "----------------------------------------------------------------------------------------------------\n",
      "====================================================================================================\n",
      "\n",
      "INPUT TEXT =  Frozen Sneakers Shoes for Girls with Elsa and Anna \n",
      "\n",
      "\n",
      "Distance =  0.5321042135209031 Neighbor idx =  5620\n",
      "TOPIC :  Sneakers\n",
      "----------------------------------------------------------------------------------------------------\n",
      "Distance =  0.6325705891681825 Neighbor idx =  3119\n",
      "TOPIC :  Hair-Care\n",
      "----------------------------------------------------------------------------------------------------\n",
      "====================================================================================================\n",
      "\n",
      "INPUT TEXT =  Dakota Leather Casual Women's Watch \n",
      "\n",
      "\n",
      "Distance =  0.43223343521726054 Neighbor idx =  7918\n",
      "TOPIC :  Sneakers\n",
      "----------------------------------------------------------------------------------------------------\n",
      "Distance =  0.46888636505585846 Neighbor idx =  2491\n",
      "TOPIC :  Headphones\n",
      "----------------------------------------------------------------------------------------------------\n",
      "====================================================================================================\n",
      "\n"
     ]
    }
   ],
   "source": [
    "D, N = knn.kneighbors(input_features, n_neighbors=2, return_distance=True)\n",
    "\n",
    "for input_text, distances, neighbors in zip(input_ad, D, N):\n",
    "    print(\"INPUT TEXT = \", input_text[:200], \"\\n\\n\")\n",
    "    for dist, neighbor_idx in zip(distances, neighbors):\n",
    "        print(\"Distance = \", dist, \"Neighbor idx = \", neighbor_idx)\n",
    "        print('TOPIC : ', ads['Topic Name'][neighbor_idx])\n",
    "        print(\"-\"*100)\n",
    "    print(\"=\"*100)\n",
    "    print()"
   ]
  },
  {
   "cell_type": "code",
   "execution_count": 132,
   "metadata": {},
   "outputs": [
    {
     "data": {
      "text/html": [
       "<div>\n",
       "<style scoped>\n",
       "    .dataframe tbody tr th:only-of-type {\n",
       "        vertical-align: middle;\n",
       "    }\n",
       "\n",
       "    .dataframe tbody tr th {\n",
       "        vertical-align: top;\n",
       "    }\n",
       "\n",
       "    .dataframe thead th {\n",
       "        text-align: right;\n",
       "    }\n",
       "</style>\n",
       "<table border=\"1\" class=\"dataframe\">\n",
       "  <thead>\n",
       "    <tr style=\"text-align: right;\">\n",
       "      <th></th>\n",
       "      <th>ad</th>\n",
       "      <th>label</th>\n",
       "      <th>length</th>\n",
       "      <th>SW</th>\n",
       "      <th>Topic Label</th>\n",
       "      <th>Topic Name</th>\n",
       "      <th>Predicted Label</th>\n",
       "    </tr>\n",
       "  </thead>\n",
       "  <tbody>\n",
       "  </tbody>\n",
       "</table>\n",
       "</div>"
      ],
      "text/plain": [
       "Empty DataFrame\n",
       "Columns: [ad, label, length, SW, Topic Label, Topic Name, Predicted Label]\n",
       "Index: []"
      ]
     },
     "execution_count": 132,
     "metadata": {},
     "output_type": "execute_result"
    }
   ],
   "source": [
    "ads.loc[ads['ad'] == \"Lucky Brand Girls' Fashion Denim Jean\"]"
   ]
  },
  {
   "cell_type": "code",
   "execution_count": null,
   "metadata": {},
   "outputs": [],
   "source": []
  },
  {
   "cell_type": "code",
   "execution_count": null,
   "metadata": {},
   "outputs": [],
   "source": []
  },
  {
   "cell_type": "code",
   "execution_count": null,
   "metadata": {},
   "outputs": [],
   "source": []
  },
  {
   "cell_type": "code",
   "execution_count": null,
   "metadata": {},
   "outputs": [],
   "source": []
  },
  {
   "cell_type": "markdown",
   "metadata": {},
   "source": [
    "# Random Forest"
   ]
  },
  {
   "cell_type": "code",
   "execution_count": 34,
   "metadata": {},
   "outputs": [],
   "source": [
    "from sklearn import pipeline, ensemble, preprocessing, feature_extraction, metrics"
   ]
  },
  {
   "cell_type": "code",
   "execution_count": 35,
   "metadata": {},
   "outputs": [],
   "source": [
    "clf = pipeline.Pipeline([\n",
    "    ('tfidf_vectorizer', feature_extraction.text.TfidfVectorizer(lowercase=True)),\n",
    "    ('rf_classifier', ensemble.RandomForestClassifier(n_estimators=500, verbose=1, n_jobs=1))\n",
    "])"
   ]
  },
  {
   "cell_type": "code",
   "execution_count": 36,
   "metadata": {},
   "outputs": [],
   "source": [
    "X_train, X_test, y_train, y_test = train_test_split(ads['SW'], ads['NMF Topic'], test_size=0.3)"
   ]
  },
  {
   "cell_type": "code",
   "execution_count": 37,
   "metadata": {},
   "outputs": [
    {
     "name": "stderr",
     "output_type": "stream",
     "text": [
      "[Parallel(n_jobs=1)]: Using backend SequentialBackend with 1 concurrent workers.\n",
      "[Parallel(n_jobs=1)]: Done 500 out of 500 | elapsed:    9.7s finished\n"
     ]
    },
    {
     "data": {
      "text/plain": [
       "Pipeline(memory=None,\n",
       "         steps=[('tfidf_vectorizer',\n",
       "                 TfidfVectorizer(analyzer='word', binary=False,\n",
       "                                 decode_error='strict',\n",
       "                                 dtype=<class 'numpy.float64'>,\n",
       "                                 encoding='utf-8', input='content',\n",
       "                                 lowercase=True, max_df=1.0, max_features=None,\n",
       "                                 min_df=1, ngram_range=(1, 1), norm='l2',\n",
       "                                 preprocessor=None, smooth_idf=True,\n",
       "                                 stop_words=None, strip_accents=None,\n",
       "                                 sublinear_tf=False,\n",
       "                                 toke...\n",
       "                 RandomForestClassifier(bootstrap=True, class_weight=None,\n",
       "                                        criterion='gini', max_depth=None,\n",
       "                                        max_features='auto',\n",
       "                                        max_leaf_nodes=None,\n",
       "                                        min_impurity_decrease=0.0,\n",
       "                                        min_impurity_split=None,\n",
       "                                        min_samples_leaf=1, min_samples_split=2,\n",
       "                                        min_weight_fraction_leaf=0.0,\n",
       "                                        n_estimators=500, n_jobs=1,\n",
       "                                        oob_score=False, random_state=None,\n",
       "                                        verbose=1, warm_start=False))],\n",
       "         verbose=False)"
      ]
     },
     "execution_count": 37,
     "metadata": {},
     "output_type": "execute_result"
    }
   ],
   "source": [
    "clf.fit(X_train, y_train)"
   ]
  },
  {
   "cell_type": "code",
   "execution_count": 93,
   "metadata": {},
   "outputs": [
    {
     "name": "stderr",
     "output_type": "stream",
     "text": [
      "[Parallel(n_jobs=1)]: Using backend SequentialBackend with 1 concurrent workers.\n",
      "[Parallel(n_jobs=1)]: Done 500 out of 500 | elapsed:    0.5s finished\n"
     ]
    }
   ],
   "source": [
    "y_pred = clf.predict(X_test)"
   ]
  },
  {
   "cell_type": "code",
   "execution_count": 94,
   "metadata": {},
   "outputs": [
    {
     "data": {
      "text/plain": [
       "array([[270,   1,   0,   0,   0,   0,   1,  11,   0,   1],\n",
       "       [  0, 277,   0,   0,   0,   0,   0,   0,   0,   0],\n",
       "       [  0,   0, 301,   0,   0,   0,   1,   4,   0,   0],\n",
       "       [  0,   1,   0, 277,   0,   1,   2,   4,   0,   1],\n",
       "       [  0,   1,   2,   0, 220,   0,   0,   2,   0,   0],\n",
       "       [  0,   0,   0,   1,   0, 290,   0,   7,   0,   1],\n",
       "       [  4,   0,   0,   8,   0,   0, 307,   4,   0,   1],\n",
       "       [  0,   0,   1,   0,   0,   2,   1, 545,   0,   5],\n",
       "       [  1,   0,   2,   0,   2,   1,   0,   0,  69,   1],\n",
       "       [  5,   1,   1,   2,   0,   2,   2,  23,   0, 313]])"
      ]
     },
     "execution_count": 94,
     "metadata": {},
     "output_type": "execute_result"
    }
   ],
   "source": [
    "metrics.confusion_matrix(y_test, y_pred)"
   ]
  },
  {
   "cell_type": "code",
   "execution_count": 95,
   "metadata": {},
   "outputs": [
    {
     "data": {
      "text/plain": [
       "0.9627516778523489"
      ]
     },
     "execution_count": 95,
     "metadata": {},
     "output_type": "execute_result"
    }
   ],
   "source": [
    "metrics.accuracy_score(y_test, y_pred)"
   ]
  },
  {
   "cell_type": "code",
   "execution_count": 96,
   "metadata": {},
   "outputs": [
    {
     "data": {
      "text/html": [
       "<div>\n",
       "<style scoped>\n",
       "    .dataframe tbody tr th:only-of-type {\n",
       "        vertical-align: middle;\n",
       "    }\n",
       "\n",
       "    .dataframe tbody tr th {\n",
       "        vertical-align: top;\n",
       "    }\n",
       "\n",
       "    .dataframe thead th {\n",
       "        text-align: right;\n",
       "    }\n",
       "</style>\n",
       "<table border=\"1\" class=\"dataframe\">\n",
       "  <thead>\n",
       "    <tr style=\"text-align: right;\">\n",
       "      <th></th>\n",
       "      <th>ad</th>\n",
       "      <th>len</th>\n",
       "      <th>SW</th>\n",
       "      <th>NMF Topic</th>\n",
       "      <th>NMF Topic Label</th>\n",
       "    </tr>\n",
       "  </thead>\n",
       "  <tbody>\n",
       "    <tr>\n",
       "      <td>0</td>\n",
       "      <td>Lenovo ThinkVision L1900p 19-inch Flat Panel L...</td>\n",
       "      <td>79</td>\n",
       "      <td>Lenovo ThinkVision  Flat Panel LCD Monitor Ene...</td>\n",
       "      <td>2</td>\n",
       "      <td>Monitor</td>\n",
       "    </tr>\n",
       "    <tr>\n",
       "      <td>1</td>\n",
       "      <td>Mellewell 14-Inch Single Towel Bar Towel Holde...</td>\n",
       "      <td>108</td>\n",
       "      <td>Mellewell Single Towel Bar Towel Holder Bathro...</td>\n",
       "      <td>7</td>\n",
       "      <td>Bath</td>\n",
       "    </tr>\n",
       "    <tr>\n",
       "      <td>2</td>\n",
       "      <td>Kodak 3D Printer Portrait</td>\n",
       "      <td>25</td>\n",
       "      <td>Kodak Printer Portrait</td>\n",
       "      <td>4</td>\n",
       "      <td>Scanner</td>\n",
       "    </tr>\n",
       "    <tr>\n",
       "      <td>3</td>\n",
       "      <td>Fox Outdoor Products Large Transport Pack</td>\n",
       "      <td>41</td>\n",
       "      <td>Fox Outdoor Products Large Transport Pack</td>\n",
       "      <td>5</td>\n",
       "      <td>Backpack</td>\n",
       "    </tr>\n",
       "    <tr>\n",
       "      <td>4</td>\n",
       "      <td>REEBOK Prisma Sandy Taupe Woman Watch, 34 mm c...</td>\n",
       "      <td>153</td>\n",
       "      <td>REEBOK Prisma Sandy Taupe Woman Watch mm case ...</td>\n",
       "      <td>0</td>\n",
       "      <td>Watches</td>\n",
       "    </tr>\n",
       "    <tr>\n",
       "      <td>...</td>\n",
       "      <td>...</td>\n",
       "      <td>...</td>\n",
       "      <td>...</td>\n",
       "      <td>...</td>\n",
       "      <td>...</td>\n",
       "    </tr>\n",
       "    <tr>\n",
       "      <td>9929</td>\n",
       "      <td>Laptop Backpack for boys &amp; Men &amp; Women,Anti Th...</td>\n",
       "      <td>200</td>\n",
       "      <td>Laptop Backpack boys Men Women Anti Theft Wate...</td>\n",
       "      <td>5</td>\n",
       "      <td>Backpack</td>\n",
       "    </tr>\n",
       "    <tr>\n",
       "      <td>9930</td>\n",
       "      <td>Sceptre 24\" 75Hz Full HD 1080P LED Monitor HDM...</td>\n",
       "      <td>104</td>\n",
       "      <td>Sceptre HD LED Monitor HDMI VGA Build Speakers...</td>\n",
       "      <td>2</td>\n",
       "      <td>Monitor</td>\n",
       "    </tr>\n",
       "    <tr>\n",
       "      <td>9931</td>\n",
       "      <td>Skullcandy Navigator On-ear Headphone with Mic...</td>\n",
       "      <td>54</td>\n",
       "      <td>Skullcandy Navigator ear Headphone Black</td>\n",
       "      <td>1</td>\n",
       "      <td>Headphones</td>\n",
       "    </tr>\n",
       "    <tr>\n",
       "      <td>9932</td>\n",
       "      <td>T-Shirt &amp; Jeans Hugging Cat Backpack in Blush</td>\n",
       "      <td>45</td>\n",
       "      <td>T Shirt Jeans Hugging Cat Backpack Blush</td>\n",
       "      <td>5</td>\n",
       "      <td>Backpack</td>\n",
       "    </tr>\n",
       "    <tr>\n",
       "      <td>9933</td>\n",
       "      <td>Levi's Women's Slimming Straight Jean</td>\n",
       "      <td>37</td>\n",
       "      <td>Levi Women Slimming Straight Jean</td>\n",
       "      <td>3</td>\n",
       "      <td>Jeans</td>\n",
       "    </tr>\n",
       "  </tbody>\n",
       "</table>\n",
       "<p>9932 rows × 5 columns</p>\n",
       "</div>"
      ],
      "text/plain": [
       "                                                     ad  len  \\\n",
       "0     Lenovo ThinkVision L1900p 19-inch Flat Panel L...   79   \n",
       "1     Mellewell 14-Inch Single Towel Bar Towel Holde...  108   \n",
       "2                             Kodak 3D Printer Portrait   25   \n",
       "3             Fox Outdoor Products Large Transport Pack   41   \n",
       "4     REEBOK Prisma Sandy Taupe Woman Watch, 34 mm c...  153   \n",
       "...                                                 ...  ...   \n",
       "9929  Laptop Backpack for boys & Men & Women,Anti Th...  200   \n",
       "9930  Sceptre 24\" 75Hz Full HD 1080P LED Monitor HDM...  104   \n",
       "9931  Skullcandy Navigator On-ear Headphone with Mic...   54   \n",
       "9932      T-Shirt & Jeans Hugging Cat Backpack in Blush   45   \n",
       "9933              Levi's Women's Slimming Straight Jean   37   \n",
       "\n",
       "                                                     SW  NMF Topic  \\\n",
       "0     Lenovo ThinkVision  Flat Panel LCD Monitor Ene...          2   \n",
       "1     Mellewell Single Towel Bar Towel Holder Bathro...          7   \n",
       "2                                Kodak Printer Portrait          4   \n",
       "3             Fox Outdoor Products Large Transport Pack          5   \n",
       "4     REEBOK Prisma Sandy Taupe Woman Watch mm case ...          0   \n",
       "...                                                 ...        ...   \n",
       "9929  Laptop Backpack boys Men Women Anti Theft Wate...          5   \n",
       "9930  Sceptre HD LED Monitor HDMI VGA Build Speakers...          2   \n",
       "9931           Skullcandy Navigator ear Headphone Black          1   \n",
       "9932           T Shirt Jeans Hugging Cat Backpack Blush          5   \n",
       "9933                  Levi Women Slimming Straight Jean          3   \n",
       "\n",
       "     NMF Topic Label  \n",
       "0            Monitor  \n",
       "1               Bath  \n",
       "2            Scanner  \n",
       "3           Backpack  \n",
       "4            Watches  \n",
       "...              ...  \n",
       "9929        Backpack  \n",
       "9930         Monitor  \n",
       "9931      Headphones  \n",
       "9932        Backpack  \n",
       "9933           Jeans  \n",
       "\n",
       "[9932 rows x 5 columns]"
      ]
     },
     "execution_count": 96,
     "metadata": {},
     "output_type": "execute_result"
    }
   ],
   "source": [
    "ads"
   ]
  },
  {
   "cell_type": "code",
   "execution_count": null,
   "metadata": {},
   "outputs": [],
   "source": []
  },
  {
   "cell_type": "code",
   "execution_count": null,
   "metadata": {},
   "outputs": [],
   "source": []
  },
  {
   "cell_type": "code",
   "execution_count": null,
   "metadata": {},
   "outputs": [],
   "source": []
  },
  {
   "cell_type": "code",
   "execution_count": null,
   "metadata": {},
   "outputs": [],
   "source": []
  },
  {
   "cell_type": "markdown",
   "metadata": {},
   "source": [
    "# WORD VECTORS"
   ]
  },
  {
   "cell_type": "markdown",
   "metadata": {},
   "source": [
    "## Identifying similar vectors in each document\n",
    "The best way to expose vector relationships is through the `.similarity()` method of Doc tokens."
   ]
  },
  {
   "cell_type": "code",
   "execution_count": 20,
   "metadata": {},
   "outputs": [],
   "source": [
    "# removing multiple occurances\n",
    "def remove_occ(duplicate):\n",
    "    \"\"\"\n",
    "    Function for removing multiple occurances of the same word vectors\n",
    "    \"\"\"\n",
    "    test_for_occurancies = []\n",
    "    final_sim = [] \n",
    "\n",
    "    for num in duplicate: \n",
    "        if num[2] not in test_for_occurancies: \n",
    "            test_for_occurancies.append(num[2])\n",
    "            final_sim.append(num) \n",
    "    return final_sim"
   ]
  },
  {
   "cell_type": "code",
   "execution_count": 21,
   "metadata": {},
   "outputs": [],
   "source": [
    "def word_vectors(text):\n",
    "    global cc\n",
    "    tokens = nlp(text)\n",
    "    \n",
    "    # list of simular vectors - each word compared with one another to present a similuraity probability\n",
    "    sims = []\n",
    "    # counts number of words i.e. tokens in document\n",
    "    counter = 0\n",
    "    \n",
    "    # Iterate through token combinations:\n",
    "    for token1 in tokens:\n",
    "        counter += 1\n",
    "        for token2 in tokens:\n",
    "            sims.append([token1.text, token2.text, token1.similarity(token2)])\n",
    "    \n",
    "    \n",
    "    # sorting by similarity for better value manipulation later on\n",
    "    sorted_sims = sorted(sims, key=lambda sim: sim[2], reverse=True)\n",
    "    \n",
    "    # removing vectors with  a perfect (1.0) similarity \n",
    "    for sim in sorted_sims:\n",
    "        if sim[2] == 1.0:\n",
    "            sorted_sims.remove(sim)\n",
    "            \n",
    "            \n",
    "    # word vector with no perfect simularities and duplicates\n",
    "    word_vector = remove_occ(sorted_sims)\n",
    "    \n",
    "    \"\"\" \n",
    "    taking only first few words out of all of them\n",
    "    deciding on feaure: len(word_vector)/counter)\n",
    "    for instance 36 / 9 = 4\n",
    "    \"\"\"\n",
    "    test_for_occurancies = []\n",
    "    final_words = []\n",
    "\n",
    "    for i in range(int(len(word_vector)/counter)):\n",
    "        if word_vector[i][0] not in test_for_occurancies: \n",
    "            test_for_occurancies.append(word_vector[i][0])\n",
    "            final_words.append(word_vector[i][0])\n",
    "        if word_vector[i][1] not in test_for_occurancies:\n",
    "            test_for_occurancies.append(word_vector[i][1])\n",
    "            final_words.append(word_vector[i][1])\n",
    "\n",
    "    return(final_words)"
   ]
  },
  {
   "cell_type": "code",
   "execution_count": 22,
   "metadata": {},
   "outputs": [],
   "source": [
    "ads['word_vectors'] = ads['SW'].apply(word_vectors)"
   ]
  },
  {
   "cell_type": "code",
   "execution_count": 23,
   "metadata": {},
   "outputs": [
    {
     "data": {
      "text/html": [
       "<div>\n",
       "<style scoped>\n",
       "    .dataframe tbody tr th:only-of-type {\n",
       "        vertical-align: middle;\n",
       "    }\n",
       "\n",
       "    .dataframe tbody tr th {\n",
       "        vertical-align: top;\n",
       "    }\n",
       "\n",
       "    .dataframe thead th {\n",
       "        text-align: right;\n",
       "    }\n",
       "</style>\n",
       "<table border=\"1\" class=\"dataframe\">\n",
       "  <thead>\n",
       "    <tr style=\"text-align: right;\">\n",
       "      <th></th>\n",
       "      <th>ad</th>\n",
       "      <th>len</th>\n",
       "      <th>SW</th>\n",
       "      <th>word_vectors</th>\n",
       "    </tr>\n",
       "  </thead>\n",
       "  <tbody>\n",
       "    <tr>\n",
       "      <td>0</td>\n",
       "      <td>KYBOE! Power Stainless Steel Quartz Watch with...</td>\n",
       "      <td>93</td>\n",
       "      <td>KYBOE Power Stainless Steel Quartz Watch Silic...</td>\n",
       "      <td>[Power, Stainless, Steel, Quartz]</td>\n",
       "    </tr>\n",
       "    <tr>\n",
       "      <td>1</td>\n",
       "      <td>Sceptre C275B-144MN 27\" Curved 144Hz Gaming LE...</td>\n",
       "      <td>138</td>\n",
       "      <td>Sceptre Curved Gaming LED Monitor AMD FreeSync...</td>\n",
       "      <td>[Curved, HDMI, DVI, DisplayPort, Curvature, AMD]</td>\n",
       "    </tr>\n",
       "    <tr>\n",
       "      <td>2</td>\n",
       "      <td>CRAFTSMAN Adjustable Wrench, 10-Inch (CMMT81623)</td>\n",
       "      <td>48</td>\n",
       "      <td>CRAFTSMAN Adjustable Wrench</td>\n",
       "      <td>[Adjustable]</td>\n",
       "    </tr>\n",
       "    <tr>\n",
       "      <td>3</td>\n",
       "      <td>Buxton Men's Bowtie Drawstring Bucket Backpack...</td>\n",
       "      <td>62</td>\n",
       "      <td>Buxton Men Bowtie Drawstring Bucket Backpack B...</td>\n",
       "      <td>[Men, Drawstring, Backpack, Bucket]</td>\n",
       "    </tr>\n",
       "    <tr>\n",
       "      <td>4</td>\n",
       "      <td>CURT 28112 Marine Boat Trailer Jack with 6-Inc...</td>\n",
       "      <td>90</td>\n",
       "      <td>CURT Marine Boat Trailer Jack Wheel lbs Inches...</td>\n",
       "      <td>[Marine, lbs, Inches, Boat, Jack, Wheel]</td>\n",
       "    </tr>\n",
       "    <tr>\n",
       "      <td>...</td>\n",
       "      <td>...</td>\n",
       "      <td>...</td>\n",
       "      <td>...</td>\n",
       "      <td>...</td>\n",
       "    </tr>\n",
       "    <tr>\n",
       "      <td>9929</td>\n",
       "      <td>Ladies Sekonda Editions Watch 2327</td>\n",
       "      <td>34</td>\n",
       "      <td>Ladies Sekonda Editions Watch</td>\n",
       "      <td>[Sekonda]</td>\n",
       "    </tr>\n",
       "    <tr>\n",
       "      <td>9930</td>\n",
       "      <td>NYDJ Women's Dylan Skinny Ankle in Modern Edit...</td>\n",
       "      <td>69</td>\n",
       "      <td>NYDJ Women Dylan Skinny Ankle Modern Edit Fit ...</td>\n",
       "      <td>[Women, Skinny, Denim, Fit, Sure, Ankle, Stretch]</td>\n",
       "    </tr>\n",
       "    <tr>\n",
       "      <td>9931</td>\n",
       "      <td>Arisen Phantom Bluetooth Headphones [Deep Bass...</td>\n",
       "      <td>195</td>\n",
       "      <td>Arisen Phantom Bluetooth Headphones Deep Bass ...</td>\n",
       "      <td>[Phantom, Earbuds, Earphones, Headphones, Head...</td>\n",
       "    </tr>\n",
       "    <tr>\n",
       "      <td>9932</td>\n",
       "      <td>Burton Harbor 4 Piece Bath Hardware Accessorie...</td>\n",
       "      <td>114</td>\n",
       "      <td>Burton Harbor Piece Bath Hardware Accessories ...</td>\n",
       "      <td>[Harbor, Toilet, Towel, Bath, Piece, Paper, Ha...</td>\n",
       "    </tr>\n",
       "    <tr>\n",
       "      <td>9933</td>\n",
       "      <td>QIELIZI Tissue Box Cover,PU Leather Magnetic C...</td>\n",
       "      <td>170</td>\n",
       "      <td>QIELIZI Tissue Box Cover PU Leather Magnetic C...</td>\n",
       "      <td>[Tissue, Tissues, Bathroom, Bedroom, Dressers,...</td>\n",
       "    </tr>\n",
       "  </tbody>\n",
       "</table>\n",
       "<p>9932 rows × 4 columns</p>\n",
       "</div>"
      ],
      "text/plain": [
       "                                                     ad  len  \\\n",
       "0     KYBOE! Power Stainless Steel Quartz Watch with...   93   \n",
       "1     Sceptre C275B-144MN 27\" Curved 144Hz Gaming LE...  138   \n",
       "2      CRAFTSMAN Adjustable Wrench, 10-Inch (CMMT81623)   48   \n",
       "3     Buxton Men's Bowtie Drawstring Bucket Backpack...   62   \n",
       "4     CURT 28112 Marine Boat Trailer Jack with 6-Inc...   90   \n",
       "...                                                 ...  ...   \n",
       "9929                 Ladies Sekonda Editions Watch 2327   34   \n",
       "9930  NYDJ Women's Dylan Skinny Ankle in Modern Edit...   69   \n",
       "9931  Arisen Phantom Bluetooth Headphones [Deep Bass...  195   \n",
       "9932  Burton Harbor 4 Piece Bath Hardware Accessorie...  114   \n",
       "9933  QIELIZI Tissue Box Cover,PU Leather Magnetic C...  170   \n",
       "\n",
       "                                                     SW  \\\n",
       "0     KYBOE Power Stainless Steel Quartz Watch Silic...   \n",
       "1     Sceptre Curved Gaming LED Monitor AMD FreeSync...   \n",
       "2                           CRAFTSMAN Adjustable Wrench   \n",
       "3     Buxton Men Bowtie Drawstring Bucket Backpack B...   \n",
       "4     CURT Marine Boat Trailer Jack Wheel lbs Inches...   \n",
       "...                                                 ...   \n",
       "9929                      Ladies Sekonda Editions Watch   \n",
       "9930  NYDJ Women Dylan Skinny Ankle Modern Edit Fit ...   \n",
       "9931  Arisen Phantom Bluetooth Headphones Deep Bass ...   \n",
       "9932  Burton Harbor Piece Bath Hardware Accessories ...   \n",
       "9933  QIELIZI Tissue Box Cover PU Leather Magnetic C...   \n",
       "\n",
       "                                           word_vectors  \n",
       "0                     [Power, Stainless, Steel, Quartz]  \n",
       "1      [Curved, HDMI, DVI, DisplayPort, Curvature, AMD]  \n",
       "2                                          [Adjustable]  \n",
       "3                   [Men, Drawstring, Backpack, Bucket]  \n",
       "4              [Marine, lbs, Inches, Boat, Jack, Wheel]  \n",
       "...                                                 ...  \n",
       "9929                                          [Sekonda]  \n",
       "9930  [Women, Skinny, Denim, Fit, Sure, Ankle, Stretch]  \n",
       "9931  [Phantom, Earbuds, Earphones, Headphones, Head...  \n",
       "9932  [Harbor, Toilet, Towel, Bath, Piece, Paper, Ha...  \n",
       "9933  [Tissue, Tissues, Bathroom, Bedroom, Dressers,...  \n",
       "\n",
       "[9932 rows x 4 columns]"
      ]
     },
     "execution_count": 23,
     "metadata": {},
     "output_type": "execute_result"
    }
   ],
   "source": [
    "ads"
   ]
  }
 ],
 "metadata": {
  "kernelspec": {
   "display_name": "Python 3",
   "language": "python",
   "name": "python3"
  },
  "language_info": {
   "codemirror_mode": {
    "name": "ipython",
    "version": 3
   },
   "file_extension": ".py",
   "mimetype": "text/x-python",
   "name": "python",
   "nbconvert_exporter": "python",
   "pygments_lexer": "ipython3",
   "version": "3.7.4"
  }
 },
 "nbformat": 4,
 "nbformat_minor": 2
}
