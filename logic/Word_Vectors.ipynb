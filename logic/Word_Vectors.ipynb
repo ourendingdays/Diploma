{
 "cells": [
  {
   "cell_type": "code",
   "execution_count": 1,
   "metadata": {},
   "outputs": [],
   "source": [
    "import pandas as pd\n",
    "import numpy as np\n",
    "import spacy\n",
    "import re\n",
    "\n",
    "import warnings\n",
    "warnings.filterwarnings('ignore')"
   ]
  },
  {
   "cell_type": "code",
   "execution_count": 2,
   "metadata": {},
   "outputs": [
    {
     "data": {
      "text/html": [
       "<div>\n",
       "<style scoped>\n",
       "    .dataframe tbody tr th:only-of-type {\n",
       "        vertical-align: middle;\n",
       "    }\n",
       "\n",
       "    .dataframe tbody tr th {\n",
       "        vertical-align: top;\n",
       "    }\n",
       "\n",
       "    .dataframe thead th {\n",
       "        text-align: right;\n",
       "    }\n",
       "</style>\n",
       "<table border=\"1\" class=\"dataframe\">\n",
       "  <thead>\n",
       "    <tr style=\"text-align: right;\">\n",
       "      <th></th>\n",
       "      <th>ad</th>\n",
       "    </tr>\n",
       "  </thead>\n",
       "  <tbody>\n",
       "    <tr>\n",
       "      <td>count</td>\n",
       "      <td>10000</td>\n",
       "    </tr>\n",
       "    <tr>\n",
       "      <td>unique</td>\n",
       "      <td>9934</td>\n",
       "    </tr>\n",
       "    <tr>\n",
       "      <td>top</td>\n",
       "      <td>USB Printer with 3 Year Printer Warranty</td>\n",
       "    </tr>\n",
       "    <tr>\n",
       "      <td>freq</td>\n",
       "      <td>6</td>\n",
       "    </tr>\n",
       "  </tbody>\n",
       "</table>\n",
       "</div>"
      ],
      "text/plain": [
       "                                              ad\n",
       "count                                      10000\n",
       "unique                                      9934\n",
       "top     USB Printer with 3 Year Printer Warranty\n",
       "freq                                           6"
      ]
     },
     "execution_count": 2,
     "metadata": {},
     "output_type": "execute_result"
    }
   ],
   "source": [
    "df = pd.read_csv('amazon_ten_topic_data.csv', names=['ad'])\n",
    "df.dropna(inplace=True)\n",
    "df = df.sample(frac=1)\n",
    "df.describe()"
   ]
  },
  {
   "cell_type": "code",
   "execution_count": 3,
   "metadata": {},
   "outputs": [
    {
     "data": {
      "text/html": [
       "<div>\n",
       "<style scoped>\n",
       "    .dataframe tbody tr th:only-of-type {\n",
       "        vertical-align: middle;\n",
       "    }\n",
       "\n",
       "    .dataframe tbody tr th {\n",
       "        vertical-align: top;\n",
       "    }\n",
       "\n",
       "    .dataframe thead th {\n",
       "        text-align: right;\n",
       "    }\n",
       "</style>\n",
       "<table border=\"1\" class=\"dataframe\">\n",
       "  <thead>\n",
       "    <tr style=\"text-align: right;\">\n",
       "      <th></th>\n",
       "      <th>ad</th>\n",
       "    </tr>\n",
       "  </thead>\n",
       "  <tbody>\n",
       "    <tr>\n",
       "      <td>count</td>\n",
       "      <td>9934</td>\n",
       "    </tr>\n",
       "    <tr>\n",
       "      <td>unique</td>\n",
       "      <td>9934</td>\n",
       "    </tr>\n",
       "    <tr>\n",
       "      <td>top</td>\n",
       "      <td>Justice Wristlet Tiny Mini Mermaid Backpack</td>\n",
       "    </tr>\n",
       "    <tr>\n",
       "      <td>freq</td>\n",
       "      <td>1</td>\n",
       "    </tr>\n",
       "  </tbody>\n",
       "</table>\n",
       "</div>"
      ],
      "text/plain": [
       "                                                 ad\n",
       "count                                          9934\n",
       "unique                                         9934\n",
       "top     Justice Wristlet Tiny Mini Mermaid Backpack\n",
       "freq                                              1"
      ]
     },
     "execution_count": 3,
     "metadata": {},
     "output_type": "execute_result"
    }
   ],
   "source": [
    "ads = pd.DataFrame(df['ad'].unique(), columns = ['ad'])\n",
    "ads.describe()"
   ]
  },
  {
   "cell_type": "code",
   "execution_count": 4,
   "metadata": {},
   "outputs": [
    {
     "data": {
      "text/html": [
       "<div>\n",
       "<style scoped>\n",
       "    .dataframe tbody tr th:only-of-type {\n",
       "        vertical-align: middle;\n",
       "    }\n",
       "\n",
       "    .dataframe tbody tr th {\n",
       "        vertical-align: top;\n",
       "    }\n",
       "\n",
       "    .dataframe thead th {\n",
       "        text-align: right;\n",
       "    }\n",
       "</style>\n",
       "<table border=\"1\" class=\"dataframe\">\n",
       "  <thead>\n",
       "    <tr style=\"text-align: right;\">\n",
       "      <th></th>\n",
       "      <th>ad</th>\n",
       "    </tr>\n",
       "  </thead>\n",
       "  <tbody>\n",
       "    <tr>\n",
       "      <td>0</td>\n",
       "      <td>Rip Curl Women's Quartz Sport Watch with Silic...</td>\n",
       "    </tr>\n",
       "    <tr>\n",
       "      <td>1</td>\n",
       "      <td>MSI Full HD Non-Glare 1ms 1920 x 1080 144Hz Re...</td>\n",
       "    </tr>\n",
       "    <tr>\n",
       "      <td>2</td>\n",
       "      <td>WOMENS DK. SAND BLUE COLOR DENIM STRETCH JEANS...</td>\n",
       "    </tr>\n",
       "    <tr>\n",
       "      <td>3</td>\n",
       "      <td>Phoenix Home Kenitra Contemporary Side Chair w...</td>\n",
       "    </tr>\n",
       "    <tr>\n",
       "      <td>4</td>\n",
       "      <td>Pangda 10 Pack Tyre Gauge Tyre Tread Depth Gau...</td>\n",
       "    </tr>\n",
       "  </tbody>\n",
       "</table>\n",
       "</div>"
      ],
      "text/plain": [
       "                                                  ad\n",
       "0  Rip Curl Women's Quartz Sport Watch with Silic...\n",
       "1  MSI Full HD Non-Glare 1ms 1920 x 1080 144Hz Re...\n",
       "2  WOMENS DK. SAND BLUE COLOR DENIM STRETCH JEANS...\n",
       "3  Phoenix Home Kenitra Contemporary Side Chair w...\n",
       "4  Pangda 10 Pack Tyre Gauge Tyre Tread Depth Gau..."
      ]
     },
     "execution_count": 4,
     "metadata": {},
     "output_type": "execute_result"
    }
   ],
   "source": [
    "ads.head()"
   ]
  },
  {
   "cell_type": "code",
   "execution_count": 5,
   "metadata": {},
   "outputs": [
    {
     "data": {
      "text/html": [
       "<div>\n",
       "<style scoped>\n",
       "    .dataframe tbody tr th:only-of-type {\n",
       "        vertical-align: middle;\n",
       "    }\n",
       "\n",
       "    .dataframe tbody tr th {\n",
       "        vertical-align: top;\n",
       "    }\n",
       "\n",
       "    .dataframe thead th {\n",
       "        text-align: right;\n",
       "    }\n",
       "</style>\n",
       "<table border=\"1\" class=\"dataframe\">\n",
       "  <thead>\n",
       "    <tr style=\"text-align: right;\">\n",
       "      <th></th>\n",
       "      <th>ad</th>\n",
       "    </tr>\n",
       "  </thead>\n",
       "  <tbody>\n",
       "    <tr>\n",
       "      <td>9929</td>\n",
       "      <td>K-Swiss Women's Court CHESWICK SDE Trainers, (...</td>\n",
       "    </tr>\n",
       "    <tr>\n",
       "      <td>9930</td>\n",
       "      <td>National Public Seating 1300 Series Steel Fram...</td>\n",
       "    </tr>\n",
       "    <tr>\n",
       "      <td>9931</td>\n",
       "      <td>DL1961 Women's Bella Vintage Slim Jeans</td>\n",
       "    </tr>\n",
       "    <tr>\n",
       "      <td>9932</td>\n",
       "      <td>mDesign Foaming Glass Soap Dispenser Pump for ...</td>\n",
       "    </tr>\n",
       "    <tr>\n",
       "      <td>9933</td>\n",
       "      <td>Christian Van Sant Women's CV0212 Sultry Analo...</td>\n",
       "    </tr>\n",
       "  </tbody>\n",
       "</table>\n",
       "</div>"
      ],
      "text/plain": [
       "                                                     ad\n",
       "9929  K-Swiss Women's Court CHESWICK SDE Trainers, (...\n",
       "9930  National Public Seating 1300 Series Steel Fram...\n",
       "9931            DL1961 Women's Bella Vintage Slim Jeans\n",
       "9932  mDesign Foaming Glass Soap Dispenser Pump for ...\n",
       "9933  Christian Van Sant Women's CV0212 Sultry Analo..."
      ]
     },
     "execution_count": 5,
     "metadata": {},
     "output_type": "execute_result"
    }
   ],
   "source": [
    "ads.tail()"
   ]
  },
  {
   "cell_type": "code",
   "execution_count": 6,
   "metadata": {},
   "outputs": [],
   "source": [
    "nlp = spacy.load('en_core_web_lg')"
   ]
  },
  {
   "cell_type": "code",
   "execution_count": 7,
   "metadata": {},
   "outputs": [],
   "source": [
    "def stopwords(text):\n",
    "    \"\"\"\n",
    "    Function for removing \n",
    "        - stopwords,\n",
    "        - punctuation,\n",
    "        - numbers / digits\n",
    "        - words containing numbers\n",
    "    \"\"\"\n",
    "    doc = nlp(text)\n",
    "    for token in doc:\n",
    "        text = [token.text for token in doc if \n",
    "                not token.is_stop \n",
    "                and not token.is_punct \n",
    "                and not token.is_digit]\n",
    "        \n",
    "        \n",
    "    # joining the list of words with space separator\n",
    "    joined_text = \" \".join(text)\n",
    "    # removing words that contain any sort of numbers, like 'G2420-BK' or 'G1W40A#BGJ '\n",
    "    re_text = re.sub(r\"\\S*\\d\\S*\", '', joined_text).strip()\n",
    "    \n",
    "    return re_text"
   ]
  },
  {
   "cell_type": "code",
   "execution_count": 8,
   "metadata": {},
   "outputs": [],
   "source": [
    "ads['SW'] = ads['ad'].apply(stopwords)"
   ]
  },
  {
   "cell_type": "code",
   "execution_count": 9,
   "metadata": {},
   "outputs": [
    {
     "data": {
      "text/html": [
       "<div>\n",
       "<style scoped>\n",
       "    .dataframe tbody tr th:only-of-type {\n",
       "        vertical-align: middle;\n",
       "    }\n",
       "\n",
       "    .dataframe tbody tr th {\n",
       "        vertical-align: top;\n",
       "    }\n",
       "\n",
       "    .dataframe thead th {\n",
       "        text-align: right;\n",
       "    }\n",
       "</style>\n",
       "<table border=\"1\" class=\"dataframe\">\n",
       "  <thead>\n",
       "    <tr style=\"text-align: right;\">\n",
       "      <th></th>\n",
       "      <th>ad</th>\n",
       "      <th>SW</th>\n",
       "    </tr>\n",
       "  </thead>\n",
       "  <tbody>\n",
       "    <tr>\n",
       "      <td>0</td>\n",
       "      <td>Rip Curl Women's Quartz Sport Watch with Silic...</td>\n",
       "      <td>Rip Curl Women Quartz Sport Watch Silicone Str...</td>\n",
       "    </tr>\n",
       "    <tr>\n",
       "      <td>1</td>\n",
       "      <td>MSI Full HD Non-Glare 1ms 1920 x 1080 144Hz Re...</td>\n",
       "      <td>MSI HD Non Glare  x  Refresh Rate USB DP HDMI ...</td>\n",
       "    </tr>\n",
       "    <tr>\n",
       "      <td>2</td>\n",
       "      <td>WOMENS DK. SAND BLUE COLOR DENIM STRETCH JEANS...</td>\n",
       "      <td>WOMENS DK SAND BLUE COLOR DENIM STRETCH JEANS</td>\n",
       "    </tr>\n",
       "    <tr>\n",
       "      <td>3</td>\n",
       "      <td>Phoenix Home Kenitra Contemporary Side Chair w...</td>\n",
       "      <td>Phoenix Home Kenitra Contemporary Chair Maple ...</td>\n",
       "    </tr>\n",
       "    <tr>\n",
       "      <td>4</td>\n",
       "      <td>Pangda 10 Pack Tyre Gauge Tyre Tread Depth Gau...</td>\n",
       "      <td>Pangda Pack Tyre Gauge Tyre Tread Depth Gauge ...</td>\n",
       "    </tr>\n",
       "  </tbody>\n",
       "</table>\n",
       "</div>"
      ],
      "text/plain": [
       "                                                  ad  \\\n",
       "0  Rip Curl Women's Quartz Sport Watch with Silic...   \n",
       "1  MSI Full HD Non-Glare 1ms 1920 x 1080 144Hz Re...   \n",
       "2  WOMENS DK. SAND BLUE COLOR DENIM STRETCH JEANS...   \n",
       "3  Phoenix Home Kenitra Contemporary Side Chair w...   \n",
       "4  Pangda 10 Pack Tyre Gauge Tyre Tread Depth Gau...   \n",
       "\n",
       "                                                  SW  \n",
       "0  Rip Curl Women Quartz Sport Watch Silicone Str...  \n",
       "1  MSI HD Non Glare  x  Refresh Rate USB DP HDMI ...  \n",
       "2      WOMENS DK SAND BLUE COLOR DENIM STRETCH JEANS  \n",
       "3  Phoenix Home Kenitra Contemporary Chair Maple ...  \n",
       "4  Pangda Pack Tyre Gauge Tyre Tread Depth Gauge ...  "
      ]
     },
     "execution_count": 9,
     "metadata": {},
     "output_type": "execute_result"
    }
   ],
   "source": [
    "ads.head()"
   ]
  },
  {
   "cell_type": "code",
   "execution_count": 10,
   "metadata": {},
   "outputs": [
    {
     "name": "stdout",
     "output_type": "stream",
     "text": [
      "45  ==== WOMENS DK SAND BLUE COLOR DENIM STRETCH JEANS\n"
     ]
    }
   ],
   "source": [
    "print(len(ads['SW'][2]), ' ====', ads['SW'][2])"
   ]
  },
  {
   "cell_type": "code",
   "execution_count": 11,
   "metadata": {},
   "outputs": [
    {
     "data": {
      "text/plain": [
       "'Phoenix Home Kenitra Contemporary Chair Maple Wood Legs Snow White Set'"
      ]
     },
     "execution_count": 11,
     "metadata": {},
     "output_type": "execute_result"
    }
   ],
   "source": [
    "ads['SW']=ads['SW'].str.replace(\"  \",\" \")\n",
    "ads['SW'][3]"
   ]
  },
  {
   "cell_type": "markdown",
   "metadata": {},
   "source": [
    "# W2V"
   ]
  },
  {
   "cell_type": "markdown",
   "metadata": {},
   "source": [
    "## Identifying similar vectors in each document\n",
    "The best way to expose vector relationships is through the `.similarity()` method of Doc tokens."
   ]
  },
  {
   "cell_type": "code",
   "execution_count": 12,
   "metadata": {},
   "outputs": [],
   "source": [
    "# removing multiple occurances\n",
    "def remove_occ(duplicate):\n",
    "    \"\"\"\n",
    "    Function for removing multiple occurances of the same word vectors\n",
    "    \"\"\"\n",
    "    test_for_occurancies = []\n",
    "    final_sim = [] \n",
    "\n",
    "    for num in duplicate: \n",
    "        if num[2] not in test_for_occurancies: \n",
    "            test_for_occurancies.append(num[2])\n",
    "            final_sim.append(num) \n",
    "    return final_sim"
   ]
  },
  {
   "cell_type": "code",
   "execution_count": 13,
   "metadata": {},
   "outputs": [],
   "source": [
    "def word_vectors(text):\n",
    "    global cc\n",
    "    tokens = nlp(text)\n",
    "    \n",
    "    # list of simular vectors - each word compared with one another to present a similuraity probability\n",
    "    sims = []\n",
    "    # counts number of words i.e. tokens in document\n",
    "    counter = 0\n",
    "    \n",
    "    # Iterate through token combinations:\n",
    "    for token1 in tokens:\n",
    "        counter += 1\n",
    "        for token2 in tokens:\n",
    "            sims.append([token1.text, token2.text, token1.similarity(token2)])\n",
    "    \n",
    "    \n",
    "    # sorting by similarity for better value manipulation later on\n",
    "    sorted_sims = sorted(sims, key=lambda sim: sim[2], reverse=True)\n",
    "    \n",
    "    # removing vectors with  a perfect (1.0) similarity \n",
    "    for sim in sorted_sims:\n",
    "        if sim[2] == 1.0:\n",
    "            sorted_sims.remove(sim)\n",
    "            \n",
    "            \n",
    "    # word vector with no perfect simularities and duplicates\n",
    "    word_vector = remove_occ(sorted_sims)\n",
    "    \n",
    "    \"\"\" \n",
    "    taking only first few words out of all of them\n",
    "    deciding on feaure: len(word_vector)/counter)\n",
    "    for instance 36 / 9 = 4\n",
    "    \"\"\"\n",
    "    test_for_occurancies = []\n",
    "    final_words = []\n",
    "\n",
    "    for i in range(int(len(word_vector)/counter)):\n",
    "        if word_vector[i][0] not in test_for_occurancies: \n",
    "            test_for_occurancies.append(word_vector[i][0])\n",
    "            final_words.append(word_vector[i][0])\n",
    "        if word_vector[i][1] not in test_for_occurancies:\n",
    "            test_for_occurancies.append(word_vector[i][1])\n",
    "            final_words.append(word_vector[i][1])\n",
    "\n",
    "    return(final_words)"
   ]
  },
  {
   "cell_type": "markdown",
   "metadata": {},
   "source": [
    "### removing documents with whitespaces"
   ]
  },
  {
   "cell_type": "code",
   "execution_count": 14,
   "metadata": {},
   "outputs": [
    {
     "data": {
      "text/html": [
       "<div>\n",
       "<style scoped>\n",
       "    .dataframe tbody tr th:only-of-type {\n",
       "        vertical-align: middle;\n",
       "    }\n",
       "\n",
       "    .dataframe tbody tr th {\n",
       "        vertical-align: top;\n",
       "    }\n",
       "\n",
       "    .dataframe thead th {\n",
       "        text-align: right;\n",
       "    }\n",
       "</style>\n",
       "<table border=\"1\" class=\"dataframe\">\n",
       "  <thead>\n",
       "    <tr style=\"text-align: right;\">\n",
       "      <th></th>\n",
       "      <th>ad</th>\n",
       "      <th>SW</th>\n",
       "    </tr>\n",
       "  </thead>\n",
       "  <tbody>\n",
       "    <tr>\n",
       "      <td>count</td>\n",
       "      <td>9932</td>\n",
       "      <td>9932</td>\n",
       "    </tr>\n",
       "    <tr>\n",
       "      <td>unique</td>\n",
       "      <td>9932</td>\n",
       "      <td>9597</td>\n",
       "    </tr>\n",
       "    <tr>\n",
       "      <td>top</td>\n",
       "      <td>Justice Wristlet Tiny Mini Mermaid Backpack</td>\n",
       "      <td>New Grade LCD Panel Days Warranty</td>\n",
       "    </tr>\n",
       "    <tr>\n",
       "      <td>freq</td>\n",
       "      <td>1</td>\n",
       "      <td>10</td>\n",
       "    </tr>\n",
       "  </tbody>\n",
       "</table>\n",
       "</div>"
      ],
      "text/plain": [
       "                                                 ad  \\\n",
       "count                                          9932   \n",
       "unique                                         9932   \n",
       "top     Justice Wristlet Tiny Mini Mermaid Backpack   \n",
       "freq                                              1   \n",
       "\n",
       "                                       SW  \n",
       "count                                9932  \n",
       "unique                               9597  \n",
       "top     New Grade LCD Panel Days Warranty  \n",
       "freq                                   10  "
      ]
     },
     "execution_count": 14,
     "metadata": {},
     "output_type": "execute_result"
    }
   ],
   "source": [
    "ads['SW'].replace('', np.nan, inplace=True)\n",
    "ads.dropna(subset=['SW'], inplace=True)\n",
    "ads.describe()"
   ]
  },
  {
   "cell_type": "code",
   "execution_count": 15,
   "metadata": {},
   "outputs": [],
   "source": [
    "ads['word_vectors'] = ads['SW'].apply(word_vectors)"
   ]
  },
  {
   "cell_type": "code",
   "execution_count": 16,
   "metadata": {},
   "outputs": [
    {
     "data": {
      "text/html": [
       "<div>\n",
       "<style scoped>\n",
       "    .dataframe tbody tr th:only-of-type {\n",
       "        vertical-align: middle;\n",
       "    }\n",
       "\n",
       "    .dataframe tbody tr th {\n",
       "        vertical-align: top;\n",
       "    }\n",
       "\n",
       "    .dataframe thead th {\n",
       "        text-align: right;\n",
       "    }\n",
       "</style>\n",
       "<table border=\"1\" class=\"dataframe\">\n",
       "  <thead>\n",
       "    <tr style=\"text-align: right;\">\n",
       "      <th></th>\n",
       "      <th>ad</th>\n",
       "      <th>SW</th>\n",
       "      <th>word_vectors</th>\n",
       "    </tr>\n",
       "  </thead>\n",
       "  <tbody>\n",
       "    <tr>\n",
       "      <td>0</td>\n",
       "      <td>Rip Curl Women's Quartz Sport Watch with Silic...</td>\n",
       "      <td>Rip Curl Women Quartz Sport Watch Silicone Str...</td>\n",
       "      <td>[Curl, Women, White, Silicone, Strap, Sport]</td>\n",
       "    </tr>\n",
       "    <tr>\n",
       "      <td>1</td>\n",
       "      <td>MSI Full HD Non-Glare 1ms 1920 x 1080 144Hz Re...</td>\n",
       "      <td>MSI HD Non Glare x Refresh Rate USB DP HDMI Sm...</td>\n",
       "      <td>[HD, USB, HDMI, Headset, MSI, DP]</td>\n",
       "    </tr>\n",
       "    <tr>\n",
       "      <td>2</td>\n",
       "      <td>WOMENS DK. SAND BLUE COLOR DENIM STRETCH JEANS...</td>\n",
       "      <td>WOMENS DK SAND BLUE COLOR DENIM STRETCH JEANS</td>\n",
       "      <td>[DK, DENIM, JEANS, BLUE, COLOR]</td>\n",
       "    </tr>\n",
       "    <tr>\n",
       "      <td>3</td>\n",
       "      <td>Phoenix Home Kenitra Contemporary Side Chair w...</td>\n",
       "      <td>Phoenix Home Kenitra Contemporary Chair Maple ...</td>\n",
       "      <td>[Home, Maple, Wood, Chair, Legs, White]</td>\n",
       "    </tr>\n",
       "    <tr>\n",
       "      <td>4</td>\n",
       "      <td>Pangda 10 Pack Tyre Gauge Tyre Tread Depth Gau...</td>\n",
       "      <td>Pangda Pack Tyre Gauge Tyre Tread Depth Gauge ...</td>\n",
       "      <td>[Pack, Tyre, Tread]</td>\n",
       "    </tr>\n",
       "    <tr>\n",
       "      <td>...</td>\n",
       "      <td>...</td>\n",
       "      <td>...</td>\n",
       "      <td>...</td>\n",
       "    </tr>\n",
       "    <tr>\n",
       "      <td>9929</td>\n",
       "      <td>K-Swiss Women's Court CHESWICK SDE Trainers, (...</td>\n",
       "      <td>K Swiss Women Court CHESWICK SDE Trainers Blac...</td>\n",
       "      <td>[Swiss, Black, White, Women]</td>\n",
       "    </tr>\n",
       "    <tr>\n",
       "      <td>9930</td>\n",
       "      <td>National Public Seating 1300 Series Steel Fram...</td>\n",
       "      <td>National Public Seating Series Steel Frame Uph...</td>\n",
       "      <td>[Public, Seat, Chair, Seating, Upholstered, Na...</td>\n",
       "    </tr>\n",
       "    <tr>\n",
       "      <td>9931</td>\n",
       "      <td>DL1961 Women's Bella Vintage Slim Jeans</td>\n",
       "      <td>Women Bella Vintage Slim Jeans</td>\n",
       "      <td>[Bella, Slim, Jeans]</td>\n",
       "    </tr>\n",
       "    <tr>\n",
       "      <td>9932</td>\n",
       "      <td>mDesign Foaming Glass Soap Dispenser Pump for ...</td>\n",
       "      <td>mDesign Foaming Glass Soap Dispenser Pump Kitc...</td>\n",
       "      <td>[Foaming, Kitchen, Bathroom, Vanities, Dispens...</td>\n",
       "    </tr>\n",
       "    <tr>\n",
       "      <td>9933</td>\n",
       "      <td>Christian Van Sant Women's CV0212 Sultry Analo...</td>\n",
       "      <td>Christian Van Sant Women Sultry Analog Display...</td>\n",
       "      <td>[Van, Quartz, Silver, Swiss, Watch, Christian,...</td>\n",
       "    </tr>\n",
       "  </tbody>\n",
       "</table>\n",
       "<p>9932 rows × 3 columns</p>\n",
       "</div>"
      ],
      "text/plain": [
       "                                                     ad  \\\n",
       "0     Rip Curl Women's Quartz Sport Watch with Silic...   \n",
       "1     MSI Full HD Non-Glare 1ms 1920 x 1080 144Hz Re...   \n",
       "2     WOMENS DK. SAND BLUE COLOR DENIM STRETCH JEANS...   \n",
       "3     Phoenix Home Kenitra Contemporary Side Chair w...   \n",
       "4     Pangda 10 Pack Tyre Gauge Tyre Tread Depth Gau...   \n",
       "...                                                 ...   \n",
       "9929  K-Swiss Women's Court CHESWICK SDE Trainers, (...   \n",
       "9930  National Public Seating 1300 Series Steel Fram...   \n",
       "9931            DL1961 Women's Bella Vintage Slim Jeans   \n",
       "9932  mDesign Foaming Glass Soap Dispenser Pump for ...   \n",
       "9933  Christian Van Sant Women's CV0212 Sultry Analo...   \n",
       "\n",
       "                                                     SW  \\\n",
       "0     Rip Curl Women Quartz Sport Watch Silicone Str...   \n",
       "1     MSI HD Non Glare x Refresh Rate USB DP HDMI Sm...   \n",
       "2         WOMENS DK SAND BLUE COLOR DENIM STRETCH JEANS   \n",
       "3     Phoenix Home Kenitra Contemporary Chair Maple ...   \n",
       "4     Pangda Pack Tyre Gauge Tyre Tread Depth Gauge ...   \n",
       "...                                                 ...   \n",
       "9929  K Swiss Women Court CHESWICK SDE Trainers Blac...   \n",
       "9930  National Public Seating Series Steel Frame Uph...   \n",
       "9931                     Women Bella Vintage Slim Jeans   \n",
       "9932  mDesign Foaming Glass Soap Dispenser Pump Kitc...   \n",
       "9933  Christian Van Sant Women Sultry Analog Display...   \n",
       "\n",
       "                                           word_vectors  \n",
       "0          [Curl, Women, White, Silicone, Strap, Sport]  \n",
       "1                     [HD, USB, HDMI, Headset, MSI, DP]  \n",
       "2                       [DK, DENIM, JEANS, BLUE, COLOR]  \n",
       "3               [Home, Maple, Wood, Chair, Legs, White]  \n",
       "4                                   [Pack, Tyre, Tread]  \n",
       "...                                                 ...  \n",
       "9929                       [Swiss, Black, White, Women]  \n",
       "9930  [Public, Seat, Chair, Seating, Upholstered, Na...  \n",
       "9931                               [Bella, Slim, Jeans]  \n",
       "9932  [Foaming, Kitchen, Bathroom, Vanities, Dispens...  \n",
       "9933  [Van, Quartz, Silver, Swiss, Watch, Christian,...  \n",
       "\n",
       "[9932 rows x 3 columns]"
      ]
     },
     "execution_count": 16,
     "metadata": {},
     "output_type": "execute_result"
    }
   ],
   "source": [
    "ads"
   ]
  },
  {
   "cell_type": "code",
   "execution_count": null,
   "metadata": {},
   "outputs": [],
   "source": []
  },
  {
   "cell_type": "code",
   "execution_count": null,
   "metadata": {},
   "outputs": [],
   "source": []
  }
 ],
 "metadata": {
  "kernelspec": {
   "display_name": "Python 3",
   "language": "python",
   "name": "python3"
  },
  "language_info": {
   "codemirror_mode": {
    "name": "ipython",
    "version": 3
   },
   "file_extension": ".py",
   "mimetype": "text/x-python",
   "name": "python",
   "nbconvert_exporter": "python",
   "pygments_lexer": "ipython3",
   "version": "3.7.4"
  }
 },
 "nbformat": 4,
 "nbformat_minor": 2
}
